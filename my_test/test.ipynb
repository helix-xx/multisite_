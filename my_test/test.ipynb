{
 "cells": [
  {
   "cell_type": "code",
   "execution_count": 1,
   "metadata": {},
   "outputs": [
    {
     "name": "stdout",
     "output_type": "stream",
     "text": [
      "[array([[0., 0., 0., 0., 0.],\n",
      "       [0., 0., 0., 0., 0.]], dtype=float32), array([[0., 0., 0., 0., 0.],\n",
      "       [0., 0., 0., 0., 0.]], dtype=float32), array([[0., 0., 0., 0., 0.],\n",
      "       [0., 0., 0., 0., 0.]], dtype=float32), array([[0., 0., 0., 0., 0.],\n",
      "       [0., 0., 0., 0., 0.]], dtype=float32), array([[0., 0., 0., 0., 0.],\n",
      "       [0., 0., 0., 0., 0.]], dtype=float32)]\n",
      "5\n"
     ]
    }
   ],
   "source": [
    "import numpy as np\n",
    "model_count = 5\n",
    "y_pred = [np.zeros((len(x), model_count), dtype=np.float32) for x in [(1,1),(1,1),(1,1),(1,1),(1,1)]]\n",
    "print(y_pred)\n",
    "print(model_count)"
   ]
  },
  {
   "cell_type": "code",
   "execution_count": null,
   "metadata": {},
   "outputs": [],
   "source": [
    "import psutil\n",
    "\n",
    "# 获取CPU核心数量\n",
    "num_cores = psutil.cpu_count(logical=False)\n",
    "\n",
    "# 循环获取每个CPU核的利用率\n",
    "for i in range(num_cores):\n",
    "    cpu_percent = psutil.cpu_percent(interval=1, percpu=True)\n",
    "    print(f\"CPU核心 {i+1} 的利用率: {cpu_percent[i]}%\")"
   ]
  },
  {
   "cell_type": "code",
   "execution_count": null,
   "metadata": {},
   "outputs": [],
   "source": [
    "import psutil\n",
    "import os \n",
    "import subprocess\n",
    "cpu_list = [10,11,12,13]\n",
    "\n",
    "psutil.Process().cpu_affinity(cpu_list)\n",
    "process = subprocess.Popen(['python3','simple_test.py'])\n",
    "\n",
    "while process.poll() is None:\n",
    "    # cpu_percent = psutil.Process(process.pid).cpu_percent(interval=1)\n",
    "    cpu_percent = psutil.cpu_percent(interval=1,percpu=True)\n",
    "    for core,percent in enumerate(cpu_percent):\n",
    "        if core in cpu_list:\n",
    "            print(f\"核心{core}的利用率: {percent}%\")\n",
    "    print(f\"新程序在CPU上的利用率: {cpu_percent}%\")\n",
    "    \n",
    "    # 等待新程序运行结束\n",
    "process.wait()"
   ]
  },
  {
   "cell_type": "code",
   "execution_count": 6,
   "metadata": {},
   "outputs": [],
   "source": [
    "from colmena.thinker import BaseThinker, result_processor, task_submitter, ResourceCounter\n",
    "from colmena.queue import PipeQueues\n",
    "from colmena.models import Result\n",
    "\n",
    "from colmena.task_server import ParslTaskServer\n",
    "from config import csecluster_RT_scale as make_config\n",
    "\n",
    "\"\"\"Example from the README\"\"\"\n",
    "\n",
    "##  Building the Thinker\n",
    "from random import random\n",
    "\n",
    "# Build queues to connect Thinker and Doer\n",
    "queues = PipeQueues()\n",
    "\n",
    "\n",
    "class Thinker(BaseThinker):\n",
    "\n",
    "    def __init__(self, queues, num_workers: int, num_guesses=100):\n",
    "        super().__init__(queues, ResourceCounter(num_workers))\n",
    "        self.best_result = None\n",
    "        self.answer = -10  # A (bad) starting guess\n",
    "        self.num_guesses = num_guesses\n",
    "\n",
    "    @task_submitter()\n",
    "    def submit_task(self):\n",
    "        \"\"\"Submit a new guess close to the current best whenever a node is free\"\"\"\n",
    "        self.queues.send_inputs(self.answer - 1 + 2 * random(), method='simulate')\n",
    "\n",
    "    @result_processor()\n",
    "    def store_result(self, result: Result):\n",
    "        \"\"\"Update best guess whenever a simulation finishes\"\"\"\n",
    "        assert result.success, result.failure_info\n",
    "        # Update the best result\n",
    "        if self.best_result is None or result.value > self.best_result:\n",
    "            self.answer = result.args[0]\n",
    "            self.best_result = result.value\n",
    "        self.rec.release()  # Mark that a node is now free\n",
    "\n",
    "        # Determine if we are done\n",
    "        self.num_guesses -= 1\n",
    "        if self.num_guesses <= 0:\n",
    "            self.done.set()\n",
    "\n",
    "\n",
    "thinker = Thinker(queues, 8)\n",
    "\n",
    "### Building the doer\n",
    "# from parsl.configs.htex_local import config  # Configuration to run locally\n",
    "from colmena.task_server import ParslTaskServer\n",
    "config = make_config(\"./\")\n",
    "\n",
    "\n",
    "# Define your function\n",
    "def simulate(x: float) -> float:\n",
    "    return - x ** 2 + 4\n",
    "\n",
    "\n",
    "# Make the Doer\n",
    "doer = ParslTaskServer([simulate], queues, config)\n",
    "\n",
    "# print(doer.config.executors)\n",
    "# gpu_executor = [executor for executor in doer.config.executors if executor.label == 'gpu'][0]\n",
    "# print(gpu_executor)\n",
    "a=doer.config.executors\n",
    "## Running the application\n",
    "# Launch the Thinker and doer\n",
    "# doer.start()\n",
    "# thinker.start()\n",
    "\n",
    "# # Wait until it finishes\n",
    "# thinker.join()\n",
    "# queues.send_kill_signal()\n",
    "\n",
    "# # Done!\n",
    "# print(f'Answer: f({thinker.answer:.2f}) = {thinker.best_result:.2f}')"
   ]
  },
  {
   "cell_type": "code",
   "execution_count": 6,
   "metadata": {},
   "outputs": [
    {
     "name": "stdout",
     "output_type": "stream",
     "text": [
      "process_worker_pool.py debug 4 --available-accelerators [0, 1, 2, 3] \n",
      "process_worker_pool.py debug 4 --available-accelerators 1 \n"
     ]
    }
   ],
   "source": [
    "debug = \"debug\"\n",
    "max_workers = 4\n",
    "accelerators = [0,1,2,3]\n",
    "block_id = 1\n",
    "l_cmd = (\"process_worker_pool.py {debug} {max_workers} \"\n",
    "                               \"--available-accelerators {accelerators} \")\n",
    "cmd = l_cmd.format(debug=debug, max_workers=max_workers, accelerators = accelerators)\n",
    "print(cmd)\n",
    "l_cmd = l_cmd.replace(\"{accelerators}\", str(block_id))\n",
    "launch_cmd = l_cmd.format(debug=debug, max_workers=max_workers)\n",
    "print(launch_cmd)\n",
    "\n"
   ]
  },
  {
   "cell_type": "code",
   "execution_count": 12,
   "metadata": {},
   "outputs": [
    {
     "name": "stdout",
     "output_type": "stream",
     "text": [
      "463bbc41-d4bf-44d5-8b37-d13f6fba739d\n",
      "1456.556674147956\n",
      "audit\n",
      "1321.1727346020052\n",
      "audit\n",
      "1092.2011626909953\n",
      "audit\n",
      "1026.4671867439756\n",
      "audit\n",
      "784.6231484480668\n",
      "audit\n",
      "610.6691218329361\n",
      "audit\n",
      "543.8459851499647\n",
      "audit\n",
      "537.9019012070494\n",
      "audit\n",
      "521.3457018379122\n",
      "audit\n",
      "486.8927287670085\n",
      "active\n",
      "481.90589529590216\n",
      "audit\n",
      "454.6108865479473\n",
      "active\n",
      "400.35233247396536\n",
      "active\n",
      "390.35370990703814\n",
      "audit\n",
      "296.3696234700037\n",
      "audit\n",
      "210.88306554197334\n",
      "audit\n",
      "127.46185084490571\n",
      "audit\n",
      "106.35893604997545\n",
      "active\n",
      "95.27356048696674\n",
      "audit\n",
      "44.38919379503932\n",
      "audit\n"
     ]
    }
   ],
   "source": [
    "import json\n",
    "import os\n",
    "from pathlib import Path\n",
    "file = Path('/home/lizz_lab/cse12232433/project/colmena/multisite_/finetuning-surrogates/runs/20230920_204954/dft-md-23Sep20-125003-d91b7e/simulation-results.json')\n",
    "\n",
    "tasks = []\n",
    "with open(file, 'r') as file:\n",
    "    # 逐行读取文件内容\n",
    "    for line in file:\n",
    "        # 解析 JSON 数据\n",
    "        task_info = []\n",
    "        data = json.loads(line)\n",
    "        task_info.append(data['task_id'])\n",
    "        task_info.append(data['task_info'])\n",
    "        task_info.append(data['time_running'])\n",
    "        tasks.append(task_info)\n",
    "\n",
    "print(data['task_id'])\n",
    "sorted_tasks = sorted(tasks, key=lambda x: x[2], reverse=True)\n",
    "for i in range(len(tasks)):\n",
    "    # print(sorted_tasks[i][1]['xyz'])\n",
    "    # print(tasks[i][2])\n",
    "    print(sorted_tasks[i][2])\n",
    "    print(sorted_tasks[i][1]['task_type'])"
   ]
  },
  {
   "cell_type": "code",
   "execution_count": 5,
   "metadata": {},
   "outputs": [
    {
     "name": "stdout",
     "output_type": "stream",
     "text": [
      "{'traj_id': 596, 'task_type': 'audit', 'ml_energy': -20779.595703125, 'xyz': '30\\n\\nO       0.331852683959424      0.480711861922854      0.105067261566631\\nH       0.462329708669922      0.562497232115342      1.037376249778990\\nH       0.856985603967945     -0.278753974365024     -0.160776906750427\\nO      -2.286932512619368      0.784293758116149      0.076791792428081\\nH      -1.329573545324915      0.622167012761134      0.031146113084200\\nH      -2.505146775742542      0.346527731319279      0.953387037182454\\nO       1.343960507357838      3.067183081667494     -0.565682845061429\\nH       1.901836245672660      2.938733285854801      0.247007947395470\\nH       0.900014038272543      2.201382133369581     -0.607900321909409\\nO       0.336688452734651     -0.355465815231568      2.853729148554045\\nH       0.783013367282798      0.268315846016201      3.471594956470549\\nH      -0.544003004523993     -0.022824808684152      2.602039887493498\\nO       0.912067557974026     -0.002058835301094     -2.745437513430731\\nH       1.037419483037069     -0.878508343670341     -2.358033946008769\\nH      -0.036394776345535      0.121787798609614     -2.752495134782884\\nO       1.559641298168925     -2.160717536100076     -0.297453191491384\\nH       1.874338686669590     -2.579243980224613      0.509681211421145\\nH       0.766503727056363     -2.757129920005484     -0.508983508183564\\nO      -1.871624249426142     -0.464416189128178     -2.738272498286193\\nH      -1.943426659613693      0.194381330307381     -2.031493353256432\\nH      -2.687722894075777     -0.935915040220434     -2.575773681584816\\nO      -2.366876261767420     -0.596336162626706      2.540165949279527\\nH      -2.354450720233522     -1.599685100077701      2.438566715580326\\nH      -2.952668751382987     -0.464151797386990      3.392307184366189\\nO       3.300341176805670      2.865453261998150      1.538538550169782\\nH       2.888340215970231      3.577600964241273      2.018621316174853\\nH       4.219663004763635      3.163247794133289      1.362485315504355\\nO      -0.759786546324103     -3.321764432766741     -0.754991580144600\\nH      -1.390185611488994     -3.362150806876425     -0.010336194772714\\nH      -0.966110808706509     -4.079505571423478     -1.409830977163992\\n', 'dft_energy': -20779.886675164318, 'difference': 0.009699067977271625}\n"
     ]
    }
   ],
   "source": [
    "# a=tasks[0]\n",
    "# print(a[1])"
   ]
  },
  {
   "cell_type": "code",
   "execution_count": 9,
   "metadata": {},
   "outputs": [
    {
     "data": {
      "image/png": "[encoded data removed]",
      "text/plain": [
       "<Figure size 640x480 with 1 Axes>"
      ]
     },
     "metadata": {},
     "output_type": "display_data"
    }
   ],
   "source": [
    "from matplotlib import pyplot as plt\n",
    "from matplotlib.ticker import MaxNLocator\n",
    "\n",
    "y = [229, 140, 84, 53, 36, 31]\n",
    "x = [1, 2, 4, 8, 16, 32]\n",
    "\n",
    "# 绘制柱状图\n",
    "# plt.bar(x, y)\n",
    "plt.plot(x, y, marker='o', color='red', linestyle='--', label='Completion Time vs. Threads', alpha=0.5)\n",
    "# 可选：添加标题和标签\n",
    "# plt.title('Simulation performance')\n",
    "plt.xlabel('Threads',fontsize=18)\n",
    "plt.ylabel('Completion time (s)',fontsize=18)\n",
    "plt.legend(loc='upper right', fontsize=16)\n",
    "\n",
    "# 标出每个柱的值\n",
    "for i in range(len(x)):\n",
    "    plt.text(x[i], y[i], str(y[i]), ha='center', va='bottom')\n",
    "\n",
    "ax = plt.gca()  # 获取当前坐标轴对象\n",
    "ax.yaxis.set_major_locator(MaxNLocator(nbins=5))  # 设置x轴刻度的最大数量为5个\n",
    "plt.xticks(x, x, fontsize=18)\n",
    "plt.yticks(fontsize=18)\n",
    "plt.savefig('simulation performance.png')\n",
    "plt.show()\n",
    "\n",
    "\n"
   ]
  },
  {
   "cell_type": "code",
   "execution_count": null,
   "metadata": {},
   "outputs": [],
   "source": [
    "import os\n",
    "current_path = os.path.dirname(os.path.abspath(__file__))"
   ]
  },
  {
   "cell_type": "code",
   "execution_count": 3,
   "metadata": {},
   "outputs": [
    {
     "name": "stdout",
     "output_type": "stream",
     "text": [
      "-29096.40234375\n"
     ]
    }
   ],
   "source": [
    "# test atoms length\n",
    "from dataclasses import dataclass\n",
    "from typing import Optional\n",
    "import ase\n",
    "from fff.simulation.utils import read_from_string, write_to_string\n",
    "\n",
    "@dataclass\n",
    "class SimulationTask:\n",
    "    atoms: ase.Atoms  # Structure to be run\n",
    "    traj_id: int  # Which trajectory this came from\n",
    "    ml_eng: float  # Energy predicted from machine learning model\n",
    "    ml_std: Optional[float] = None  # Uncertainty of the model\n",
    "import pickle\n",
    "path = r'/home/yxx/work/project/colmena/multisite_/my_test/non_linear_temp/task_queue_audit'\n",
    "with open(path, 'rb') as f:\n",
    "    task_queue_audit = pickle.load(f)\n",
    "    \n",
    "print(task_queue_audit[0].ml_eng)"
   ]
  },
  {
   "cell_type": "code",
   "execution_count": 18,
   "metadata": {},
   "outputs": [
    {
     "name": "stdout",
     "output_type": "stream",
     "text": [
      "42\n"
     ]
    }
   ],
   "source": [
    "atoms = task_queue_audit[0].atoms\n",
    "atoms.set_center_of_mass([0,0,0])\n",
    "xyz = write_to_string(atoms, 'xyz')\n",
    "print(xyz.split('\\n')[0])"
   ]
  },
  {
   "cell_type": "code",
   "execution_count": 2,
   "metadata": {},
   "outputs": [
    {
     "name": "stdout",
     "output_type": "stream",
     "text": [
      "{'calc': 'psi4', 'method': 'pbe0-d3', 'basis': 'aug-cc-pvdz', 'num_threads': 1}\n",
      "{'calc': 'psi4', 'method': 'pbe0-d3', 'basis': 'aug-cc-pvdz', 'num_threads': 2}\n"
     ]
    }
   ],
   "source": [
    "calc = dict(calc='psi4', method='pbe0-d3', basis='aug-cc-pvdz', num_threads=1)\n",
    "print(calc)\n",
    "calc['num_threads'] = 2\n",
    "print(calc)"
   ]
  },
  {
   "cell_type": "code",
   "execution_count": 5,
   "metadata": {},
   "outputs": [
    {
     "name": "stdout",
     "output_type": "stream",
     "text": [
      "Function timed out\n",
      "Function timed out\n"
     ]
    },
    {
     "ename": "RuntimeError",
     "evalue": "threads can only be started once",
     "output_type": "error",
     "traceback": [
      "\u001b[0;31m---------------------------------------------------------------------------\u001b[0m",
      "\u001b[0;31mRuntimeError\u001b[0m                              Traceback (most recent call last)",
      "Input \u001b[0;32mIn [5]\u001b[0m, in \u001b[0;36m<cell line: 45>\u001b[0;34m()\u001b[0m\n\u001b[1;32m     41\u001b[0m \u001b[38;5;28;01mdef\u001b[39;00m \u001b[38;5;21mmain\u001b[39m():\n\u001b[1;32m     42\u001b[0m     \u001b[38;5;66;03m# 调用函数\u001b[39;00m\n\u001b[1;32m     43\u001b[0m     my_function()\n\u001b[0;32m---> 45\u001b[0m \u001b[43mmain\u001b[49m\u001b[43m(\u001b[49m\u001b[43m)\u001b[49m\n",
      "Input \u001b[0;32mIn [5]\u001b[0m, in \u001b[0;36mmain\u001b[0;34m()\u001b[0m\n\u001b[1;32m     41\u001b[0m \u001b[38;5;28;01mdef\u001b[39;00m \u001b[38;5;21mmain\u001b[39m():\n\u001b[1;32m     42\u001b[0m     \u001b[38;5;66;03m# 调用函数\u001b[39;00m\n\u001b[0;32m---> 43\u001b[0m     \u001b[43mmy_function\u001b[49m\u001b[43m(\u001b[49m\u001b[43m)\u001b[49m\n",
      "Input \u001b[0;32mIn [5]\u001b[0m, in \u001b[0;36mmy_function\u001b[0;34m()\u001b[0m\n\u001b[1;32m     16\u001b[0m \u001b[38;5;28;01mfor\u001b[39;00m i \u001b[38;5;129;01min\u001b[39;00m \u001b[38;5;28mrange\u001b[39m(\u001b[38;5;241m10\u001b[39m):\n\u001b[1;32m     17\u001b[0m     \u001b[38;5;28;01mtry\u001b[39;00m:\n\u001b[1;32m     18\u001b[0m         \u001b[38;5;66;03m# 启动计时器\u001b[39;00m\n\u001b[0;32m---> 19\u001b[0m         \u001b[43mtimer\u001b[49m\u001b[38;5;241;43m.\u001b[39;49m\u001b[43mstart\u001b[49m\u001b[43m(\u001b[49m\u001b[43m)\u001b[49m\n\u001b[1;32m     21\u001b[0m         \u001b[38;5;66;03m# 执行函数操作\u001b[39;00m\n\u001b[1;32m     22\u001b[0m         \u001b[38;5;66;03m# TODO: 在这里编写你的函数代码\u001b[39;00m\n\u001b[1;32m     23\u001b[0m         sleep(\u001b[38;5;241m1.5\u001b[39m)\n",
      "File \u001b[0;32m~/miniconda3/envs/multisite/lib/python3.9/threading.py:894\u001b[0m, in \u001b[0;36mThread.start\u001b[0;34m(self)\u001b[0m\n\u001b[1;32m    891\u001b[0m     \u001b[38;5;28;01mraise\u001b[39;00m \u001b[38;5;167;01mRuntimeError\u001b[39;00m(\u001b[38;5;124m\"\u001b[39m\u001b[38;5;124mthread.__init__() not called\u001b[39m\u001b[38;5;124m\"\u001b[39m)\n\u001b[1;32m    893\u001b[0m \u001b[38;5;28;01mif\u001b[39;00m \u001b[38;5;28mself\u001b[39m\u001b[38;5;241m.\u001b[39m_started\u001b[38;5;241m.\u001b[39mis_set():\n\u001b[0;32m--> 894\u001b[0m     \u001b[38;5;28;01mraise\u001b[39;00m \u001b[38;5;167;01mRuntimeError\u001b[39;00m(\u001b[38;5;124m\"\u001b[39m\u001b[38;5;124mthreads can only be started once\u001b[39m\u001b[38;5;124m\"\u001b[39m)\n\u001b[1;32m    896\u001b[0m \u001b[38;5;28;01mwith\u001b[39;00m _active_limbo_lock:\n\u001b[1;32m    897\u001b[0m     _limbo[\u001b[38;5;28mself\u001b[39m] \u001b[38;5;241m=\u001b[39m \u001b[38;5;28mself\u001b[39m\n",
      "\u001b[0;31mRuntimeError\u001b[0m: threads can only be started once"
     ]
    }
   ],
   "source": [
    "# test timer callback\n",
    "import threading\n",
    "from time import sleep\n",
    "\n",
    "def my_function():\n",
    "    # 创建事件对象\n",
    "    event = threading.Event()\n",
    "\n",
    "    def timeout_callback():\n",
    "        # 设置事件对象，表示超时\n",
    "        event.set()\n",
    "        print(\"Function timed out\")\n",
    "\n",
    "    # 创建计时器，设置超时时间为10秒，并指定超时回调函数\n",
    "    timer = threading.Timer(1, timeout_callback)\n",
    "    for i in range(10):\n",
    "        try:\n",
    "            # 启动计时器\n",
    "            timer.start()\n",
    "\n",
    "            # 执行函数操作\n",
    "            # TODO: 在这里编写你的函数代码\n",
    "            sleep(1.5)\n",
    "\n",
    "        finally:\n",
    "            # 取消计时器\n",
    "            timer.cancel()\n",
    "\n",
    "        # 检查事件对象是否被设置（即是否超时）\n",
    "        if event.is_set():\n",
    "            # 执行超时后的操作\n",
    "            # TODO: 在这里编写超时后的代码\n",
    "            print(\"Function timed out\")\n",
    "            pass\n",
    "        else:\n",
    "            # 函数执行正常完成\n",
    "            # TODO: 在这里编写函数正常完成后的代码\n",
    "            print(\"Function completed normally\")\n",
    "            pass\n",
    "\n",
    "def main():\n",
    "    # 调用函数\n",
    "    my_function()\n",
    "\n",
    "main()"
   ]
  },
  {
   "cell_type": "code",
   "execution_count": 9,
   "metadata": {},
   "outputs": [
    {
     "name": "stdout",
     "output_type": "stream",
     "text": [
      "[(12, 5.850254774093628), (15, 7.936183929443359), (18, 14.705122470855713), (21, 16.75410395860672), (24, 21.41688847541809), (27, 24.086347818374634), (30, 31.15443527698517), (33, 40.727830992804634), (36, 48.143983125686646), (39, 59.534986893335976), (42, 72.19054274559021), (45, 83.08321416378021), (48, 97.04547603925069), (51, 107.61373349598476), (54, 133.2091362476349), (57, 133.03949835896492), (60, 174.3393987417221), (63, 203.84687733650208), (66, 245.14138960838318), (69, 267.0610399246216), (72, 330.6697278022766), (75, 359.20263490080833)]\n",
      "{1: 459.49200105667114, 2: 308.5443150997162, 4: 178.95574569702148, 8: 114.76378226280212, 12: 88.14041328430176, 16: 76.19267272949219, 20: 68.74859023094177, 24: 64.68302941322327, 28: 63.44424271583557, 32: 66.51880431175232, 36: 69.2843005657196, 40: 70.93301844596863, 44: 69.64240193367004, 48: 70.88759207725525, 52: 69.63654398918152, 56: 71.50614309310913, 60: 71.06448984146118, 64: 72.96044158935547}\n"
     ]
    }
   ],
   "source": [
    "import pickle\n",
    "from pathlib import Path\n",
    "out_dir = Path('/home/yxx/work/project/colmena/multisite_/my_test/ga_simulation_test')\n",
    "# with open(out_dir / 'task_queue_audit.pkl', 'rb') as f:\n",
    "#     task_queue_audit = pickle.load(f)\n",
    "with open(out_dir / 'length_time', 'rb') as fp:\n",
    "    length_times = pickle.load(fp)\n",
    "with open(out_dir / 'cpu_time', 'rb') as fp:\n",
    "    core_times = pickle.load(fp)\n",
    "print(length_times)\n",
    "print(core_times)"
   ]
  },
  {
   "cell_type": "code",
   "execution_count": 1,
   "metadata": {},
   "outputs": [
    {
     "name": "stdout",
     "output_type": "stream",
     "text": [
      "(('name',), {'a': 1, 'cpus': 3})\n"
     ]
    }
   ],
   "source": [
    "from colmena.models import Result\n",
    "\n",
    "result = Result(\n",
    "    (('name',), {'a':1}),\n",
    "    method=\"method\",\n",
    "    keep_inputs=True,\n",
    "    task_info={\"resources\": {\"num_cpus\": 1, \"num_gpus\": 0}},\n",
    ")\n",
    "result.inputs[1]['cpus'] = 3\n",
    "print(result.inputs)"
   ]
  },
  {
   "cell_type": "code",
   "execution_count": null,
   "metadata": {},
   "outputs": [],
   "source": []
  }
 ],
 "metadata": {
  "kernelspec": {
   "display_name": "multisite",
   "language": "python",
   "name": "python3"
  },
  "language_info": {
   "codemirror_mode": {
    "name": "ipython",
    "version": 3
   },
   "file_extension": ".py",
   "mimetype": "text/x-python",
   "name": "python",
   "nbconvert_exporter": "python",
   "pygments_lexer": "ipython3",
   "version": "3.9.16"
  },
  "orig_nbformat": 4
 },
 "nbformat": 4,
 "nbformat_minor": 2
}
