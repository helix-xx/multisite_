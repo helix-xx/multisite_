{
 "cells": [
  {
   "cell_type": "code",
   "execution_count": 1,
   "metadata": {},
   "outputs": [],
   "source": [
    "from pdb import run\n",
    "from fff.simulation import run_calculator\n",
    "from fff.simulation.utils import read_from_string, write_to_string\n",
    "from _pytest.fixtures import fixture\n",
    "import ase\n",
    "from ase.build import molecule\n",
    "from dataclasses import dataclass\n",
    "from pathlib import Path\n",
    "from typing  import Dict, Any, List, Optional\n",
    "import os\n",
    "import psutil\n",
    "from functools import partial, update_wrapper\n",
    "import json\n",
    "import pickle\n",
    "import time\n",
    "import multiprocessing as mp\n",
    "import matplotlib.pyplot as plt\n",
    "import scipy\n",
    "from sklearn.preprocessing import PolynomialFeatures\n",
    "from sklearn.linear_model import LinearRegression\n",
    "import matplotlib.pyplot as plt\n",
    "import numpy as np\n",
    "import math"
   ]
  },
  {
   "cell_type": "code",
   "execution_count": 2,
   "metadata": {},
   "outputs": [],
   "source": [
    "## data structures classes\n",
    "@dataclass\n",
    "class Trajectory:\n",
    "    \"\"\"Tracks the state of searching along individual trajectories\n",
    "\n",
    "    We mark the starting point, the last point produced from sampling,\n",
    "    and the last point we produced that has been validated\n",
    "    \"\"\"\n",
    "    id: int  # ID number of the\n",
    "    starting: ase.Atoms  # Starting point of the trajectory\n",
    "    current_timestep = 0  # How many timesteps have been used so far\n",
    "    last_validated: ase.Atoms = None  # Last validated point on the trajectory\n",
    "    current: ase.Atoms = None  # Last point produced along the trajectory\n",
    "    last_run_length: int = 0  # How long between current and last_validated\n",
    "    name: str = None  # Name of the trajectory\n",
    "\n",
    "    def __post_init__(self):\n",
    "        self.last_validated = self.current = self.starting\n",
    "\n",
    "    def update_current_structure(self, strc: ase.Atoms, run_length: int):\n",
    "        \"\"\"Update the structure that has yet to be updated\n",
    "\n",
    "        Args:\n",
    "            strc: Structure produced by sampling\n",
    "            run_length: How many timesteps were performed in sampling run\n",
    "        \"\"\"\n",
    "        self.current = strc.copy()\n",
    "        self.last_run_length = run_length\n",
    "\n",
    "    def set_validation(self, success: bool):\n",
    "        \"\"\"Set whether the trajectory was successfully validated\n",
    "\n",
    "        Args:\n",
    "            success: Whether the validation was successful\n",
    "        \"\"\"\n",
    "        if success:\n",
    "            self.last_validated = self.current  # Move the last validated forward\n",
    "            self.current_timestep += self.last_run_length\n",
    "\n",
    "@dataclass\n",
    "class SimulationTask:\n",
    "    atoms: ase.Atoms  # Structure to be run\n",
    "    traj_id: int  # Which trajectory this came from\n",
    "    ml_eng: float  # Energy predicted from machine learning model\n",
    "    ml_std: Optional[float] = None  # Uncertainty of the model\n",
    "    \n",
    "@dataclass\n",
    "class my_SimulationTask:\n",
    "    simu_task: SimulationTask # basic information store in SimulationTask\n",
    "    dft_energy: Optional[float] = None  # DFT energy of the structure\n",
    "    dft_time: Optional[dict[int,float]] = None  # Dictionary to store DFT run times for different CPU cores\n",
    "    temp_cores: Optional[int] = None  # Number of CPU cores used for the DFT calculation\n",
    "    start_time: Optional[int] = None"
   ]
  },
  {
   "cell_type": "code",
   "execution_count": 3,
   "metadata": {},
   "outputs": [],
   "source": [
    "with open('./ga_simulation_test/task_queue_simulated_ga_test', 'rb') as f:\n",
    "    task_batch = pickle.load(f)"
   ]
  },
  {
   "cell_type": "code",
   "execution_count": 24,
   "metadata": {},
   "outputs": [
    {
     "data": {
      "image/png": "[encoded data removed]",
      "text/plain": [
       "<Figure size 1200x800 with 1 Axes>"
      ]
     },
     "metadata": {},
     "output_type": "display_data"
    },
    {
     "name": "stdout",
     "output_type": "stream",
     "text": [
      "24\n",
      "[7, 9, 7, 6, 7, 4, 6, 5, 8, 8, 7, 7, 6, 5, 4, 5, 11, 5, 10, 11, 7, 2, 2, 2]\n"
     ]
    }
   ],
   "source": [
    "task_start_time = []\n",
    "task_dft_time = []\n",
    "task_cores = []\n",
    "task_length = []\n",
    "tottal_cores = 64\n",
    "current_cores = 0\n",
    "## sorted task_batch by start_time\n",
    "task_batch = sorted(task_batch, key=lambda task: task.start_time)\n",
    "for task in task_batch:\n",
    "    # print(len(task.simu_task.atoms))\n",
    "    # print(task.temp_cores)\n",
    "    # print(task.dft_time)\n",
    "    # print(task.start_time)\n",
    "    task_start_time.append(task.start_time)\n",
    "    task_dft_time.append(task.dft_time[task.temp_cores])\n",
    "    task_cores.append(task.temp_cores)\n",
    "    task_length.append(len(task.simu_task.atoms))\n",
    "    \n",
    "## barh\n",
    "ss = min(task_start_time)\n",
    "task_start_time = [x-ss for x in task_start_time]\n",
    "fig, ax = plt.subplots(figsize=(12,8))\n",
    "cnt = 0\n",
    "for i in range(len(task_start_time)):\n",
    "    # while (task_dft_time[cnt]+task_start_time[cnt]) < task_start_time[i]:\n",
    "    #     current_cores -= task_cores[cnt]\n",
    "    #     cnt += 1\n",
    "    # ax.barh(current_cores, task_dft_time[i], left=task_start_time[i], height=task_cores[i])\n",
    "    # current_cores += task_cores[i]\n",
    "    ax.barh(i, task_dft_time[i], left=task_start_time[i])\n",
    "plt.show()\n",
    "print(len(task_start_time))\n",
    "print(task_cores)"
   ]
  },
  {
   "cell_type": "code",
   "execution_count": 27,
   "metadata": {},
   "outputs": [
    {
     "name": "stdout",
     "output_type": "stream",
     "text": [
      "0 7\n",
      "9 9\n",
      "10 7\n",
      "20 6\n",
      "2 7\n",
      "17 4\n",
      "23 6\n",
      "12 5\n",
      "8 8\n",
      "16 8\n",
      "18 7\n",
      "11 7\n",
      "19 6\n",
      "1 5\n",
      "13 4\n",
      "21 5\n",
      "6 11\n",
      "5 5\n",
      "7 10\n",
      "3 11\n",
      "14 7\n",
      "22 2\n",
      "15 2\n",
      "4 2\n"
     ]
    }
   ],
   "source": [
    "ga_sch = [{'name': 'simulation', 'task_id': 0, 'resources': {'cpu': 7}}, {'name': 'simulation', 'task_id': 9, 'resources': {'cpu': 9}}, {'name': 'simulation', 'task_id': 10, 'resources': {'cpu': 7}}, {'name': 'simulation', 'task_id': 20, 'resources': {'cpu': 6}}, {'name': 'simulation', 'task_id': 2, 'resources': {'cpu': 7}}, {'name': 'simulation', 'task_id': 17, 'resources': {'cpu': 4}}, {'name': 'simulation', 'task_id': 23, 'resources': {'cpu': 6}}, {'name': 'simulation', 'task_id': 12, 'resources': {'cpu': 5}}, {'name': 'simulation', 'task_id': 8, 'resources': {'cpu': 8}}, {'name': 'simulation', 'task_id': 16, 'resources': {'cpu': 8}}, {'name': 'simulation', 'task_id': 18, 'resources': {'cpu': 7}}, {'name': 'simulation', 'task_id': 11, 'resources': {'cpu': 7}}, {'name': 'simulation', 'task_id': 19, 'resources': {'cpu': 6}}, {'name': 'simulation', 'task_id': 1, 'resources': {'cpu': 5}}, {'name': 'simulation', 'task_id': 13, 'resources': {'cpu': 4}}, {'name': 'simulation', 'task_id': 21, 'resources': {'cpu': 5}}, {'name': 'simulation', 'task_id': 6, 'resources': {'cpu': 11}}, {'name': 'simulation', 'task_id': 5, 'resources': {'cpu': 5}}, {'name': 'simulation', 'task_id': 7, 'resources': {'cpu': 10}}, {'name': 'simulation', 'task_id': 3, 'resources': {'cpu': 11}}, {'name': 'simulation', 'task_id': 14, 'resources': {'cpu': 7}}, {'name': 'simulation', 'task_id': 22, 'resources': {'cpu': 2}}, {'name': 'simulation', 'task_id': 15, 'resources': {'cpu': 2}}, {'name': 'simulation', 'task_id': 4, 'resources': {'cpu': 2}}]\n",
    "\n",
    "for i in range(len(ga_sch)):\n",
    "    print(ga_sch[i]['task_id'], ga_sch[i]['resources']['cpu'])\n",
    "    "
   ]
  }
 ],
 "metadata": {
  "kernelspec": {
   "display_name": "multisite",
   "language": "python",
   "name": "python3"
  },
  "language_info": {
   "codemirror_mode": {
    "name": "ipython",
    "version": 3
   },
   "file_extension": ".py",
   "mimetype": "text/x-python",
   "name": "python",
   "nbconvert_exporter": "python",
   "pygments_lexer": "ipython3",
   "version": "3.9.16"
  }
 },
 "nbformat": 4,
 "nbformat_minor": 2
}
