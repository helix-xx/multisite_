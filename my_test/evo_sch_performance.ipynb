{
 "cells": [
  {
   "cell_type": "code",
   "execution_count": 1,
   "metadata": {},
   "outputs": [
    {
     "ename": "ModuleNotFoundError",
     "evalue": "No module named 'colmena.queue.evo_sch'",
     "output_type": "error",
     "traceback": [
      "\u001b[0;31m---------------------------------------------------------------------------\u001b[0m",
      "\u001b[0;31mModuleNotFoundError\u001b[0m                       Traceback (most recent call last)",
      "Cell \u001b[0;32mIn[1], line 26\u001b[0m\n\u001b[1;32m     24\u001b[0m sys\u001b[38;5;241m.\u001b[39mpath\u001b[38;5;241m.\u001b[39mappend(\u001b[38;5;124m'\u001b[39m\u001b[38;5;124m../../multisite_\u001b[39m\u001b[38;5;124m'\u001b[39m)\n\u001b[1;32m     25\u001b[0m \u001b[38;5;66;03m# sys.path.append('../my_util')\u001b[39;00m\n\u001b[0;32m---> 26\u001b[0m \u001b[38;5;28;01mfrom\u001b[39;00m \u001b[38;5;21;01mcolmena\u001b[39;00m\u001b[38;5;21;01m.\u001b[39;00m\u001b[38;5;21;01mqueue\u001b[39;00m\u001b[38;5;21;01m.\u001b[39;00m\u001b[38;5;21;01mevo_sch\u001b[39;00m \u001b[38;5;28;01mimport\u001b[39;00m \u001b[38;5;241m*\u001b[39m\n\u001b[1;32m     27\u001b[0m \u001b[38;5;28;01mfrom\u001b[39;00m \u001b[38;5;21;01mcolmena\u001b[39;00m\u001b[38;5;21;01m.\u001b[39;00m\u001b[38;5;21;01mmodels\u001b[39;00m \u001b[38;5;28;01mimport\u001b[39;00m Result, ResourceRequirements\n\u001b[1;32m     28\u001b[0m \u001b[38;5;28;01mfrom\u001b[39;00m \u001b[38;5;21;01mmy_util\u001b[39;00m\u001b[38;5;21;01m.\u001b[39;00m\u001b[38;5;21;01mdata_structure\u001b[39;00m \u001b[38;5;28;01mimport\u001b[39;00m \u001b[38;5;241m*\u001b[39m\n",
      "\u001b[0;31mModuleNotFoundError\u001b[0m: No module named 'colmena.queue.evo_sch'"
     ]
    }
   ],
   "source": [
    "from pdb import run\n",
    "from fff.simulation import run_calculator\n",
    "from fff.simulation.utils import read_from_string, write_to_string\n",
    "from _pytest.fixtures import fixture\n",
    "import ase\n",
    "from ase.build import molecule\n",
    "from dataclasses import dataclass\n",
    "from pathlib import Path\n",
    "from typing  import Dict, Any, List, Optional\n",
    "import os\n",
    "import psutil\n",
    "from functools import partial, update_wrapper\n",
    "import json\n",
    "import pickle\n",
    "import time\n",
    "import multiprocessing as mp\n",
    "import matplotlib.pyplot as plt\n",
    "\n",
    "import matplotlib.pyplot as plt\n",
    "import numpy as np\n",
    "import math\n",
    "\n",
    "import sys\n",
    "sys.path.append('../../multisite_')\n",
    "# sys.path.append('../my_util')\n",
    "from colmena.queue.evo_sch import *\n",
    "from colmena.models import Result, ResourceRequirements\n",
    "from my_util.data_structure import *\n",
    "\n",
    "import logging\n",
    "from IPython.display import display\n",
    "logger = logging.getLogger()\n",
    "logger.setLevel(logging.INFO)  # 设置日志级别为 INFO 或其他你想要的级别\n",
    "\n",
    "class JupyterHandler(logging.Handler):\n",
    "    def emit(self, record):\n",
    "        display(self.format(record))\n",
    "\n",
    "handler = JupyterHandler()\n",
    "handler.setLevel(logging.INFO)  # 设置处理程序的日志级别\n",
    "logger.addHandler(handler)"
   ]
  },
  {
   "cell_type": "code",
   "execution_count": 2,
   "metadata": {},
   "outputs": [
    {
     "name": "stdout",
     "output_type": "stream",
     "text": [
      "<__main__.test_queue object at 0x7f9870424160>\n",
      "None\n",
      "{'run_calculator': ['7271c5f4-c8a5-4eeb-a565-ce1ff70ee197', '7d033b69-6974-4c93-b4d5-029bcfbacf89', 'e6b60572-5640-4afa-8b57-7e54e72d853e', '5f1bc92b-3e2b-4a1e-9d34-fd7255830efc', '5b098791-9c9f-469f-b270-d4c7bd05cc68', 'eab08b85-6fa8-440e-9d2c-9fe27b2234c4', '3dd43b50-9bb2-4fc1-88bc-c001b8129761', '030d66fc-76af-4657-a4d9-3ab121958991', 'e861b4ce-59ef-43d5-9c6b-7ca99f26b6d5', '12a2fac2-49e6-435b-b065-fa47626d1528', '7860597e-be33-4445-88ee-00797daccda6', '7a9464b8-bf98-440d-bdbb-25849fa64b95', 'cfa69881-1b95-44c8-aac1-60aee3a8ee01', '3ed46129-78a4-4522-ac2d-adbd3a30e0fe', '8000f8f2-31dd-433b-a180-b236eea45cd9', 'ca0239df-3870-41a4-8617-088292d84f1f', '1fe68e79-6181-41f4-8a74-51ed3c513966', '1c666824-a0ba-4929-a598-85303b29bb47', 'a5514fb2-6ac0-4e28-98b6-ed374c79755b', '33a5453f-c4ff-4576-9c27-04b1488c9859'], 'train': [], 'evaluate': [], 'run_sampling': []}\n",
      "[{'name': 'run_calculator', 'task_id': 'cfa69881-1b95-44c8-aac1-60aee3a8ee01', 'resources': {'cpu': 8}}, {'name': 'run_calculator', 'task_id': '030d66fc-76af-4657-a4d9-3ab121958991', 'resources': {'cpu': 8}}, {'name': 'run_calculator', 'task_id': '7a9464b8-bf98-440d-bdbb-25849fa64b95', 'resources': {'cpu': 8}}, {'name': 'run_calculator', 'task_id': '7271c5f4-c8a5-4eeb-a565-ce1ff70ee197', 'resources': {'cpu': 8}}, {'name': 'run_calculator', 'task_id': 'e861b4ce-59ef-43d5-9c6b-7ca99f26b6d5', 'resources': {'cpu': 8}}, {'name': 'run_calculator', 'task_id': '7d033b69-6974-4c93-b4d5-029bcfbacf89', 'resources': {'cpu': 8}}, {'name': 'run_calculator', 'task_id': '1fe68e79-6181-41f4-8a74-51ed3c513966', 'resources': {'cpu': 8}}, {'name': 'run_calculator', 'task_id': 'eab08b85-6fa8-440e-9d2c-9fe27b2234c4', 'resources': {'cpu': 8}}, {'name': 'run_calculator', 'task_id': '3ed46129-78a4-4522-ac2d-adbd3a30e0fe', 'resources': {'cpu': 8}}, {'name': 'run_calculator', 'task_id': 'ca0239df-3870-41a4-8617-088292d84f1f', 'resources': {'cpu': 8}}, {'name': 'run_calculator', 'task_id': '7860597e-be33-4445-88ee-00797daccda6', 'resources': {'cpu': 8}}, {'name': 'run_calculator', 'task_id': '5f1bc92b-3e2b-4a1e-9d34-fd7255830efc', 'resources': {'cpu': 8}}, {'name': 'run_calculator', 'task_id': 'a5514fb2-6ac0-4e28-98b6-ed374c79755b', 'resources': {'cpu': 8}}, {'name': 'run_calculator', 'task_id': '8000f8f2-31dd-433b-a180-b236eea45cd9', 'resources': {'cpu': 8}}, {'name': 'run_calculator', 'task_id': '12a2fac2-49e6-435b-b065-fa47626d1528', 'resources': {'cpu': 8}}, {'name': 'run_calculator', 'task_id': '33a5453f-c4ff-4576-9c27-04b1488c9859', 'resources': {'cpu': 8}}, {'name': 'run_calculator', 'task_id': '5b098791-9c9f-469f-b270-d4c7bd05cc68', 'resources': {'cpu': 8}}, {'name': 'run_calculator', 'task_id': '1c666824-a0ba-4929-a598-85303b29bb47', 'resources': {'cpu': 8}}, {'name': 'run_calculator', 'task_id': 'e6b60572-5640-4afa-8b57-7e54e72d853e', 'resources': {'cpu': 8}}, {'name': 'run_calculator', 'task_id': '3dd43b50-9bb2-4fc1-88bc-c001b8129761', 'resources': {'cpu': 8}}]\n"
     ]
    },
    {
     "name": "stderr",
     "output_type": "stream",
     "text": [
      "Intel(R) Extension for Scikit-learn* enabled (https://github.com/intel/scikit-learn-intelex)\n"
     ]
    }
   ],
   "source": [
    "class test_queue:\n",
    "    def __init__(self) -> None:\n",
    "        self.available_resources = {\"cpu\":56, \"gpu\": 4, \"memory\": \"128G\"}\n",
    "        self.result_list = {}\n",
    "        self.methods = {'train', 'evaluate', 'run_calculator', 'run_sampling'}\n",
    "        self._hist_data = historical_data(methods=self.methods, queue=self)\n",
    "        available_tasks = {}\n",
    "        for method in self.methods:\n",
    "            available_tasks[method] = []\n",
    "        self._available_tasks = available_task(available_tasks)\n",
    "        self.evosch = evosch2(resources=self.available_resources, at = self._available_tasks, hist_data=self._hist_data)\n",
    "        \n",
    "        \n",
    "        with open(\"/home/lizz_lab/cse12232433/project/colmena/multisite_/finetuning-surrogates/runs/hist_data/task_queue_audit.pkl\",'rb')as f:\n",
    "            task_queue_audit = pickle.load(f)\n",
    "            \n",
    "        # for to_run in task_queue_audit:\n",
    "        for i in range(20):\n",
    "            to_run = task_queue_audit[i]\n",
    "            task_type = 'audit'\n",
    "            atoms = to_run.atoms\n",
    "            atoms.set_center_of_mass([0,0,0])\n",
    "            xyz = write_to_string(atoms, 'xyz')\n",
    "            input_args = (xyz,)\n",
    "            input_kargs = {}\n",
    "            result = Result(\n",
    "                (input_args,input_kargs), \n",
    "                method='run_calculator', \n",
    "                topic='simulate',\n",
    "                keep_inputs = True,\n",
    "                serialization_method='pickle',\n",
    "                task_info={'traj_id': to_run.traj_id, 'task_type': task_type,\n",
    "                                           'ml_energy': to_run.ml_eng, 'xyz': xyz},\n",
    "                resources=ResourceRequirements(cpu=8, gpu=0)\n",
    "                \n",
    "            )\n",
    "            result.serialize()\n",
    "            self.result_list[result.task_id] = result\n",
    "            self._available_tasks.add_task_id(task_name=\"run_calculator\", task_id=result.task_id)\n",
    "            \n",
    "tq = test_queue()\n",
    "hist_path = [] \n",
    "hist_path.append(\"/home/lizz_lab/cse12232433/project/colmena/multisite_/finetuning-surrogates/runs/hist_data/simulation-results-20240319_230707.json\")\n",
    "hist_path.append(\"/home/lizz_lab/cse12232433/project/colmena/multisite_/finetuning-surrogates/runs/hist_data/inference-results-20240319_230707.json\")\n",
    "hist_path.append(\"/home/lizz_lab/cse12232433/project/colmena/multisite_/finetuning-surrogates/runs/hist_data/sampling-results-20240319_230707.json\")\n",
    "hist_path.append(\"/home/lizz_lab/cse12232433/project/colmena/multisite_/finetuning-surrogates/runs/hist_data/training-results-20240319_230707.json\")\n",
    "\n",
    "tq._hist_data.get_features_from_his_json(hist_path)\n",
    "\n",
    "print(tq._hist_data.queue)\n",
    "print(tq.evosch.get_task_nums())\n",
    "print(tq.evosch.at.get_all())\n",
    "tq.evosch.population = tq.evosch.generate_population(100)\n",
    "predifine_ind = tq.evosch.population[-1]\n",
    "print(predifine_ind.task_allocation)\n",
    "\n"
   ]
  },
  {
   "cell_type": "code",
   "execution_count": 3,
   "metadata": {},
   "outputs": [
    {
     "data": {
      "text/plain": [
       "'train:run_calculator model'"
      ]
     },
     "metadata": {},
     "output_type": "display_data"
    },
    {
     "data": {
      "text/plain": [
       "'method: run_calculator, random forest regressor score: 0.9581566679174408'"
      ]
     },
     "metadata": {},
     "output_type": "display_data"
    },
    {
     "data": {
      "text/plain": [
       "'train:train model'"
      ]
     },
     "metadata": {},
     "output_type": "display_data"
    },
    {
     "data": {
      "text/plain": [
       "'method: train, random forest regressor score: 0.9497878149701859'"
      ]
     },
     "metadata": {},
     "output_type": "display_data"
    },
    {
     "data": {
      "text/plain": [
       "'train:evaluate model'"
      ]
     },
     "metadata": {},
     "output_type": "display_data"
    },
    {
     "data": {
      "text/plain": [
       "'train:run_sampling model'"
      ]
     },
     "metadata": {},
     "output_type": "display_data"
    },
    {
     "data": {
      "text/plain": [
       "'method: run_sampling, random forest regressor score: 0.9154976126383643'"
      ]
     },
     "metadata": {},
     "output_type": "display_data"
    },
    {
     "name": "stdout",
     "output_type": "stream",
     "text": [
      "-480.28092885017395\n"
     ]
    }
   ],
   "source": [
    "## predifined resources score\n",
    "tq.evosch.hist_data.random_forest_train()\n",
    "tq.evosch.hist_data.estimate_batch([predifine_ind])\n",
    "tq.evosch.fitness(predifine_ind)\n",
    "print(predifine_ind.score)"
   ]
  },
  {
   "cell_type": "code",
   "execution_count": 4,
   "metadata": {},
   "outputs": [
    {
     "data": {
      "text/plain": [
       "'train:run_calculator model'"
      ]
     },
     "metadata": {},
     "output_type": "display_data"
    },
    {
     "data": {
      "text/plain": [
       "'method: run_calculator, random forest regressor score: 0.9581566679174408'"
      ]
     },
     "metadata": {},
     "output_type": "display_data"
    },
    {
     "data": {
      "text/plain": [
       "'train:train model'"
      ]
     },
     "metadata": {},
     "output_type": "display_data"
    },
    {
     "data": {
      "text/plain": [
       "'method: train, random forest regressor score: 0.9497878149701859'"
      ]
     },
     "metadata": {},
     "output_type": "display_data"
    },
    {
     "data": {
      "text/plain": [
       "'train:evaluate model'"
      ]
     },
     "metadata": {},
     "output_type": "display_data"
    },
    {
     "data": {
      "text/plain": [
       "'train:run_sampling model'"
      ]
     },
     "metadata": {},
     "output_type": "display_data"
    },
    {
     "data": {
      "text/plain": [
       "'method: run_sampling, random forest regressor score: 0.9154976126383643'"
      ]
     },
     "metadata": {},
     "output_type": "display_data"
    },
    {
     "data": {
      "text/plain": [
       "\"Starting GA with available tasks: {'run_calculator': ['7271c5f4-c8a5-4eeb-a565-ce1ff70ee197', '7d033b69-6974-4c93-b4d5-029bcfbacf89', 'e6b60572-5640-4afa-8b57-7e54e72d853e', '5f1bc92b-3e2b-4a1e-9d34-fd7255830efc', '5b098791-9c9f-469f-b270-d4c7bd05cc68', 'eab08b85-6fa8-440e-9d2c-9fe27b2234c4', '3dd43b50-9bb2-4fc1-88bc-c001b8129761', '030d66fc-76af-4657-a4d9-3ab121958991', 'e861b4ce-59ef-43d5-9c6b-7ca99f26b6d5', '12a2fac2-49e6-435b-b065-fa47626d1528', '7860597e-be33-4445-88ee-00797daccda6', '7a9464b8-bf98-440d-bdbb-25849fa64b95', 'cfa69881-1b95-44c8-aac1-60aee3a8ee01', '3ed46129-78a4-4522-ac2d-adbd3a30e0fe', '8000f8f2-31dd-433b-a180-b236eea45cd9', 'ca0239df-3870-41a4-8617-088292d84f1f', '1fe68e79-6181-41f4-8a74-51ed3c513966', '1c666824-a0ba-4929-a598-85303b29bb47', 'a5514fb2-6ac0-4e28-98b6-ed374c79755b', '33a5453f-c4ff-4576-9c27-04b1488c9859'], 'train': [], 'evaluate': [], 'run_sampling': []}\""
      ]
     },
     "metadata": {},
     "output_type": "display_data"
    },
    {
     "data": {
      "text/plain": [
       "'initial score is -873.3653047084808'"
      ]
     },
     "metadata": {},
     "output_type": "display_data"
    },
    {
     "name": "stderr",
     "output_type": "stream",
     "text": [
      "INFO:sklearnex: sklearn.utils.validation._assert_all_finite: running accelerated version on CPU\n"
     ]
    },
    {
     "data": {
      "text/plain": [
       "'sklearn.utils.validation._assert_all_finite: running accelerated version on CPU'"
      ]
     },
     "metadata": {},
     "output_type": "display_data"
    },
    {
     "data": {
      "text/plain": [
       "'Generation 0: -358.4481761455536'"
      ]
     },
     "metadata": {},
     "output_type": "display_data"
    },
    {
     "data": {
      "text/plain": [
       "'Generation 1: -358.4481761455536'"
      ]
     },
     "metadata": {},
     "output_type": "display_data"
    },
    {
     "data": {
      "text/plain": [
       "'Generation 2: -358.4481761455536'"
      ]
     },
     "metadata": {},
     "output_type": "display_data"
    },
    {
     "data": {
      "text/plain": [
       "'Generation 3: -358.4481761455536'"
      ]
     },
     "metadata": {},
     "output_type": "display_data"
    },
    {
     "data": {
      "text/plain": [
       "'Generation 4: -358.4481761455536'"
      ]
     },
     "metadata": {},
     "output_type": "display_data"
    },
    {
     "data": {
      "text/plain": [
       "'Generation 5: -358.4481761455536'"
      ]
     },
     "metadata": {},
     "output_type": "display_data"
    },
    {
     "data": {
      "text/plain": [
       "'Generation 6: -358.4481761455536'"
      ]
     },
     "metadata": {},
     "output_type": "display_data"
    },
    {
     "data": {
      "text/plain": [
       "'Generation 7: -358.4481761455536'"
      ]
     },
     "metadata": {},
     "output_type": "display_data"
    },
    {
     "data": {
      "text/plain": [
       "'Generation 8: -358.4481761455536'"
      ]
     },
     "metadata": {},
     "output_type": "display_data"
    },
    {
     "data": {
      "text/plain": [
       "'Generation 9: -358.4481761455536'"
      ]
     },
     "metadata": {},
     "output_type": "display_data"
    },
    {
     "data": {
      "text/plain": [
       "'Generation 10: -358.4481761455536'"
      ]
     },
     "metadata": {},
     "output_type": "display_data"
    },
    {
     "data": {
      "text/plain": [
       "'Generation 11: -358.4481761455536'"
      ]
     },
     "metadata": {},
     "output_type": "display_data"
    },
    {
     "data": {
      "text/plain": [
       "'Generation 12: -358.4481761455536'"
      ]
     },
     "metadata": {},
     "output_type": "display_data"
    },
    {
     "data": {
      "text/plain": [
       "'Generation 13: -358.4481761455536'"
      ]
     },
     "metadata": {},
     "output_type": "display_data"
    },
    {
     "data": {
      "text/plain": [
       "'Generation 14: -358.4481761455536'"
      ]
     },
     "metadata": {},
     "output_type": "display_data"
    },
    {
     "data": {
      "text/plain": [
       "'Generation 15: -358.4481761455536'"
      ]
     },
     "metadata": {},
     "output_type": "display_data"
    },
    {
     "data": {
      "text/plain": [
       "'Generation 16: -358.4481761455536'"
      ]
     },
     "metadata": {},
     "output_type": "display_data"
    },
    {
     "data": {
      "text/plain": [
       "'Generation 17: -358.4481761455536'"
      ]
     },
     "metadata": {},
     "output_type": "display_data"
    },
    {
     "data": {
      "text/plain": [
       "'Generation 18: -358.4481761455536'"
      ]
     },
     "metadata": {},
     "output_type": "display_data"
    },
    {
     "data": {
      "text/plain": [
       "'Generation 19: -358.4481761455536'"
      ]
     },
     "metadata": {},
     "output_type": "display_data"
    },
    {
     "data": {
      "text/plain": [
       "'Generation 20: -358.4481761455536'"
      ]
     },
     "metadata": {},
     "output_type": "display_data"
    },
    {
     "data": {
      "text/plain": [
       "'Generation 21: -358.4481761455536'"
      ]
     },
     "metadata": {},
     "output_type": "display_data"
    },
    {
     "data": {
      "text/plain": [
       "'Generation 22: -358.4481761455536'"
      ]
     },
     "metadata": {},
     "output_type": "display_data"
    },
    {
     "data": {
      "text/plain": [
       "'Generation 23: -358.4481761455536'"
      ]
     },
     "metadata": {},
     "output_type": "display_data"
    },
    {
     "data": {
      "text/plain": [
       "'Generation 24: -358.4481761455536'"
      ]
     },
     "metadata": {},
     "output_type": "display_data"
    },
    {
     "data": {
      "text/plain": [
       "'Generation 25: -358.4481761455536'"
      ]
     },
     "metadata": {},
     "output_type": "display_data"
    },
    {
     "data": {
      "text/plain": [
       "'Generation 26: -358.4481761455536'"
      ]
     },
     "metadata": {},
     "output_type": "display_data"
    },
    {
     "data": {
      "text/plain": [
       "'Generation 27: -358.4481761455536'"
      ]
     },
     "metadata": {},
     "output_type": "display_data"
    },
    {
     "data": {
      "text/plain": [
       "'Generation 28: -358.4481761455536'"
      ]
     },
     "metadata": {},
     "output_type": "display_data"
    },
    {
     "data": {
      "text/plain": [
       "'Generation 29: -358.4481761455536'"
      ]
     },
     "metadata": {},
     "output_type": "display_data"
    },
    {
     "data": {
      "text/plain": [
       "'Generation 30: -358.4481761455536'"
      ]
     },
     "metadata": {},
     "output_type": "display_data"
    },
    {
     "data": {
      "text/plain": [
       "'Generation 31: -358.4481761455536'"
      ]
     },
     "metadata": {},
     "output_type": "display_data"
    },
    {
     "data": {
      "text/plain": [
       "'Generation 32: -358.4481761455536'"
      ]
     },
     "metadata": {},
     "output_type": "display_data"
    },
    {
     "data": {
      "text/plain": [
       "'Generation 33: -358.4481761455536'"
      ]
     },
     "metadata": {},
     "output_type": "display_data"
    },
    {
     "data": {
      "text/plain": [
       "'Generation 34: -358.4481761455536'"
      ]
     },
     "metadata": {},
     "output_type": "display_data"
    },
    {
     "data": {
      "text/plain": [
       "'Generation 35: -358.4481761455536'"
      ]
     },
     "metadata": {},
     "output_type": "display_data"
    },
    {
     "data": {
      "text/plain": [
       "'Generation 36: -358.4481761455536'"
      ]
     },
     "metadata": {},
     "output_type": "display_data"
    },
    {
     "data": {
      "text/plain": [
       "'Generation 37: -358.4481761455536'"
      ]
     },
     "metadata": {},
     "output_type": "display_data"
    },
    {
     "data": {
      "text/plain": [
       "'Generation 38: -358.4481761455536'"
      ]
     },
     "metadata": {},
     "output_type": "display_data"
    },
    {
     "data": {
      "text/plain": [
       "'Generation 39: -358.4481761455536'"
      ]
     },
     "metadata": {},
     "output_type": "display_data"
    },
    {
     "data": {
      "text/plain": [
       "'Generation 40: -358.4481761455536'"
      ]
     },
     "metadata": {},
     "output_type": "display_data"
    },
    {
     "data": {
      "text/plain": [
       "'Generation 41: -358.4481761455536'"
      ]
     },
     "metadata": {},
     "output_type": "display_data"
    },
    {
     "data": {
      "text/plain": [
       "'Generation 42: -358.4481761455536'"
      ]
     },
     "metadata": {},
     "output_type": "display_data"
    },
    {
     "data": {
      "text/plain": [
       "'Generation 43: -358.4481761455536'"
      ]
     },
     "metadata": {},
     "output_type": "display_data"
    },
    {
     "data": {
      "text/plain": [
       "'Generation 44: -358.4481761455536'"
      ]
     },
     "metadata": {},
     "output_type": "display_data"
    },
    {
     "data": {
      "text/plain": [
       "'Generation 45: -358.4481761455536'"
      ]
     },
     "metadata": {},
     "output_type": "display_data"
    },
    {
     "data": {
      "text/plain": [
       "'Generation 46: -358.4481761455536'"
      ]
     },
     "metadata": {},
     "output_type": "display_data"
    },
    {
     "data": {
      "text/plain": [
       "'Generation 47: -358.4481761455536'"
      ]
     },
     "metadata": {},
     "output_type": "display_data"
    },
    {
     "data": {
      "text/plain": [
       "'Generation 48: -358.4481761455536'"
      ]
     },
     "metadata": {},
     "output_type": "display_data"
    },
    {
     "data": {
      "text/plain": [
       "'Generation 49: -358.4481761455536'"
      ]
     },
     "metadata": {},
     "output_type": "display_data"
    },
    {
     "data": {
      "text/plain": [
       "'Generation 50: -358.4481761455536'"
      ]
     },
     "metadata": {},
     "output_type": "display_data"
    },
    {
     "data": {
      "text/plain": [
       "'Generation 51: -358.4481761455536'"
      ]
     },
     "metadata": {},
     "output_type": "display_data"
    },
    {
     "data": {
      "text/plain": [
       "'Generation 52: -358.4481761455536'"
      ]
     },
     "metadata": {},
     "output_type": "display_data"
    },
    {
     "data": {
      "text/plain": [
       "'Generation 53: -358.4481761455536'"
      ]
     },
     "metadata": {},
     "output_type": "display_data"
    },
    {
     "data": {
      "text/plain": [
       "'Generation 54: -358.4481761455536'"
      ]
     },
     "metadata": {},
     "output_type": "display_data"
    },
    {
     "data": {
      "text/plain": [
       "'Generation 55: -358.4481761455536'"
      ]
     },
     "metadata": {},
     "output_type": "display_data"
    },
    {
     "data": {
      "text/plain": [
       "'Generation 56: -358.4481761455536'"
      ]
     },
     "metadata": {},
     "output_type": "display_data"
    },
    {
     "data": {
      "text/plain": [
       "'Generation 57: -358.4481761455536'"
      ]
     },
     "metadata": {},
     "output_type": "display_data"
    },
    {
     "data": {
      "text/plain": [
       "'Generation 58: -358.4481761455536'"
      ]
     },
     "metadata": {},
     "output_type": "display_data"
    },
    {
     "data": {
      "text/plain": [
       "'Generation 59: -358.4481761455536'"
      ]
     },
     "metadata": {},
     "output_type": "display_data"
    },
    {
     "data": {
      "text/plain": [
       "'Generation 60: -358.4481761455536'"
      ]
     },
     "metadata": {},
     "output_type": "display_data"
    },
    {
     "data": {
      "text/plain": [
       "'Generation 61: -358.4481761455536'"
      ]
     },
     "metadata": {},
     "output_type": "display_data"
    },
    {
     "data": {
      "text/plain": [
       "'Generation 62: -358.4481761455536'"
      ]
     },
     "metadata": {},
     "output_type": "display_data"
    },
    {
     "data": {
      "text/plain": [
       "'Generation 63: -358.4481761455536'"
      ]
     },
     "metadata": {},
     "output_type": "display_data"
    },
    {
     "data": {
      "text/plain": [
       "'Generation 64: -358.4481761455536'"
      ]
     },
     "metadata": {},
     "output_type": "display_data"
    },
    {
     "data": {
      "text/plain": [
       "'Generation 65: -358.4481761455536'"
      ]
     },
     "metadata": {},
     "output_type": "display_data"
    },
    {
     "data": {
      "text/plain": [
       "'Generation 66: -358.4481761455536'"
      ]
     },
     "metadata": {},
     "output_type": "display_data"
    },
    {
     "data": {
      "text/plain": [
       "'Generation 67: -358.4481761455536'"
      ]
     },
     "metadata": {},
     "output_type": "display_data"
    },
    {
     "data": {
      "text/plain": [
       "'Generation 68: -358.4481761455536'"
      ]
     },
     "metadata": {},
     "output_type": "display_data"
    },
    {
     "data": {
      "text/plain": [
       "'Generation 69: -358.4481761455536'"
      ]
     },
     "metadata": {},
     "output_type": "display_data"
    },
    {
     "data": {
      "text/plain": [
       "'Generation 70: -358.4481761455536'"
      ]
     },
     "metadata": {},
     "output_type": "display_data"
    },
    {
     "data": {
      "text/plain": [
       "'Generation 71: -358.4481761455536'"
      ]
     },
     "metadata": {},
     "output_type": "display_data"
    },
    {
     "data": {
      "text/plain": [
       "'Generation 72: -358.4481761455536'"
      ]
     },
     "metadata": {},
     "output_type": "display_data"
    },
    {
     "data": {
      "text/plain": [
       "'Generation 73: -358.4481761455536'"
      ]
     },
     "metadata": {},
     "output_type": "display_data"
    },
    {
     "data": {
      "text/plain": [
       "'Generation 74: -358.4481761455536'"
      ]
     },
     "metadata": {},
     "output_type": "display_data"
    },
    {
     "data": {
      "text/plain": [
       "'Generation 75: -358.4481761455536'"
      ]
     },
     "metadata": {},
     "output_type": "display_data"
    },
    {
     "data": {
      "text/plain": [
       "'Generation 76: -358.4481761455536'"
      ]
     },
     "metadata": {},
     "output_type": "display_data"
    },
    {
     "data": {
      "text/plain": [
       "'Generation 77: -358.4481761455536'"
      ]
     },
     "metadata": {},
     "output_type": "display_data"
    },
    {
     "data": {
      "text/plain": [
       "'Generation 78: -358.4481761455536'"
      ]
     },
     "metadata": {},
     "output_type": "display_data"
    },
    {
     "data": {
      "text/plain": [
       "'Generation 79: -358.4481761455536'"
      ]
     },
     "metadata": {},
     "output_type": "display_data"
    },
    {
     "data": {
      "text/plain": [
       "'Generation 80: -358.4481761455536'"
      ]
     },
     "metadata": {},
     "output_type": "display_data"
    },
    {
     "data": {
      "text/plain": [
       "'Generation 81: -358.4481761455536'"
      ]
     },
     "metadata": {},
     "output_type": "display_data"
    },
    {
     "data": {
      "text/plain": [
       "'Generation 82: -358.4481761455536'"
      ]
     },
     "metadata": {},
     "output_type": "display_data"
    },
    {
     "data": {
      "text/plain": [
       "'Generation 83: -358.4481761455536'"
      ]
     },
     "metadata": {},
     "output_type": "display_data"
    },
    {
     "data": {
      "text/plain": [
       "'Generation 84: -358.4481761455536'"
      ]
     },
     "metadata": {},
     "output_type": "display_data"
    },
    {
     "data": {
      "text/plain": [
       "'Generation 85: -358.4481761455536'"
      ]
     },
     "metadata": {},
     "output_type": "display_data"
    },
    {
     "data": {
      "text/plain": [
       "'Generation 86: -358.4481761455536'"
      ]
     },
     "metadata": {},
     "output_type": "display_data"
    },
    {
     "data": {
      "text/plain": [
       "'Generation 87: -358.4481761455536'"
      ]
     },
     "metadata": {},
     "output_type": "display_data"
    },
    {
     "data": {
      "text/plain": [
       "'Generation 88: -358.4481761455536'"
      ]
     },
     "metadata": {},
     "output_type": "display_data"
    },
    {
     "data": {
      "text/plain": [
       "'Generation 89: -358.4481761455536'"
      ]
     },
     "metadata": {},
     "output_type": "display_data"
    },
    {
     "data": {
      "text/plain": [
       "'Generation 90: -358.4481761455536'"
      ]
     },
     "metadata": {},
     "output_type": "display_data"
    },
    {
     "data": {
      "text/plain": [
       "'Generation 91: -358.4481761455536'"
      ]
     },
     "metadata": {},
     "output_type": "display_data"
    },
    {
     "data": {
      "text/plain": [
       "'Generation 92: -358.4481761455536'"
      ]
     },
     "metadata": {},
     "output_type": "display_data"
    },
    {
     "data": {
      "text/plain": [
       "'Generation 93: -358.4481761455536'"
      ]
     },
     "metadata": {},
     "output_type": "display_data"
    },
    {
     "data": {
      "text/plain": [
       "'Generation 94: -358.4481761455536'"
      ]
     },
     "metadata": {},
     "output_type": "display_data"
    },
    {
     "data": {
      "text/plain": [
       "'Generation 95: -358.4481761455536'"
      ]
     },
     "metadata": {},
     "output_type": "display_data"
    },
    {
     "data": {
      "text/plain": [
       "'Generation 96: -358.4481761455536'"
      ]
     },
     "metadata": {},
     "output_type": "display_data"
    },
    {
     "data": {
      "text/plain": [
       "'Generation 97: -358.4481761455536'"
      ]
     },
     "metadata": {},
     "output_type": "display_data"
    },
    {
     "data": {
      "text/plain": [
       "'Generation 98: -358.4481761455536'"
      ]
     },
     "metadata": {},
     "output_type": "display_data"
    },
    {
     "data": {
      "text/plain": [
       "'Generation 99: -358.4481761455536'"
      ]
     },
     "metadata": {},
     "output_type": "display_data"
    },
    {
     "data": {
      "text/plain": [
       "'score of all ind:[-358.4481761455536, -358.4481761455536, -358.4481761455536, -358.4481761455536, -358.4481761455536, -358.4481761455536, -358.4481761455536, -358.4481761455536, -358.4481761455536, -358.4481761455536, -358.4481761455536, -358.4481761455536, -358.4481761455536, -358.4481761455536, -358.4481761455536, -358.4481761455536, -358.4481761455536, -358.4481761455536, -358.4481761455536, -358.4481761455536, -358.4481761455536, -358.4481761455536, -358.4481761455536, -358.4481761455536, -358.4481761455536, -358.4481761455536, -358.4481761455536, -358.4481761455536, -358.4481761455536, -358.4481761455536, -358.4481761455536, -358.4481761455536, -358.4481761455536, -358.4481761455536, -358.4481761455536, -358.4481761455536, -358.4481761455536, -358.4481761455536, -358.4481761455536, -358.4481761455536, -358.4481761455536, -358.4481761455536, -358.4481761455536, -358.4481761455536, -358.4481761455536, -358.4481761455536, -358.4481761455536, -358.4481761455536, -358.4481761455536, -358.4481761455536, -358.4481761455536, -358.4481761455536, -358.4481761455536, -358.4481761455536, -358.4481761455536, -358.4481761455536, -358.4481761455536, -358.4481761455536, -358.4481761455536, -358.4481761455536, -358.4481761455536, -358.4481761455536, -358.4481761455536, -358.4481761455536, -358.4481761455536, -358.4481761455536, -358.4481761455536, -358.4481761455536, -358.4481761455536, -358.4481761455536, -358.4481761455536, -358.4481761455536, -358.4481761455536, -358.4481761455536, -358.4481761455536, -358.4481761455536, -358.4481761455536, -358.4481761455536, -358.4481761455536, -358.4481761455536, -358.4481761455536, -358.4481761455536, -358.4481761455536, -358.4481761455536, -358.4481761455536, -358.4481761455536, -358.4481761455536, -358.4481761455536, -358.4481761455536, -358.4481761455536, -358.4481761455536, -358.4481761455536, -358.4481761455536, -358.4481761455536, -358.4481761455536, -358.4481761455536, -358.4481761455536, -358.4481761455536, -358.4481761455536, -358.4481761455536, -430.92285346984863, -417.9279935359955, -358.4481761455536, -358.4481761455536, -417.9279935359955, -417.9279935359955, -358.4481761455536, -358.4481761455536, -473.5397140979767, -453.50473833084106, -358.4481761455536, -358.4481761455536, -433.38794922828674, -417.9077706336975, -358.4481761455536, -358.4481761455536, -425.05194544792175, -436.66912055015564, -358.4481761455536, -358.4481761455536, -433.38794922828674, -425.05194544792175, -358.4481761455536, -358.4481761455536, -483.63619589805603, -417.9279935359955, -358.4481761455536, -358.4481761455536, -436.66912055015564, -436.66912055015564, -358.4481761455536, -358.4481761455536, -433.38794922828674, -433.38794922828674, -358.4481761455536, -358.4481761455536, -425.05194544792175, -425.05194544792175, -358.4481761455536, -358.4481761455536, -417.9279935359955, -417.9077706336975, -358.4481761455536, -358.4481761455536, -417.9077706336975, -358.4481761455536, -358.4481761455536, -358.4481761455536, -433.38794922828674, -403.3360731601715, -358.4481761455536, -358.4481761455536, -417.9077706336975, -420.8263716697693, -358.4481761455536, -358.4481761455536, -433.38794922828674, -440.5098783969879, -358.4481761455536, -358.4481761455536, -436.66912055015564, -430.92285346984863, -358.4481761455536, -358.4481761455536, -425.05194544792175, -417.9077706336975, -358.4481761455536, -358.4481761455536, -433.38794922828674, -396.37353444099426, -358.4481761455536, -358.4481761455536, -426.5726387500763, -425.05194544792175, -358.4481761455536, -358.4481761455536, -358.4481761455536, -440.5098783969879, -358.4481761455536, -358.4481761455536, -417.9077706336975, -403.3360731601715, -358.4481761455536, -358.4481761455536, -417.9279935359955, -433.38794922828674, -358.4481761455536, -358.4481761455536, -420.8263716697693, -420.8263716697693, -358.4481761455536, -358.4481761455536, -417.9279935359955, -433.38794922828674, -358.4481761455536, -358.4481761455536, -396.37353444099426, -417.9279935359955, -358.4481761455536, -358.4481761455536, -460.57040667533875, -416.897390127182, -358.4481761455536, -358.4481761455536, -473.65267515182495, -436.66912055015564, -358.4481761455536, -358.4481761455536, -425.05194544792175, -433.38794922828674, -358.4481761455536, -358.4481761455536, -396.37353444099426, -417.9279935359955, -358.4481761455536, -358.4481761455536, -403.3360731601715, -425.05194544792175, -358.4481761455536, -358.4481761455536, -423.2914674282074, -425.05194544792175, -358.4481761455536, -358.4481761455536, -423.2914674282074, -416.897390127182, -358.4481761455536, -358.4481761455536, -436.66912055015564, -413.43255496025085, -358.4481761455536, -358.4481761455536, -417.9077706336975, -453.50473833084106, -358.4481761455536, -358.4481761455536, -417.9077706336975, -430.92285346984863, -358.4481761455536, -358.4481761455536, -417.9279935359955, -433.38794922828674, -358.4481761455536, -358.4481761455536, -416.897390127182, -417.9279935359955, -358.4481761455536, -358.4481761455536, -426.26570224761963, -403.3360731601715, -358.4481761455536, -358.4481761455536, -425.05194544792175, -420.8263716697693, -358.4481761455536, -358.4481761455536, -420.8263716697693, -403.3360731601715, -358.4481761455536, -358.4481761455536, -430.92285346984863, -423.2914674282074, -358.4481761455536, -358.4481761455536, -416.897390127182, -433.38794922828674, -358.4481761455536, -358.4481761455536, -426.5726387500763, -426.5726387500763, -358.4481761455536, -358.4481761455536, -396.37353444099426, -396.37353444099426, -358.4481761455536, -358.4481761455536, -436.66912055015564, -416.897390127182, -358.4481761455536, -358.4481761455536, -433.38794922828674, -417.9279935359955, -358.4481761455536, -358.4481761455536, -436.66912055015564, -396.37353444099426, -358.4481761455536, -358.4481761455536, -433.38794922828674, -427.89204001426697, -358.4481761455536, -358.4481761455536, -447.6338303089142, -417.9279935359955, -358.4481761455536, -358.4481761455536, -426.5726387500763, -426.26570224761963, -358.4481761455536, -358.4481761455536]'"
      ]
     },
     "metadata": {},
     "output_type": "display_data"
    },
    {
     "data": {
      "text/plain": [
       "\"Best ind:individual(individual_id=20204, tasks_nums={'run_calculator': 20, 'train': 0, 'evaluate': 0, 'run_sampling': 0}, total_resources={'cpu': 56, 'gpu': 4, 'memory': '128G'}, total_time=0, max_time=0, score=-358.4481761455536, predict_run_seq=[{'name': 'run_calculator', 'task_id': '12a2fac2-49e6-435b-b065-fa47626d1528', 'start_time': 1711040952.3539863, 'finish_time': 1711041310.8021624, 'total_runtime': 358.4481761455536, 'resources': {'cpu': 1}}, {'name': 'run_calculator', 'task_id': '5f1bc92b-3e2b-4a1e-9d34-fd7255830efc', 'start_time': 1711040952.3539863, 'finish_time': 1711041195.7127078, 'total_runtime': 243.35872149467468, 'resources': {'cpu': 6}}, {'name': 'run_calculator', 'task_id': '030d66fc-76af-4657-a4d9-3ab121958991', 'start_time': 1711040952.3539863, 'finish_time': 1711041245.2627015, 'total_runtime': 292.9087152481079, 'resources': {'cpu': 5}}, {'name': 'run_calculator', 'task_id': '7860597e-be33-4445-88ee-00797daccda6', 'start_time': 1711040952.3539863, 'finish_time': 1711041095.4597108, 'total_runtime': 143.10572457313538, 'resources': {'cpu': 6}}, {'name': 'run_calculator', 'task_id': '3dd43b50-9bb2-4fc1-88bc-c001b8129761', 'start_time': 1711040952.3539863, 'finish_time': 1711041120.0156777, 'total_runtime': 167.66169142723083, 'resources': {'cpu': 6}}, {'name': 'run_calculator', 'task_id': '33a5453f-c4ff-4576-9c27-04b1488c9859', 'start_time': 1711040952.3539863, 'finish_time': 1711041225.055284, 'total_runtime': 272.70129776000977, 'resources': {'cpu': 4}}, {'name': 'run_calculator', 'task_id': '1fe68e79-6181-41f4-8a74-51ed3c513966', 'start_time': 1711040952.3539863, 'finish_time': 1711041225.1101048, 'total_runtime': 272.7561185359955, 'resources': {'cpu': 3}}, {'name': 'run_calculator', 'task_id': '5b098791-9c9f-469f-b270-d4c7bd05cc68', 'start_time': 1711040952.3539863, 'finish_time': 1711041088.497172, 'total_runtime': 136.14318585395813, 'resources': {'cpu': 1}}, {'name': 'run_calculator', 'task_id': '7271c5f4-c8a5-4eeb-a565-ce1ff70ee197', 'start_time': 1711040952.3539863, 'finish_time': 1711041251.8752322, 'total_runtime': 299.5212459564209, 'resources': {'cpu': 2}}, {'name': 'run_calculator', 'task_id': '7a9464b8-bf98-440d-bdbb-25849fa64b95', 'start_time': 1711040952.3539863, 'finish_time': 1711041237.6227913, 'total_runtime': 285.26880502700806, 'resources': {'cpu': 1}}, {'name': 'run_calculator', 'task_id': '1c666824-a0ba-4929-a598-85303b29bb47', 'start_time': 1711040952.3539863, 'finish_time': 1711041237.6227913, 'total_runtime': 285.26880502700806, 'resources': {'cpu': 1}}, {'name': 'run_calculator', 'task_id': 'ca0239df-3870-41a4-8617-088292d84f1f', 'start_time': 1711040952.3539863, 'finish_time': 1711040952.3539863, 'total_runtime': 0.0, 'resources': {'cpu': 1}}, {'name': 'run_calculator', 'task_id': 'cfa69881-1b95-44c8-aac1-60aee3a8ee01', 'start_time': 1711040952.3539863, 'finish_time': 1711041161.554067, 'total_runtime': 209.20008063316345, 'resources': {'cpu': 7}}, {'name': 'run_calculator', 'task_id': 'e6b60572-5640-4afa-8b57-7e54e72d853e', 'start_time': 1711040952.3539863, 'finish_time': 1711041161.554067, 'total_runtime': 209.20008063316345, 'resources': {'cpu': 7}}, {'name': 'run_calculator', 'task_id': '7d033b69-6974-4c93-b4d5-029bcfbacf89', 'start_time': 1711040952.3539863, 'finish_time': 1711041222.6808167, 'total_runtime': 270.3268303871155, 'resources': {'cpu': 1}}, {'name': 'run_calculator', 'task_id': 'a5514fb2-6ac0-4e28-98b6-ed374c79755b', 'start_time': 1711040952.3539863, 'finish_time': 1711041222.6808167, 'total_runtime': 270.3268303871155, 'resources': {'cpu': 1}}, {'name': 'run_calculator', 'task_id': 'e861b4ce-59ef-43d5-9c6b-7ca99f26b6d5', 'start_time': 1711040952.3539863, 'finish_time': 1711041222.6808167, 'total_runtime': 270.3268303871155, 'resources': {'cpu': 1}}, {'name': 'run_calculator', 'task_id': 'eab08b85-6fa8-440e-9d2c-9fe27b2234c4', 'start_time': 1711040952.3539863, 'finish_time': 1711041212.5843349, 'total_runtime': 260.23034858703613, 'resources': {'cpu': 1}}, {'name': 'run_calculator', 'task_id': '3ed46129-78a4-4522-ac2d-adbd3a30e0fe', 'start_time': 1711040952.3539863, 'finish_time': 1711041212.5843349, 'total_runtime': 260.23034858703613, 'resources': {'cpu': 1}}, {'name': 'run_calculator', 'task_id': '8000f8f2-31dd-433b-a180-b236eea45cd9', 'start_time': 1711041118.6962764, 'finish_time': 1711041273.4213915, 'total_runtime': 154.72511506080627, 'resources': {'cpu': 7}}], task_allocation=[{'name': 'run_calculator', 'task_id': '12a2fac2-49e6-435b-b065-fa47626d1528', 'resources': {'cpu': 1}, 'total_runtime': 358.4481760846666}, {'name': 'run_calculator', 'task_id': '5f1bc92b-3e2b-4a1e-9d34-fd7255830efc', 'resources': {'cpu': 6}, 'total_runtime': 243.35872156638055}, {'name': 'run_calculator', 'task_id': '030d66fc-76af-4657-a4d9-3ab121958991', 'resources': {'cpu': 5}, 'total_runtime': 292.9087151354445}, {'name': 'run_calculator', 'task_id': '7860597e-be33-4445-88ee-00797daccda6', 'resources': {'cpu': 6}, 'total_runtime': 166.34229022388973}, {'name': 'run_calculator', 'task_id': '3dd43b50-9bb2-4fc1-88bc-c001b8129761', 'resources': {'cpu': 6}, 'total_runtime': 167.66169149612543}, {'name': 'run_calculator', 'task_id': '33a5453f-c4ff-4576-9c27-04b1488c9859', 'resources': {'cpu': 4}, 'total_runtime': 272.70129784416423}, {'name': 'run_calculator', 'task_id': '1fe68e79-6181-41f4-8a74-51ed3c513966', 'resources': {'cpu': 3}, 'total_runtime': 272.756118617515}, {'name': 'run_calculator', 'task_id': '5b098791-9c9f-469f-b270-d4c7bd05cc68', 'resources': {'cpu': 1}, 'total_runtime': 143.1057245972799}, {'name': 'run_calculator', 'task_id': '7271c5f4-c8a5-4eeb-a565-ce1ff70ee197', 'resources': {'cpu': 2}, 'total_runtime': 299.5212459472044}, {'name': 'run_calculator', 'task_id': '7a9464b8-bf98-440d-bdbb-25849fa64b95', 'resources': {'cpu': 1}, 'total_runtime': 285.2688049357655}, {'name': 'run_calculator', 'task_id': '1c666824-a0ba-4929-a598-85303b29bb47', 'resources': {'cpu': 1}, 'total_runtime': 285.2688049357655}, {'name': 'run_calculator', 'task_id': 'ca0239df-3870-41a4-8617-088292d84f1f', 'resources': {'cpu': 1}, 'total_runtime': 136.14318593261822}, {'name': 'run_calculator', 'task_id': 'cfa69881-1b95-44c8-aac1-60aee3a8ee01', 'resources': {'cpu': 7}, 'total_runtime': 209.20008061965964}, {'name': 'run_calculator', 'task_id': 'e6b60572-5640-4afa-8b57-7e54e72d853e', 'resources': {'cpu': 7}, 'total_runtime': 209.20008061965964}, {'name': 'run_calculator', 'task_id': '7d033b69-6974-4c93-b4d5-029bcfbacf89', 'resources': {'cpu': 1}, 'total_runtime': 270.3268304230463}, {'name': 'run_calculator', 'task_id': 'a5514fb2-6ac0-4e28-98b6-ed374c79755b', 'resources': {'cpu': 1}, 'total_runtime': 270.3268304230463}, {'name': 'run_calculator', 'task_id': 'e861b4ce-59ef-43d5-9c6b-7ca99f26b6d5', 'resources': {'cpu': 1}, 'total_runtime': 270.3268304230463}, {'name': 'run_calculator', 'task_id': 'eab08b85-6fa8-440e-9d2c-9fe27b2234c4', 'resources': {'cpu': 1}, 'total_runtime': 260.2303486073963}, {'name': 'run_calculator', 'task_id': '3ed46129-78a4-4522-ac2d-adbd3a30e0fe', 'resources': {'cpu': 1}, 'total_runtime': 260.2303486073963}, {'name': 'run_calculator', 'task_id': '8000f8f2-31dd-433b-a180-b236eea45cd9', 'resources': {'cpu': 7}, 'total_runtime': 154.72511513281816}])\""
      ]
     },
     "metadata": {},
     "output_type": "display_data"
    },
    {
     "name": "stdout",
     "output_type": "stream",
     "text": [
      "individual(individual_id=20204, tasks_nums={'run_calculator': 20, 'train': 0, 'evaluate': 0, 'run_sampling': 0}, total_resources={'cpu': 56, 'gpu': 4, 'memory': '128G'}, total_time=0, max_time=0, score=-358.4481761455536, predict_run_seq=[{'name': 'run_calculator', 'task_id': '12a2fac2-49e6-435b-b065-fa47626d1528', 'start_time': 1711040952.3539863, 'finish_time': 1711041310.8021624, 'total_runtime': 358.4481761455536, 'resources': {'cpu': 1}}, {'name': 'run_calculator', 'task_id': '5f1bc92b-3e2b-4a1e-9d34-fd7255830efc', 'start_time': 1711040952.3539863, 'finish_time': 1711041195.7127078, 'total_runtime': 243.35872149467468, 'resources': {'cpu': 6}}, {'name': 'run_calculator', 'task_id': '030d66fc-76af-4657-a4d9-3ab121958991', 'start_time': 1711040952.3539863, 'finish_time': 1711041245.2627015, 'total_runtime': 292.9087152481079, 'resources': {'cpu': 5}}, {'name': 'run_calculator', 'task_id': '7860597e-be33-4445-88ee-00797daccda6', 'start_time': 1711040952.3539863, 'finish_time': 1711041095.4597108, 'total_runtime': 143.10572457313538, 'resources': {'cpu': 6}}, {'name': 'run_calculator', 'task_id': '3dd43b50-9bb2-4fc1-88bc-c001b8129761', 'start_time': 1711040952.3539863, 'finish_time': 1711041120.0156777, 'total_runtime': 167.66169142723083, 'resources': {'cpu': 6}}, {'name': 'run_calculator', 'task_id': '33a5453f-c4ff-4576-9c27-04b1488c9859', 'start_time': 1711040952.3539863, 'finish_time': 1711041225.055284, 'total_runtime': 272.70129776000977, 'resources': {'cpu': 4}}, {'name': 'run_calculator', 'task_id': '1fe68e79-6181-41f4-8a74-51ed3c513966', 'start_time': 1711040952.3539863, 'finish_time': 1711041225.1101048, 'total_runtime': 272.7561185359955, 'resources': {'cpu': 3}}, {'name': 'run_calculator', 'task_id': '5b098791-9c9f-469f-b270-d4c7bd05cc68', 'start_time': 1711040952.3539863, 'finish_time': 1711041088.497172, 'total_runtime': 136.14318585395813, 'resources': {'cpu': 1}}, {'name': 'run_calculator', 'task_id': '7271c5f4-c8a5-4eeb-a565-ce1ff70ee197', 'start_time': 1711040952.3539863, 'finish_time': 1711041251.8752322, 'total_runtime': 299.5212459564209, 'resources': {'cpu': 2}}, {'name': 'run_calculator', 'task_id': '7a9464b8-bf98-440d-bdbb-25849fa64b95', 'start_time': 1711040952.3539863, 'finish_time': 1711041237.6227913, 'total_runtime': 285.26880502700806, 'resources': {'cpu': 1}}, {'name': 'run_calculator', 'task_id': '1c666824-a0ba-4929-a598-85303b29bb47', 'start_time': 1711040952.3539863, 'finish_time': 1711041237.6227913, 'total_runtime': 285.26880502700806, 'resources': {'cpu': 1}}, {'name': 'run_calculator', 'task_id': 'ca0239df-3870-41a4-8617-088292d84f1f', 'start_time': 1711040952.3539863, 'finish_time': 1711040952.3539863, 'total_runtime': 0.0, 'resources': {'cpu': 1}}, {'name': 'run_calculator', 'task_id': 'cfa69881-1b95-44c8-aac1-60aee3a8ee01', 'start_time': 1711040952.3539863, 'finish_time': 1711041161.554067, 'total_runtime': 209.20008063316345, 'resources': {'cpu': 7}}, {'name': 'run_calculator', 'task_id': 'e6b60572-5640-4afa-8b57-7e54e72d853e', 'start_time': 1711040952.3539863, 'finish_time': 1711041161.554067, 'total_runtime': 209.20008063316345, 'resources': {'cpu': 7}}, {'name': 'run_calculator', 'task_id': '7d033b69-6974-4c93-b4d5-029bcfbacf89', 'start_time': 1711040952.3539863, 'finish_time': 1711041222.6808167, 'total_runtime': 270.3268303871155, 'resources': {'cpu': 1}}, {'name': 'run_calculator', 'task_id': 'a5514fb2-6ac0-4e28-98b6-ed374c79755b', 'start_time': 1711040952.3539863, 'finish_time': 1711041222.6808167, 'total_runtime': 270.3268303871155, 'resources': {'cpu': 1}}, {'name': 'run_calculator', 'task_id': 'e861b4ce-59ef-43d5-9c6b-7ca99f26b6d5', 'start_time': 1711040952.3539863, 'finish_time': 1711041222.6808167, 'total_runtime': 270.3268303871155, 'resources': {'cpu': 1}}, {'name': 'run_calculator', 'task_id': 'eab08b85-6fa8-440e-9d2c-9fe27b2234c4', 'start_time': 1711040952.3539863, 'finish_time': 1711041212.5843349, 'total_runtime': 260.23034858703613, 'resources': {'cpu': 1}}, {'name': 'run_calculator', 'task_id': '3ed46129-78a4-4522-ac2d-adbd3a30e0fe', 'start_time': 1711040952.3539863, 'finish_time': 1711041212.5843349, 'total_runtime': 260.23034858703613, 'resources': {'cpu': 1}}, {'name': 'run_calculator', 'task_id': '8000f8f2-31dd-433b-a180-b236eea45cd9', 'start_time': 1711041118.6962764, 'finish_time': 1711041273.4213915, 'total_runtime': 154.72511506080627, 'resources': {'cpu': 7}}], task_allocation=[{'name': 'run_calculator', 'task_id': '12a2fac2-49e6-435b-b065-fa47626d1528', 'resources': {'cpu': 1}, 'total_runtime': 358.4481760846666}, {'name': 'run_calculator', 'task_id': '5f1bc92b-3e2b-4a1e-9d34-fd7255830efc', 'resources': {'cpu': 6}, 'total_runtime': 243.35872156638055}, {'name': 'run_calculator', 'task_id': '030d66fc-76af-4657-a4d9-3ab121958991', 'resources': {'cpu': 5}, 'total_runtime': 292.9087151354445}, {'name': 'run_calculator', 'task_id': '7860597e-be33-4445-88ee-00797daccda6', 'resources': {'cpu': 6}, 'total_runtime': 166.34229022388973}, {'name': 'run_calculator', 'task_id': '3dd43b50-9bb2-4fc1-88bc-c001b8129761', 'resources': {'cpu': 6}, 'total_runtime': 167.66169149612543}, {'name': 'run_calculator', 'task_id': '33a5453f-c4ff-4576-9c27-04b1488c9859', 'resources': {'cpu': 4}, 'total_runtime': 272.70129784416423}, {'name': 'run_calculator', 'task_id': '1fe68e79-6181-41f4-8a74-51ed3c513966', 'resources': {'cpu': 3}, 'total_runtime': 272.756118617515}, {'name': 'run_calculator', 'task_id': '5b098791-9c9f-469f-b270-d4c7bd05cc68', 'resources': {'cpu': 1}, 'total_runtime': 143.1057245972799}, {'name': 'run_calculator', 'task_id': '7271c5f4-c8a5-4eeb-a565-ce1ff70ee197', 'resources': {'cpu': 2}, 'total_runtime': 299.5212459472044}, {'name': 'run_calculator', 'task_id': '7a9464b8-bf98-440d-bdbb-25849fa64b95', 'resources': {'cpu': 1}, 'total_runtime': 285.2688049357655}, {'name': 'run_calculator', 'task_id': '1c666824-a0ba-4929-a598-85303b29bb47', 'resources': {'cpu': 1}, 'total_runtime': 285.2688049357655}, {'name': 'run_calculator', 'task_id': 'ca0239df-3870-41a4-8617-088292d84f1f', 'resources': {'cpu': 1}, 'total_runtime': 136.14318593261822}, {'name': 'run_calculator', 'task_id': 'cfa69881-1b95-44c8-aac1-60aee3a8ee01', 'resources': {'cpu': 7}, 'total_runtime': 209.20008061965964}, {'name': 'run_calculator', 'task_id': 'e6b60572-5640-4afa-8b57-7e54e72d853e', 'resources': {'cpu': 7}, 'total_runtime': 209.20008061965964}, {'name': 'run_calculator', 'task_id': '7d033b69-6974-4c93-b4d5-029bcfbacf89', 'resources': {'cpu': 1}, 'total_runtime': 270.3268304230463}, {'name': 'run_calculator', 'task_id': 'a5514fb2-6ac0-4e28-98b6-ed374c79755b', 'resources': {'cpu': 1}, 'total_runtime': 270.3268304230463}, {'name': 'run_calculator', 'task_id': 'e861b4ce-59ef-43d5-9c6b-7ca99f26b6d5', 'resources': {'cpu': 1}, 'total_runtime': 270.3268304230463}, {'name': 'run_calculator', 'task_id': 'eab08b85-6fa8-440e-9d2c-9fe27b2234c4', 'resources': {'cpu': 1}, 'total_runtime': 260.2303486073963}, {'name': 'run_calculator', 'task_id': '3ed46129-78a4-4522-ac2d-adbd3a30e0fe', 'resources': {'cpu': 1}, 'total_runtime': 260.2303486073963}, {'name': 'run_calculator', 'task_id': '8000f8f2-31dd-433b-a180-b236eea45cd9', 'resources': {'cpu': 7}, 'total_runtime': 154.72511513281816}])\n"
     ]
    }
   ],
   "source": [
    "best_ind = tq.evosch.run_ga(100)\n",
    "print(best_ind)"
   ]
  },
  {
   "cell_type": "code",
   "execution_count": 5,
   "metadata": {},
   "outputs": [
    {
     "name": "stdout",
     "output_type": "stream",
     "text": [
      "{'cpu': 1} 358.4481760846666\n",
      "{'cpu': 2} 299.5212459472044\n",
      "{'cpu': 5} 292.9087151354445\n",
      "{'cpu': 1} 285.2688049357655\n",
      "{'cpu': 1} 285.2688049357655\n",
      "{'cpu': 3} 272.756118617515\n",
      "{'cpu': 4} 272.70129784416423\n",
      "{'cpu': 1} 270.3268304230463\n",
      "{'cpu': 1} 270.3268304230463\n",
      "{'cpu': 1} 270.3268304230463\n",
      "{'cpu': 1} 260.2303486073963\n",
      "{'cpu': 1} 260.2303486073963\n",
      "{'cpu': 6} 243.35872156638055\n",
      "{'cpu': 7} 209.20008061965964\n",
      "{'cpu': 7} 209.20008061965964\n",
      "{'cpu': 6} 167.66169149612543\n",
      "{'cpu': 6} 166.34229022388973\n",
      "{'cpu': 7} 154.72511513281816\n",
      "{'cpu': 1} 143.1057245972799\n",
      "{'cpu': 1} 136.14318593261822\n",
      "cost toatl cpu:63\n"
     ]
    }
   ],
   "source": [
    "task_allocation = best_ind.task_allocation\n",
    "task_allocation.sort(key=lambda x:x['total_runtime'], reverse=True)\n",
    "cpus = 0\n",
    "for task in task_allocation:\n",
    "    cpus += task['resources']['cpu']\n",
    "    print(task[\"resources\"],task[\"total_runtime\"])\n",
    "    \n",
    "print(f\"cost toatl cpu:{cpus}\")\n",
    "\n"
   ]
  },
  {
   "cell_type": "code",
   "execution_count": 21,
   "metadata": {},
   "outputs": [
    {
     "name": "stdout",
     "output_type": "stream",
     "text": [
      "<class 'NoneType'>\n"
     ]
    }
   ],
   "source": [
    "task_allocation = sorted(predifine_ind.predict_run_seq, key=lambda x:x['total_runtime'], reverse=True)\n",
    "print(type(predifine_ind.predict_run_seq.sort(key=lambda x:x['total_runtime'], reverse=True)))"
   ]
  },
  {
   "cell_type": "code",
   "execution_count": 9,
   "metadata": {},
   "outputs": [
    {
     "name": "stdout",
     "output_type": "stream",
     "text": [
      "0\n"
     ]
    }
   ],
   "source": [
    "print(8%2)"
   ]
  }
 ],
 "metadata": {
  "kernelspec": {
   "display_name": "multisite",
   "language": "python",
   "name": "python3"
  },
  "language_info": {
   "codemirror_mode": {
    "name": "ipython",
    "version": 3
   },
   "file_extension": ".py",
   "mimetype": "text/x-python",
   "name": "python",
   "nbconvert_exporter": "python",
   "pygments_lexer": "ipython3",
   "version": "3.9.16"
  }
 },
 "nbformat": 4,
 "nbformat_minor": 2
}
