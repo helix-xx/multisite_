{
 "cells": [
  {
   "cell_type": "code",
   "execution_count": 1,
   "metadata": {},
   "outputs": [],
   "source": [
    "from pdb import run\n",
    "from fff.simulation import run_calculator\n",
    "from fff.simulation.utils import read_from_string, write_to_string\n",
    "from _pytest.fixtures import fixture\n",
    "import ase\n",
    "from ase.build import molecule\n",
    "from dataclasses import dataclass\n",
    "from pathlib import Path\n",
    "from typing  import Dict, Any, List, Optional\n",
    "import os\n",
    "import psutil\n",
    "from functools import partial, update_wrapper\n",
    "import json\n",
    "import pickle\n",
    "import time\n",
    "import multiprocessing as mp\n",
    "import matplotlib.pyplot as plt\n",
    "\n",
    "import matplotlib.pyplot as plt\n",
    "import numpy as np\n",
    "import math\n",
    "\n",
    "import sys\n",
    "sys.path.append('../../multisite_')\n",
    "# sys.path.append('../my_util')\n",
    "from colmena.queue.evo_sch import *\n",
    "from colmena.models import Result, ResourceRequirements\n",
    "from my_util.data_structure import *\n",
    "\n",
    "# import logging\n",
    "# from IPython.display import display\n",
    "# logger = logging.getLogger()\n",
    "# logger.setLevel(logging.INFO)  # 设置日志级别为 INFO 或其他你想要的级别\n",
    "\n",
    "# class JupyterHandler(logging.Handler):\n",
    "#     def emit(self, record):\n",
    "#         display(self.format(record))\n",
    "\n",
    "# handler = JupyterHandler()\n",
    "# handler.setLevel(logging.INFO)  # 设置处理程序的日志级别\n",
    "# logger.addHandler(handler)\n",
    "\n",
    "        \n",
    "        \n"
   ]
  },
  {
   "cell_type": "code",
   "execution_count": 2,
   "metadata": {},
   "outputs": [
    {
     "name": "stderr",
     "output_type": "stream",
     "text": [
      "Intel(R) Extension for Scikit-learn* enabled (https://github.com/intel/scikit-learn-intelex)\n"
     ]
    },
    {
     "name": "stdout",
     "output_type": "stream",
     "text": [
      "<__main__.test_queue object at 0x7f6d43e3a070>\n",
      "{'run_sampling': [], 'train': [], 'run_calculator': ['81302775-4b94-45af-a826-6c67e1a3832c', 'bb95c5c7-1e64-492f-b0b9-c844f2657533', 'fff2f0ca-e674-48bc-b819-3386dd2dbbb8'], 'evaluate': []}\n",
      "Current memory usage: 264.76 MB\n",
      "After cleaning memory usage: 264.71 MB\n",
      "Current memory usage: 268.77 MB\n",
      "After cleaning memory usage: 266.73 MB\n",
      "Current memory usage: 266.92 MB\n",
      "After cleaning memory usage: 266.87 MB\n",
      "[{'name': 'run_calculator', 'task_id': 'fff2f0ca-e674-48bc-b819-3386dd2dbbb8', 'resources': {'cpu': 10, 'gpu': 0, 'node': 'node1'}, 'total_runtime': 184.67668280636332}, {'name': 'run_calculator', 'task_id': 'bb95c5c7-1e64-492f-b0b9-c844f2657533', 'resources': {'cpu': 10, 'gpu': 0, 'node': 'node2'}, 'total_runtime': 112.87327722995775}, {'name': 'run_calculator', 'task_id': '81302775-4b94-45af-a826-6c67e1a3832c', 'resources': {'cpu': 8, 'gpu': 0, 'node': 'node1'}, 'total_runtime': 155.9388718677948}]\n",
      "GA running_time:3.3237414360046387\n"
     ]
    }
   ],
   "source": [
    "task_nums = 3\n",
    "class test_queue:\n",
    "    def __init__(self, task_nums) -> None:\n",
    "        self.available_resources = {\"node1\":{\"cpu\":56,\"gpu\":4},\"node2\":{\"cpu\":56,\"gpu\":4}}\n",
    "        self.result_list = {}\n",
    "        self.methods = {'train', 'evaluate', 'run_calculator', 'run_sampling'}\n",
    "        self._hist_data = historical_data(methods=self.methods, queue=self)\n",
    "        available_tasks = {}\n",
    "        for method in self.methods:\n",
    "            available_tasks[method] = []\n",
    "        self._available_tasks = available_task(available_tasks)\n",
    "        self.evosch = evosch2(resources=self.available_resources, at = self._available_tasks, hist_data=self._hist_data)\n",
    "    \n",
    "        with open(\"/home/lizz_lab/cse12232433/project/colmena/multisite_/finetuning-surrogates/runs/hist_data/task_queue_audit.pkl\",'rb')as f:\n",
    "            task_queue_audit = pickle.load(f)\n",
    "        # for to_run in task_queue_audit:\n",
    "        for i in range(task_nums):\n",
    "            to_run = task_queue_audit[i]\n",
    "            task_type = 'audit'\n",
    "            atoms = to_run.atoms\n",
    "            atoms.set_center_of_mass([0,0,0])\n",
    "            xyz = write_to_string(atoms, 'xyz')\n",
    "            input_args = (xyz,)\n",
    "            input_kargs = {}\n",
    "            result = Result(\n",
    "                (input_args,input_kargs), \n",
    "                method='run_calculator', \n",
    "                topic='simulate',\n",
    "                keep_inputs = True,\n",
    "                serialization_method='pickle',\n",
    "                task_info={'traj_id': to_run.traj_id, 'task_type': task_type,\n",
    "                                        'ml_energy': to_run.ml_eng, 'xyz': xyz},\n",
    "                resources=ResourceRequirements(cpu=8, gpu=0, node=\"all\")\n",
    "                \n",
    "            )\n",
    "            result.serialize()\n",
    "            self.result_list[result.task_id] = result\n",
    "            self._available_tasks.add_task_id(task_name=\"run_calculator\", task_id=result.task_id)\n",
    "                \n",
    "    \n",
    "hist_path = [] \n",
    "hist_path.append(\"/home/lizz_lab/cse12232433/project/colmena/multisite_/finetuning-surrogates/runs/hist_data/simulation-results-20240319_230707.json\")\n",
    "hist_path.append(\"/home/lizz_lab/cse12232433/project/colmena/multisite_/finetuning-surrogates/runs/hist_data/inference-results-20240319_230707.json\")\n",
    "hist_path.append(\"/home/lizz_lab/cse12232433/project/colmena/multisite_/finetuning-surrogates/runs/hist_data/sampling-results-20240319_230707.json\")\n",
    "hist_path.append(\"/home/lizz_lab/cse12232433/project/colmena/multisite_/finetuning-surrogates/runs/hist_data/training-results-20240319_230707.json\")\n",
    "\n",
    "tq = test_queue(task_nums=task_nums)\n",
    "tq._hist_data.get_features_from_his_json(hist_path)\n",
    "\n",
    "print(tq._hist_data.queue)\n",
    "print(tq.evosch.at.get_all())\n",
    "# tq.evosch.population = tq.evosch.generate_population(100)\n",
    "# predifine_ind = tq.evosch.population[-1]\n",
    "# print(predifine_ind.task_allocation)\n",
    "# measure time consume\n",
    "start_time = time.time()\n",
    "task_allocation = tq.evosch.run_ga()\n",
    "print(task_allocation)\n",
    "end_time = time.time()\n",
    "running_time = end_time - start_time\n",
    "\n",
    "print(f\"GA running_time:{running_time}\")\n"
   ]
  },
  {
   "cell_type": "code",
   "execution_count": 17,
   "metadata": {},
   "outputs": [
    {
     "name": "stderr",
     "output_type": "stream",
     "text": [
      "Intel(R) Extension for Scikit-learn* enabled (https://github.com/intel/scikit-learn-intelex)\n"
     ]
    },
    {
     "name": "stdout",
     "output_type": "stream",
     "text": [
      "<__main__.test_queue object at 0x7f85ccfdcc10>\n",
      "{'evaluate': [], 'run_calculator': ['7d80cabd-6006-463c-b7cb-dc4fc64979eb', 'a1c9b1bd-ce78-436d-844d-f9a901f4576d', '9a81ffbe-e9bf-4841-9b79-62c78c6aff85', '23f977dc-bf86-4b05-9e5b-dc044934f29f', 'e39581ea-5d33-4ef1-a6e4-aea9a8beb8b6', '830a8545-431f-4f82-9a9a-57be8277f811', 'ffddacfc-650d-4b29-96dc-0b3cb72c039f', 'e9f4aa55-8645-476a-8aa4-01acfc3acba0', 'e9b327b6-c3a3-4cf7-9205-e71d6ce738f4', '7ee044e6-ab47-4f5b-b7b8-990fae158a45'], 'train': [], 'run_sampling': []}\n",
      "Current memory usage: 227.63 MB\n",
      "After cleaning memory usage: 227.62 MB\n",
      "Current memory usage: 227.77 MB\n",
      "After cleaning memory usage: 227.71 MB\n",
      "Current memory usage: 227.80 MB\n",
      "After cleaning memory usage: 227.72 MB\n",
      "Current memory usage: 227.74 MB\n",
      "After cleaning memory usage: 227.70 MB\n",
      "[{'name': 'run_calculator', 'task_id': 'ffddacfc-650d-4b29-96dc-0b3cb72c039f', 'resources': {'cpu': 6, 'gpu': 0, 'node': 'node1'}, 'total_runtime': 167.66169149612543}, {'name': 'run_calculator', 'task_id': 'e39581ea-5d33-4ef1-a6e4-aea9a8beb8b6', 'resources': {'cpu': 8, 'gpu': 0, 'node': 'node1'}, 'total_runtime': 34.33825386766126}, {'name': 'run_calculator', 'task_id': '9a81ffbe-e9bf-4841-9b79-62c78c6aff85', 'resources': {'cpu': 6, 'gpu': 0, 'node': 'node1'}, 'total_runtime': 216.25597393491145}, {'name': 'run_calculator', 'task_id': '830a8545-431f-4f82-9a9a-57be8277f811', 'resources': {'cpu': 10, 'gpu': 0, 'node': 'node1'}, 'total_runtime': 101.89571085948788}, {'name': 'run_calculator', 'task_id': '23f977dc-bf86-4b05-9e5b-dc044934f29f', 'resources': {'cpu': 9, 'gpu': 0, 'node': 'node1'}, 'total_runtime': 213.30936557656977}, {'name': 'run_calculator', 'task_id': 'e9b327b6-c3a3-4cf7-9205-e71d6ce738f4', 'resources': {'cpu': 8, 'gpu': 0, 'node': 'node1'}, 'total_runtime': 121.69493552512067}, {'name': 'run_calculator', 'task_id': '7d80cabd-6006-463c-b7cb-dc4fc64979eb', 'resources': {'cpu': 8, 'gpu': 0, 'node': 'node1'}, 'total_runtime': 155.9388718677948}, {'name': 'run_calculator', 'task_id': '7ee044e6-ab47-4f5b-b7b8-990fae158a45', 'resources': {'cpu': 7, 'gpu': 0, 'node': 'node1'}, 'total_runtime': 209.20008061965964}, {'name': 'run_calculator', 'task_id': 'e9f4aa55-8645-476a-8aa4-01acfc3acba0', 'resources': {'cpu': 10, 'gpu': 0, 'node': 'node1'}, 'total_runtime': 146.57055980163378}, {'name': 'run_calculator', 'task_id': 'a1c9b1bd-ce78-436d-844d-f9a901f4576d', 'resources': {'cpu': 8, 'gpu': 0, 'node': 'node1'}, 'total_runtime': 121.69493552512067}]\n",
      "GA running_time:6.968356132507324\n",
      "Task_nums: 10, Running time: 13.72 seconds\n"
     ]
    },
    {
     "name": "stderr",
     "output_type": "stream",
     "text": [
      "Intel(R) Extension for Scikit-learn* enabled (https://github.com/intel/scikit-learn-intelex)\n"
     ]
    },
    {
     "name": "stdout",
     "output_type": "stream",
     "text": [
      "<__main__.test_queue object at 0x7f15fda03c10>\n",
      "{'evaluate': [], 'train': [], 'run_calculator': ['4e33df2a-6aec-4ceb-aea8-76530e8b6280', '34394039-c421-4d91-9fcf-23fdf8317aef', 'bc1642c2-ca66-4e16-8f33-ecd4563fabdc', 'ac30974d-277e-4db2-a2c4-35077e1983ce', 'f773c997-b632-4a0b-bc3a-3edf4533f35d', '1e25e3bd-5e1b-4e66-a867-e72128989f14', '4dffc56d-1cfb-4a50-9206-892e3799490f', 'a9da6f18-e80b-4388-a106-6be59a8265f7', 'ab65261a-361c-4abf-9837-75d33ec9b600', '8e0fa6eb-e5f0-40bd-88a8-a26f724db016', '1da93f46-78d5-4600-8b5c-c9c798cb7f62', 'bfbecdfa-3e9f-4342-90e1-96e1cb6b478e', 'e4bd8d27-7943-458c-a8af-03e89296b51b', '207a4ec5-6a45-4525-8bc2-becb75b17588', '58a2e8b1-d85d-420e-a33a-b66d37993acb', 'd1f1b3f9-2323-4da5-9c60-c2447590f310', 'e2d11977-7e17-4cef-b1d6-2cea8b2c6fb6', '2860df1c-ac3a-4367-8fb5-87ee8d85c0ab', '11a8792c-c943-4b5b-9597-af1b5b4ebe61', '82f6b8cd-a66f-4d48-8dc5-4f4c39809296'], 'run_sampling': []}\n",
      "Current memory usage: 230.68 MB\n",
      "After cleaning memory usage: 230.65 MB\n",
      "Current memory usage: 230.71 MB\n",
      "After cleaning memory usage: 230.68 MB\n",
      "Current memory usage: 230.75 MB\n",
      "After cleaning memory usage: 230.70 MB\n",
      "Current memory usage: 230.72 MB\n",
      "After cleaning memory usage: 230.68 MB\n",
      "[{'name': 'run_calculator', 'task_id': 'a9da6f18-e80b-4388-a106-6be59a8265f7', 'resources': {'cpu': 8, 'gpu': 0, 'node': 'node1'}, 'total_runtime': 147.58094032467997}, {'name': 'run_calculator', 'task_id': 'ac30974d-277e-4db2-a2c4-35077e1983ce', 'resources': {'cpu': 8, 'gpu': 0, 'node': 'node1'}, 'total_runtime': 230.9375998753204}, {'name': 'run_calculator', 'task_id': '82f6b8cd-a66f-4d48-8dc5-4f4c39809296', 'resources': {'cpu': 8, 'gpu': 0, 'node': 'node1'}, 'total_runtime': 138.9268113636147}, {'name': 'run_calculator', 'task_id': '4e33df2a-6aec-4ceb-aea8-76530e8b6280', 'resources': {'cpu': 8, 'gpu': 0, 'node': 'node1'}, 'total_runtime': 155.9388718677948}, {'name': 'run_calculator', 'task_id': '8e0fa6eb-e5f0-40bd-88a8-a26f724db016', 'resources': {'cpu': 8, 'gpu': 0, 'node': 'node1'}, 'total_runtime': 202.64712131201108}, {'name': 'run_calculator', 'task_id': '1da93f46-78d5-4600-8b5c-c9c798cb7f62', 'resources': {'cpu': 8, 'gpu': 0, 'node': 'node1'}, 'total_runtime': 147.58094032467997}, {'name': 'run_calculator', 'task_id': 'd1f1b3f9-2323-4da5-9c60-c2447590f310', 'resources': {'cpu': 7, 'gpu': 0, 'node': 'node1'}, 'total_runtime': 24.741124448110494}, {'name': 'run_calculator', 'task_id': '34394039-c421-4d91-9fcf-23fdf8317aef', 'resources': {'cpu': 8, 'gpu': 0, 'node': 'node1'}, 'total_runtime': 121.69493552512067}, {'name': 'run_calculator', 'task_id': '1e25e3bd-5e1b-4e66-a867-e72128989f14', 'resources': {'cpu': 7, 'gpu': 0, 'node': 'node1'}, 'total_runtime': 111.46193393569003}, {'name': 'run_calculator', 'task_id': 'bc1642c2-ca66-4e16-8f33-ecd4563fabdc', 'resources': {'cpu': 8, 'gpu': 0, 'node': 'node1'}, 'total_runtime': 202.64712131201108}, {'name': 'run_calculator', 'task_id': 'ab65261a-361c-4abf-9837-75d33ec9b600', 'resources': {'cpu': 8, 'gpu': 0, 'node': 'node1'}, 'total_runtime': 121.69493552512067}, {'name': 'run_calculator', 'task_id': 'e2d11977-7e17-4cef-b1d6-2cea8b2c6fb6', 'resources': {'cpu': 8, 'gpu': 0, 'node': 'node1'}, 'total_runtime': 138.9268113636147}, {'name': 'run_calculator', 'task_id': '2860df1c-ac3a-4367-8fb5-87ee8d85c0ab', 'resources': {'cpu': 8, 'gpu': 0, 'node': 'node1'}, 'total_runtime': 138.9268113636147}, {'name': 'run_calculator', 'task_id': 'e4bd8d27-7943-458c-a8af-03e89296b51b', 'resources': {'cpu': 8, 'gpu': 0, 'node': 'node1'}, 'total_runtime': 202.64712131201108}, {'name': 'run_calculator', 'task_id': 'f773c997-b632-4a0b-bc3a-3edf4533f35d', 'resources': {'cpu': 7, 'gpu': 0, 'node': 'node1'}, 'total_runtime': 30.19926196768094}, {'name': 'run_calculator', 'task_id': '4dffc56d-1cfb-4a50-9206-892e3799490f', 'resources': {'cpu': 8, 'gpu': 0, 'node': 'node1'}, 'total_runtime': 155.9388718677948}, {'name': 'run_calculator', 'task_id': '58a2e8b1-d85d-420e-a33a-b66d37993acb', 'resources': {'cpu': 8, 'gpu': 0, 'node': 'node1'}, 'total_runtime': 147.58094032467997}, {'name': 'run_calculator', 'task_id': 'bfbecdfa-3e9f-4342-90e1-96e1cb6b478e', 'resources': {'cpu': 8, 'gpu': 0, 'node': 'node1'}, 'total_runtime': 138.9268113636147}, {'name': 'run_calculator', 'task_id': '11a8792c-c943-4b5b-9597-af1b5b4ebe61', 'resources': {'cpu': 8, 'gpu': 0, 'node': 'node1'}, 'total_runtime': 121.69493552512067}, {'name': 'run_calculator', 'task_id': '207a4ec5-6a45-4525-8bc2-becb75b17588', 'resources': {'cpu': 8, 'gpu': 0, 'node': 'node1'}, 'total_runtime': 109.2715654359899}]\n",
      "GA running_time:9.527942419052124\n",
      "Task_nums: 20, Running time: 14.28 seconds\n"
     ]
    },
    {
     "name": "stderr",
     "output_type": "stream",
     "text": [
      "Intel(R) Extension for Scikit-learn* enabled (https://github.com/intel/scikit-learn-intelex)\n"
     ]
    },
    {
     "name": "stdout",
     "output_type": "stream",
     "text": [
      "<__main__.test_queue object at 0x7f8a772c8c10>\n",
      "{'train': [], 'evaluate': [], 'run_calculator': ['dee569a7-7bfa-480c-971c-0a0655155f6c', '4c8a9e56-21e5-42f5-b69b-bc4cbaee1ce2', 'bc435dc1-e7ed-41a1-81c8-f39f43fd3e45', '7504d534-6d5b-46e9-9268-0659b2553d1d', '13f66503-e678-4cd4-b625-045bbecdcf95', '70be4868-a7c6-4685-89e8-cdbe87aa7622', '452810d9-3aec-4ad6-9e33-e9e3a96261d2', '68cfcec6-e496-46cb-993d-9de9337146af', '6c2dd7c7-8809-45f4-82a0-05bb41b5f37b', '510e8eff-b6d0-4b6a-9ec4-05e8240380fc', 'd892750e-f01f-4183-87af-4fd23de7c00e', '877aea43-e805-4437-a103-dea079c8a9b3', '5bcef8e2-9574-469f-a808-45e218e0534b', '5f9d6f27-a7fe-4700-b0ed-f631d3564d9b', 'b7845fb8-0ab6-41c4-9d6c-0279d61825c8', '212a1e5b-3dc5-4882-9eb4-6fe410f714a9', '2167b079-d3c6-495e-a716-4d8018da0fcc', '3b56510b-2b19-48d2-b413-2a9bc3a2644c', '22595441-0e69-4e0f-acf1-3a2d997b6552', 'aa899642-db53-4c7a-ae14-40c7f6f25a7a', 'b81945bc-0260-4b76-9f87-6d650f5897a8', '00ee0fe1-0106-4c8e-84f3-8e380240f83b', '04068710-b242-4510-aba5-f1f7678b85fe', '665076e4-6ce3-4178-b0eb-05a70ed811ee', 'b9d948c1-4285-4689-80cd-2fa2c8d3f4c7', 'a715fd8c-7e53-480b-8936-b4f4fdc381a0', '7420dd38-1b11-4b0e-a790-48fadeef4131', 'bd81d4e0-2eb7-4ab9-8e13-898041ad672d', '8bd58f9e-54c6-4beb-b980-9c69faa6be9c', '13533ca3-1246-4a81-8dec-e97ccfa31af9'], 'run_sampling': []}\n",
      "Current memory usage: 231.97 MB\n",
      "After cleaning memory usage: 231.92 MB\n",
      "Current memory usage: 231.94 MB\n",
      "After cleaning memory usage: 231.94 MB\n",
      "Current memory usage: 232.09 MB\n",
      "After cleaning memory usage: 232.05 MB\n",
      "Current memory usage: 232.04 MB\n",
      "After cleaning memory usage: 231.99 MB\n",
      "[{'name': 'run_calculator', 'task_id': '68cfcec6-e496-46cb-993d-9de9337146af', 'resources': {'cpu': 8, 'gpu': 0, 'node': 'node1'}, 'total_runtime': 147.58094032467997}, {'name': 'run_calculator', 'task_id': '5bcef8e2-9574-469f-a808-45e218e0534b', 'resources': {'cpu': 8, 'gpu': 0, 'node': 'node1'}, 'total_runtime': 202.64712131201108}, {'name': 'run_calculator', 'task_id': 'b7845fb8-0ab6-41c4-9d6c-0279d61825c8', 'resources': {'cpu': 8, 'gpu': 0, 'node': 'node1'}, 'total_runtime': 147.58094032467997}, {'name': 'run_calculator', 'task_id': '2167b079-d3c6-495e-a716-4d8018da0fcc', 'resources': {'cpu': 8, 'gpu': 0, 'node': 'node1'}, 'total_runtime': 138.9268113636147}, {'name': 'run_calculator', 'task_id': '665076e4-6ce3-4178-b0eb-05a70ed811ee', 'resources': {'cpu': 8, 'gpu': 0, 'node': 'node1'}, 'total_runtime': 202.64712131201108}, {'name': 'run_calculator', 'task_id': 'bc435dc1-e7ed-41a1-81c8-f39f43fd3e45', 'resources': {'cpu': 8, 'gpu': 0, 'node': 'node1'}, 'total_runtime': 202.64712131201108}, {'name': 'run_calculator', 'task_id': 'a715fd8c-7e53-480b-8936-b4f4fdc381a0', 'resources': {'cpu': 7, 'gpu': 0, 'node': 'node1'}, 'total_runtime': 24.903328936240577}, {'name': 'run_calculator', 'task_id': 'b9d948c1-4285-4689-80cd-2fa2c8d3f4c7', 'resources': {'cpu': 8, 'gpu': 0, 'node': 'node1'}, 'total_runtime': 202.64712131201108}, {'name': 'run_calculator', 'task_id': '13533ca3-1246-4a81-8dec-e97ccfa31af9', 'resources': {'cpu': 8, 'gpu': 0, 'node': 'node1'}, 'total_runtime': 202.64712131201108}, {'name': 'run_calculator', 'task_id': 'dee569a7-7bfa-480c-971c-0a0655155f6c', 'resources': {'cpu': 8, 'gpu': 0, 'node': 'node1'}, 'total_runtime': 155.9388718677948}, {'name': 'run_calculator', 'task_id': '7504d534-6d5b-46e9-9268-0659b2553d1d', 'resources': {'cpu': 8, 'gpu': 0, 'node': 'node1'}, 'total_runtime': 230.9375998753204}, {'name': 'run_calculator', 'task_id': '7420dd38-1b11-4b0e-a790-48fadeef4131', 'resources': {'cpu': 8, 'gpu': 0, 'node': 'node1'}, 'total_runtime': 138.9268113636147}, {'name': 'run_calculator', 'task_id': '877aea43-e805-4437-a103-dea079c8a9b3', 'resources': {'cpu': 8, 'gpu': 0, 'node': 'node1'}, 'total_runtime': 138.9268113636147}, {'name': 'run_calculator', 'task_id': '5f9d6f27-a7fe-4700-b0ed-f631d3564d9b', 'resources': {'cpu': 8, 'gpu': 0, 'node': 'node1'}, 'total_runtime': 109.2715654359899}, {'name': 'run_calculator', 'task_id': 'bd81d4e0-2eb7-4ab9-8e13-898041ad672d', 'resources': {'cpu': 8, 'gpu': 0, 'node': 'node1'}, 'total_runtime': 138.9268113636147}, {'name': 'run_calculator', 'task_id': '452810d9-3aec-4ad6-9e33-e9e3a96261d2', 'resources': {'cpu': 8, 'gpu': 0, 'node': 'node1'}, 'total_runtime': 155.9388718677948}, {'name': 'run_calculator', 'task_id': 'd892750e-f01f-4183-87af-4fd23de7c00e', 'resources': {'cpu': 8, 'gpu': 0, 'node': 'node1'}, 'total_runtime': 147.58094032467997}, {'name': 'run_calculator', 'task_id': '510e8eff-b6d0-4b6a-9ec4-05e8240380fc', 'resources': {'cpu': 8, 'gpu': 0, 'node': 'node1'}, 'total_runtime': 202.64712131201108}, {'name': 'run_calculator', 'task_id': 'aa899642-db53-4c7a-ae14-40c7f6f25a7a', 'resources': {'cpu': 8, 'gpu': 0, 'node': 'node1'}, 'total_runtime': 138.9268113636147}, {'name': 'run_calculator', 'task_id': '8bd58f9e-54c6-4beb-b980-9c69faa6be9c', 'resources': {'cpu': 8, 'gpu': 0, 'node': 'node1'}, 'total_runtime': 121.69493552512067}, {'name': 'run_calculator', 'task_id': '70be4868-a7c6-4685-89e8-cdbe87aa7622', 'resources': {'cpu': 8, 'gpu': 0, 'node': 'node1'}, 'total_runtime': 109.2715654359899}, {'name': 'run_calculator', 'task_id': 'b81945bc-0260-4b76-9f87-6d650f5897a8', 'resources': {'cpu': 8, 'gpu': 0, 'node': 'node1'}, 'total_runtime': 155.9388718677948}, {'name': 'run_calculator', 'task_id': '00ee0fe1-0106-4c8e-84f3-8e380240f83b', 'resources': {'cpu': 8, 'gpu': 0, 'node': 'node1'}, 'total_runtime': 138.9268113636147}, {'name': 'run_calculator', 'task_id': '3b56510b-2b19-48d2-b413-2a9bc3a2644c', 'resources': {'cpu': 8, 'gpu': 0, 'node': 'node1'}, 'total_runtime': 138.9268113636147}, {'name': 'run_calculator', 'task_id': '6c2dd7c7-8809-45f4-82a0-05bb41b5f37b', 'resources': {'cpu': 8, 'gpu': 0, 'node': 'node1'}, 'total_runtime': 121.69493552512067}, {'name': 'run_calculator', 'task_id': '22595441-0e69-4e0f-acf1-3a2d997b6552', 'resources': {'cpu': 8, 'gpu': 0, 'node': 'node1'}, 'total_runtime': 121.69493552512067}, {'name': 'run_calculator', 'task_id': '4c8a9e56-21e5-42f5-b69b-bc4cbaee1ce2', 'resources': {'cpu': 8, 'gpu': 0, 'node': 'node1'}, 'total_runtime': 121.69493552512067}, {'name': 'run_calculator', 'task_id': '04068710-b242-4510-aba5-f1f7678b85fe', 'resources': {'cpu': 16, 'gpu': 0, 'node': 'node1'}, 'total_runtime': 20.39433616142691}, {'name': 'run_calculator', 'task_id': '212a1e5b-3dc5-4882-9eb4-6fe410f714a9', 'resources': {'cpu': 8, 'gpu': 0, 'node': 'node1'}, 'total_runtime': 29.930745318661067}, {'name': 'run_calculator', 'task_id': '13f66503-e678-4cd4-b625-045bbecdcf95', 'resources': {'cpu': 6, 'gpu': 0, 'node': 'node1'}, 'total_runtime': 30.19926196768094}]\n",
      "GA running_time:12.476493835449219\n",
      "Task_nums: 30, Running time: 15.75 seconds\n"
     ]
    },
    {
     "name": "stderr",
     "output_type": "stream",
     "text": [
      "Intel(R) Extension for Scikit-learn* enabled (https://github.com/intel/scikit-learn-intelex)\n"
     ]
    },
    {
     "name": "stdout",
     "output_type": "stream",
     "text": [
      "<__main__.test_queue object at 0x7f61d62cac10>\n",
      "{'train': [], 'evaluate': [], 'run_sampling': [], 'run_calculator': ['ad85bd88-7110-4304-8aec-0bdeb8cd9de1', '547360da-80dc-4d55-a00a-d2c6008845d5', '9f2b2825-e98c-4c90-9265-3e17be20a506', 'b994d2f5-6c27-4772-af43-9eea17acd533', '59be4f8a-ed72-4654-be00-028411292773', 'c362dc93-c310-49e8-b6d4-72c303590298', 'c15f7445-2d7f-4946-b148-5734e105a95a', 'a34fc0aa-fd3f-4de9-ae39-6c94d040b1d3', '640c504b-7949-4522-84c3-3c9885057468', '25b14677-236d-421e-afca-7159d8184a28', '18de967b-961a-458d-914e-f1826aa0f5ca', '1d59bc9c-259f-4f61-8575-88496a5462ee', '7cbd44d1-a8d2-45b0-ac17-692da5f0e1be', '8ec97fbe-045b-4952-b972-5cf3c2dbefb0', '99d00191-1a2b-46bb-a194-123dbdd75e53', 'd4e95462-9dc9-4d68-89b2-6f421f261971', '1eaa0452-ff33-4fc5-bc86-66c707855f6c', '45fa8d5a-a962-4c62-9df4-b976f48ce1d1', '07a87747-227f-455f-873e-9593acaad9f5', '9c77e01b-5b1d-4b30-ad32-aac9fe31d07d', '0ebd3633-1838-406b-abe5-10e465447b1a', 'ee7a6522-d1c1-47b7-8730-fb95d12d46cc', '156a5580-f8b1-4a0c-b6b0-d835b37c0431', '740ec2b7-de08-4099-a9b5-a52eda026b27', '3100fc06-14ae-4790-86f7-1163d8e73390', '3d4e8b74-ee96-4a43-898a-2ae7ccde9bcd', 'e4c0d26d-4567-464f-bd6c-7091957c8796', '4afe5c5a-3d2d-4724-8ad6-1193ff452338', '7a3ab3a8-505c-4546-ba1a-b2667d71a71b', 'a66f2fc1-f185-4266-8e7a-e839dd57b018', '572920a0-ecc4-46d2-a07b-910e921e66c3', '70509b6e-39e9-4e34-87f7-3b0fcdf70e24', '6d3c2555-9c31-46fc-ad0f-4779f132339e', '8afc2025-ad3d-4271-82a9-ef9c464b8239', '51a7c601-8ce9-4200-bd35-b2fec6752c62', '8ff28f52-36d2-46a5-aa43-75ea212a7b87', '000dea44-7b3b-47b3-a9be-9d5be99a064f', 'c7b01293-e633-4753-bbd4-065a2b90d83d', '78c8055b-24f1-4d0b-a91f-df8a0ad01753', '3790aa0f-4c58-4160-b675-d2776ff23fae']}\n",
      "Current memory usage: 235.81 MB\n",
      "After cleaning memory usage: 235.80 MB\n",
      "Current memory usage: 235.96 MB\n",
      "After cleaning memory usage: 235.91 MB\n",
      "Current memory usage: 235.87 MB\n",
      "After cleaning memory usage: 235.82 MB\n",
      "Current memory usage: 235.83 MB\n",
      "After cleaning memory usage: 235.82 MB\n",
      "[{'name': 'run_calculator', 'task_id': 'ee7a6522-d1c1-47b7-8730-fb95d12d46cc', 'resources': {'cpu': 8, 'gpu': 0, 'node': 'node1'}, 'total_runtime': 138.9268113636147}, {'name': 'run_calculator', 'task_id': 'c7b01293-e633-4753-bbd4-065a2b90d83d', 'resources': {'cpu': 8, 'gpu': 0, 'node': 'node1'}, 'total_runtime': 230.9375998753204}, {'name': 'run_calculator', 'task_id': '8afc2025-ad3d-4271-82a9-ef9c464b8239', 'resources': {'cpu': 8, 'gpu': 0, 'node': 'node1'}, 'total_runtime': 121.69493552512067}, {'name': 'run_calculator', 'task_id': '18de967b-961a-458d-914e-f1826aa0f5ca', 'resources': {'cpu': 8, 'gpu': 0, 'node': 'node1'}, 'total_runtime': 147.58094032467997}, {'name': 'run_calculator', 'task_id': '1eaa0452-ff33-4fc5-bc86-66c707855f6c', 'resources': {'cpu': 8, 'gpu': 0, 'node': 'node1'}, 'total_runtime': 138.9268113636147}, {'name': 'run_calculator', 'task_id': '640c504b-7949-4522-84c3-3c9885057468', 'resources': {'cpu': 8, 'gpu': 0, 'node': 'node1'}, 'total_runtime': 121.69493552512067}, {'name': 'run_calculator', 'task_id': '1d59bc9c-259f-4f61-8575-88496a5462ee', 'resources': {'cpu': 8, 'gpu': 0, 'node': 'node1'}, 'total_runtime': 138.9268113636147}, {'name': 'run_calculator', 'task_id': '547360da-80dc-4d55-a00a-d2c6008845d5', 'resources': {'cpu': 9, 'gpu': 0, 'node': 'node1'}, 'total_runtime': 115.86820774683947}, {'name': 'run_calculator', 'task_id': '3100fc06-14ae-4790-86f7-1163d8e73390', 'resources': {'cpu': 8, 'gpu': 0, 'node': 'node1'}, 'total_runtime': 202.64712131201108}, {'name': 'run_calculator', 'task_id': 'c362dc93-c310-49e8-b6d4-72c303590298', 'resources': {'cpu': 8, 'gpu': 0, 'node': 'node1'}, 'total_runtime': 109.2715654359899}, {'name': 'run_calculator', 'task_id': '07a87747-227f-455f-873e-9593acaad9f5', 'resources': {'cpu': 6, 'gpu': 0, 'node': 'node1'}, 'total_runtime': 127.61828571084087}, {'name': 'run_calculator', 'task_id': '4afe5c5a-3d2d-4724-8ad6-1193ff452338', 'resources': {'cpu': 8, 'gpu': 0, 'node': 'node1'}, 'total_runtime': 138.9268113636147}, {'name': 'run_calculator', 'task_id': '740ec2b7-de08-4099-a9b5-a52eda026b27', 'resources': {'cpu': 8, 'gpu': 0, 'node': 'node1'}, 'total_runtime': 202.64712131201108}, {'name': 'run_calculator', 'task_id': '59be4f8a-ed72-4654-be00-028411292773', 'resources': {'cpu': 8, 'gpu': 0, 'node': 'node1'}, 'total_runtime': 34.33825386766126}, {'name': 'run_calculator', 'task_id': '9f2b2825-e98c-4c90-9265-3e17be20a506', 'resources': {'cpu': 8, 'gpu': 0, 'node': 'node1'}, 'total_runtime': 202.64712131201108}, {'name': 'run_calculator', 'task_id': '99d00191-1a2b-46bb-a194-123dbdd75e53', 'resources': {'cpu': 8, 'gpu': 0, 'node': 'node1'}, 'total_runtime': 147.58094032467997}, {'name': 'run_calculator', 'task_id': 'b994d2f5-6c27-4772-af43-9eea17acd533', 'resources': {'cpu': 8, 'gpu': 0, 'node': 'node1'}, 'total_runtime': 230.9375998753204}, {'name': 'run_calculator', 'task_id': 'a66f2fc1-f185-4266-8e7a-e839dd57b018', 'resources': {'cpu': 8, 'gpu': 0, 'node': 'node1'}, 'total_runtime': 202.64712131201108}, {'name': 'run_calculator', 'task_id': 'ad85bd88-7110-4304-8aec-0bdeb8cd9de1', 'resources': {'cpu': 8, 'gpu': 0, 'node': 'node1'}, 'total_runtime': 155.9388718677948}, {'name': 'run_calculator', 'task_id': '8ff28f52-36d2-46a5-aa43-75ea212a7b87', 'resources': {'cpu': 8, 'gpu': 0, 'node': 'node1'}, 'total_runtime': 202.64712131201108}, {'name': 'run_calculator', 'task_id': '7a3ab3a8-505c-4546-ba1a-b2667d71a71b', 'resources': {'cpu': 8, 'gpu': 0, 'node': 'node1'}, 'total_runtime': 121.69493552512067}, {'name': 'run_calculator', 'task_id': '45fa8d5a-a962-4c62-9df4-b976f48ce1d1', 'resources': {'cpu': 8, 'gpu': 0, 'node': 'node1'}, 'total_runtime': 138.9268113636147}, {'name': 'run_calculator', 'task_id': 'd4e95462-9dc9-4d68-89b2-6f421f261971', 'resources': {'cpu': 8, 'gpu': 0, 'node': 'node1'}, 'total_runtime': 29.930745318661067}, {'name': 'run_calculator', 'task_id': '51a7c601-8ce9-4200-bd35-b2fec6752c62', 'resources': {'cpu': 8, 'gpu': 0, 'node': 'node1'}, 'total_runtime': 230.9375998753204}, {'name': 'run_calculator', 'task_id': '0ebd3633-1838-406b-abe5-10e465447b1a', 'resources': {'cpu': 8, 'gpu': 0, 'node': 'node1'}, 'total_runtime': 155.9388718677948}, {'name': 'run_calculator', 'task_id': '000dea44-7b3b-47b3-a9be-9d5be99a064f', 'resources': {'cpu': 8, 'gpu': 0, 'node': 'node1'}, 'total_runtime': 155.9388718677948}, {'name': 'run_calculator', 'task_id': '25b14677-236d-421e-afca-7159d8184a28', 'resources': {'cpu': 7, 'gpu': 0, 'node': 'node1'}, 'total_runtime': 209.20008061965964}, {'name': 'run_calculator', 'task_id': '8ec97fbe-045b-4952-b972-5cf3c2dbefb0', 'resources': {'cpu': 8, 'gpu': 0, 'node': 'node1'}, 'total_runtime': 109.2715654359899}, {'name': 'run_calculator', 'task_id': '9c77e01b-5b1d-4b30-ad32-aac9fe31d07d', 'resources': {'cpu': 8, 'gpu': 0, 'node': 'node1'}, 'total_runtime': 138.9268113636147}, {'name': 'run_calculator', 'task_id': 'e4c0d26d-4567-464f-bd6c-7091957c8796', 'resources': {'cpu': 8, 'gpu': 0, 'node': 'node1'}, 'total_runtime': 138.9268113636147}, {'name': 'run_calculator', 'task_id': '572920a0-ecc4-46d2-a07b-910e921e66c3', 'resources': {'cpu': 8, 'gpu': 0, 'node': 'node1'}, 'total_runtime': 230.9375998753204}, {'name': 'run_calculator', 'task_id': '7cbd44d1-a8d2-45b0-ac17-692da5f0e1be', 'resources': {'cpu': 8, 'gpu': 0, 'node': 'node1'}, 'total_runtime': 202.64712131201108}, {'name': 'run_calculator', 'task_id': '156a5580-f8b1-4a0c-b6b0-d835b37c0431', 'resources': {'cpu': 8, 'gpu': 0, 'node': 'node1'}, 'total_runtime': 29.97619376968112}, {'name': 'run_calculator', 'task_id': '6d3c2555-9c31-46fc-ad0f-4779f132339e', 'resources': {'cpu': 8, 'gpu': 0, 'node': 'node1'}, 'total_runtime': 34.33825386766126}, {'name': 'run_calculator', 'task_id': 'c15f7445-2d7f-4946-b148-5734e105a95a', 'resources': {'cpu': 8, 'gpu': 0, 'node': 'node1'}, 'total_runtime': 155.9388718677948}, {'name': 'run_calculator', 'task_id': '70509b6e-39e9-4e34-87f7-3b0fcdf70e24', 'resources': {'cpu': 8, 'gpu': 0, 'node': 'node1'}, 'total_runtime': 155.9388718677948}, {'name': 'run_calculator', 'task_id': '3790aa0f-4c58-4160-b675-d2776ff23fae', 'resources': {'cpu': 8, 'gpu': 0, 'node': 'node1'}, 'total_runtime': 109.2715654359899}, {'name': 'run_calculator', 'task_id': 'a34fc0aa-fd3f-4de9-ae39-6c94d040b1d3', 'resources': {'cpu': 8, 'gpu': 0, 'node': 'node1'}, 'total_runtime': 147.58094032467997}, {'name': 'run_calculator', 'task_id': '78c8055b-24f1-4d0b-a91f-df8a0ad01753', 'resources': {'cpu': 8, 'gpu': 0, 'node': 'node1'}, 'total_runtime': 147.58094032467997}, {'name': 'run_calculator', 'task_id': '3d4e8b74-ee96-4a43-898a-2ae7ccde9bcd', 'resources': {'cpu': 8, 'gpu': 0, 'node': 'node1'}, 'total_runtime': 29.97619376968112}]\n",
      "GA running_time:14.464323997497559\n",
      "Task_nums: 40, Running time: 17.55 seconds\n"
     ]
    },
    {
     "name": "stderr",
     "output_type": "stream",
     "text": [
      "Intel(R) Extension for Scikit-learn* enabled (https://github.com/intel/scikit-learn-intelex)\n"
     ]
    },
    {
     "name": "stdout",
     "output_type": "stream",
     "text": [
      "<__main__.test_queue object at 0x7f45ea466c10>\n",
      "{'train': [], 'evaluate': [], 'run_calculator': ['c1390f5b-8fc0-4569-ac44-5cb0ff08f850', '73c2950e-3e91-4a00-9c24-c65ca92b1c3c', '34091d0d-851a-4e3f-98e1-ed5563b9a3a2', '590f2cc1-da6d-43c0-84d6-aca774ed1eb9', '34549967-4617-4f1d-a306-a444a0dd7006', 'f2c6fea9-b5dd-4237-9502-12c35396ee9c', '8547e5aa-bee5-459a-aff2-1880b2578efd', '67acc534-a902-4838-8971-dc73ae4ca1e3', 'f753a1d6-9a87-4f41-9df9-d3a9e7001915', '9776b3e8-0554-4630-9bdd-52afa65cff49', 'e507ec6c-134d-4a7e-8a46-95500ce380ac', 'eeb893ce-971c-49c8-b58b-a91ea5bed021', 'c57d1e13-6a1e-4721-a1f9-883e9dfd17b5', '66c82ef6-0ee4-4081-9a70-0ce2d1be791e', '44989637-83ad-411d-98d5-e1ec9f14428e', 'ec4beaa7-ae5a-49b6-ba61-2bd180f4f310', '36deff33-0475-40b8-9dec-e5a5e0230660', '3e429282-1ee9-4ccf-a094-e9d6879d7b24', '84487538-1838-4833-a4e8-46ff5a9e481a', '6f0be687-620b-4596-afea-1b557c1312ba', '1b3220e0-95a0-416e-8cfc-6f69a30a9dd8', '12e7e67c-1bd6-4ac4-8373-af503819a3d4', '0549d6d3-4b0d-47cb-aa6f-c0e04fa4ab8c', '4b82bf31-6105-4707-8395-297000256a48', 'a2a94cb4-8031-40de-923a-94fcfb73c42b', '024bdaf8-a933-4338-9622-9fac2cf3a262', '26dc06f7-874a-44d5-b2c3-ea214707a5d6', 'b29a37c5-555f-406a-b12b-1c06ca85901d', 'bcabaf1e-2ddc-41fb-b455-cd4c0faad25a', '06c38ea9-ab0d-40ca-9e1a-a22592db1d63', '84a74684-42d7-4be3-899a-616b1ebdd5af', '6e60dbc7-39bb-488e-8bc3-9c392dc2509a', '24dd3200-9c17-45ef-aeb3-0e9fd85b32e1', 'bd71de12-2542-47ab-8123-9c9475485714', '50823eb8-0fea-4eff-b45c-ae22443583db', '904119ba-3cec-4ece-a7e8-2ef2d2856aaf', '791c16ac-aecc-4d63-90e6-3bb07cb47342', '11374901-67e3-4930-9ad3-2fcfea16a552', '6788f586-9114-4a42-a098-b26a33465706', '31e945c8-224f-4eef-b58e-f4195ef58252', '263f1fae-206b-4445-a5a9-9b2ca95f171c', '87d5bb23-0f4e-4ce0-9250-a43302ea0b3a', 'dbe91c9b-5aaf-4749-a9b8-078611617b61', '9abc2647-0413-4fa2-b1a6-f0e5f38d9e30', 'a7640d48-432f-4456-a897-ce101095c456', '9afa947b-8ac6-45f5-9ddb-0074e1b686a2', '4bfd1881-2fe2-43b9-8199-7cf063301023', '5ecc98a0-759f-4049-b351-da0c8db28f82', '109d4155-f4e9-49bc-9e46-4f497267b10f', 'ce35ffca-37f9-4cb8-8c26-d5929d73a523'], 'run_sampling': []}\n",
      "Current memory usage: 237.95 MB\n",
      "After cleaning memory usage: 237.91 MB\n",
      "Current memory usage: 237.95 MB\n",
      "After cleaning memory usage: 237.90 MB\n",
      "Current memory usage: 238.01 MB\n",
      "After cleaning memory usage: 238.00 MB\n",
      "Current memory usage: 237.98 MB\n",
      "After cleaning memory usage: 237.93 MB\n",
      "[{'name': 'run_calculator', 'task_id': '12e7e67c-1bd6-4ac4-8373-af503819a3d4', 'resources': {'cpu': 8, 'gpu': 0, 'node': 'node1'}, 'total_runtime': 138.9268113636147}, {'name': 'run_calculator', 'task_id': 'a7640d48-432f-4456-a897-ce101095c456', 'resources': {'cpu': 8, 'gpu': 0, 'node': 'node1'}, 'total_runtime': 138.9268113636147}, {'name': 'run_calculator', 'task_id': 'b29a37c5-555f-406a-b12b-1c06ca85901d', 'resources': {'cpu': 8, 'gpu': 0, 'node': 'node1'}, 'total_runtime': 138.9268113636147}, {'name': 'run_calculator', 'task_id': 'ec4beaa7-ae5a-49b6-ba61-2bd180f4f310', 'resources': {'cpu': 7, 'gpu': 0, 'node': 'node1'}, 'total_runtime': 24.741124448110494}, {'name': 'run_calculator', 'task_id': '4b82bf31-6105-4707-8395-297000256a48', 'resources': {'cpu': 8, 'gpu': 0, 'node': 'node1'}, 'total_runtime': 202.64712131201108}, {'name': 'run_calculator', 'task_id': '3e429282-1ee9-4ccf-a094-e9d6879d7b24', 'resources': {'cpu': 8, 'gpu': 0, 'node': 'node1'}, 'total_runtime': 138.9268113636147}, {'name': 'run_calculator', 'task_id': '73c2950e-3e91-4a00-9c24-c65ca92b1c3c', 'resources': {'cpu': 8, 'gpu': 0, 'node': 'node1'}, 'total_runtime': 121.69493552512067}, {'name': 'run_calculator', 'task_id': 'a2a94cb4-8031-40de-923a-94fcfb73c42b', 'resources': {'cpu': 8, 'gpu': 0, 'node': 'node1'}, 'total_runtime': 202.64712131201108}, {'name': 'run_calculator', 'task_id': 'f2c6fea9-b5dd-4237-9502-12c35396ee9c', 'resources': {'cpu': 8, 'gpu': 0, 'node': 'node1'}, 'total_runtime': 109.2715654359899}, {'name': 'run_calculator', 'task_id': '67acc534-a902-4838-8971-dc73ae4ca1e3', 'resources': {'cpu': 8, 'gpu': 0, 'node': 'node1'}, 'total_runtime': 147.58094032467997}, {'name': 'run_calculator', 'task_id': '024bdaf8-a933-4338-9622-9fac2cf3a262', 'resources': {'cpu': 8, 'gpu': 0, 'node': 'node1'}, 'total_runtime': 29.97619376968112}, {'name': 'run_calculator', 'task_id': '9afa947b-8ac6-45f5-9ddb-0074e1b686a2', 'resources': {'cpu': 9, 'gpu': 0, 'node': 'node1'}, 'total_runtime': 26.469281448649127}, {'name': 'run_calculator', 'task_id': '87d5bb23-0f4e-4ce0-9250-a43302ea0b3a', 'resources': {'cpu': 7, 'gpu': 0, 'node': 'node1'}, 'total_runtime': 47.0022959711637}, {'name': 'run_calculator', 'task_id': '590f2cc1-da6d-43c0-84d6-aca774ed1eb9', 'resources': {'cpu': 8, 'gpu': 0, 'node': 'node1'}, 'total_runtime': 230.9375998753204}, {'name': 'run_calculator', 'task_id': '8547e5aa-bee5-459a-aff2-1880b2578efd', 'resources': {'cpu': 8, 'gpu': 0, 'node': 'node1'}, 'total_runtime': 155.9388718677948}, {'name': 'run_calculator', 'task_id': '109d4155-f4e9-49bc-9e46-4f497267b10f', 'resources': {'cpu': 8, 'gpu': 0, 'node': 'node1'}, 'total_runtime': 54.1449676692448}, {'name': 'run_calculator', 'task_id': '31e945c8-224f-4eef-b58e-f4195ef58252', 'resources': {'cpu': 8, 'gpu': 0, 'node': 'node1'}, 'total_runtime': 109.2715654359899}, {'name': 'run_calculator', 'task_id': '84a74684-42d7-4be3-899a-616b1ebdd5af', 'resources': {'cpu': 8, 'gpu': 0, 'node': 'node1'}, 'total_runtime': 230.9375998753204}, {'name': 'run_calculator', 'task_id': '263f1fae-206b-4445-a5a9-9b2ca95f171c', 'resources': {'cpu': 8, 'gpu': 0, 'node': 'node1'}, 'total_runtime': 230.9375998753204}, {'name': 'run_calculator', 'task_id': '0549d6d3-4b0d-47cb-aa6f-c0e04fa4ab8c', 'resources': {'cpu': 8, 'gpu': 0, 'node': 'node1'}, 'total_runtime': 29.97619376968112}, {'name': 'run_calculator', 'task_id': 'bd71de12-2542-47ab-8123-9c9475485714', 'resources': {'cpu': 8, 'gpu': 0, 'node': 'node1'}, 'total_runtime': 121.69493552512067}, {'name': 'run_calculator', 'task_id': '5ecc98a0-759f-4049-b351-da0c8db28f82', 'resources': {'cpu': 8, 'gpu': 0, 'node': 'node1'}, 'total_runtime': 34.33825386766126}, {'name': 'run_calculator', 'task_id': '44989637-83ad-411d-98d5-e1ec9f14428e', 'resources': {'cpu': 8, 'gpu': 0, 'node': 'node1'}, 'total_runtime': 147.58094032467997}, {'name': 'run_calculator', 'task_id': 'e507ec6c-134d-4a7e-8a46-95500ce380ac', 'resources': {'cpu': 8, 'gpu': 0, 'node': 'node1'}, 'total_runtime': 147.58094032467997}, {'name': 'run_calculator', 'task_id': '26dc06f7-874a-44d5-b2c3-ea214707a5d6', 'resources': {'cpu': 8, 'gpu': 0, 'node': 'node1'}, 'total_runtime': 138.9268113636147}, {'name': 'run_calculator', 'task_id': '791c16ac-aecc-4d63-90e6-3bb07cb47342', 'resources': {'cpu': 8, 'gpu': 0, 'node': 'node1'}, 'total_runtime': 155.9388718677948}, {'name': 'run_calculator', 'task_id': '36deff33-0475-40b8-9dec-e5a5e0230660', 'resources': {'cpu': 8, 'gpu': 0, 'node': 'node1'}, 'total_runtime': 138.9268113636147}, {'name': 'run_calculator', 'task_id': 'c1390f5b-8fc0-4569-ac44-5cb0ff08f850', 'resources': {'cpu': 8, 'gpu': 0, 'node': 'node1'}, 'total_runtime': 155.9388718677948}, {'name': 'run_calculator', 'task_id': 'dbe91c9b-5aaf-4749-a9b8-078611617b61', 'resources': {'cpu': 8, 'gpu': 0, 'node': 'node1'}, 'total_runtime': 230.9375998753204}, {'name': 'run_calculator', 'task_id': '84487538-1838-4833-a4e8-46ff5a9e481a', 'resources': {'cpu': 8, 'gpu': 0, 'node': 'node1'}, 'total_runtime': 121.69493552512067}, {'name': 'run_calculator', 'task_id': '66c82ef6-0ee4-4081-9a70-0ce2d1be791e', 'resources': {'cpu': 8, 'gpu': 0, 'node': 'node1'}, 'total_runtime': 109.2715654359899}, {'name': 'run_calculator', 'task_id': '1b3220e0-95a0-416e-8cfc-6f69a30a9dd8', 'resources': {'cpu': 8, 'gpu': 0, 'node': 'node1'}, 'total_runtime': 155.9388718677948}, {'name': 'run_calculator', 'task_id': '24dd3200-9c17-45ef-aeb3-0e9fd85b32e1', 'resources': {'cpu': 7, 'gpu': 0, 'node': 'node1'}, 'total_runtime': 30.19926196768094}, {'name': 'run_calculator', 'task_id': '11374901-67e3-4930-9ad3-2fcfea16a552', 'resources': {'cpu': 8, 'gpu': 0, 'node': 'node1'}, 'total_runtime': 230.9375998753204}, {'name': 'run_calculator', 'task_id': '9abc2647-0413-4fa2-b1a6-f0e5f38d9e30', 'resources': {'cpu': 8, 'gpu': 0, 'node': 'node1'}, 'total_runtime': 155.9388718677948}, {'name': 'run_calculator', 'task_id': '4bfd1881-2fe2-43b9-8199-7cf063301023', 'resources': {'cpu': 6, 'gpu': 0, 'node': 'node1'}, 'total_runtime': 30.19926196768094}, {'name': 'run_calculator', 'task_id': '34091d0d-851a-4e3f-98e1-ed5563b9a3a2', 'resources': {'cpu': 8, 'gpu': 0, 'node': 'node1'}, 'total_runtime': 202.64712131201108}, {'name': 'run_calculator', 'task_id': 'ce35ffca-37f9-4cb8-8c26-d5929d73a523', 'resources': {'cpu': 8, 'gpu': 0, 'node': 'node1'}, 'total_runtime': 155.9388718677948}, {'name': 'run_calculator', 'task_id': '06c38ea9-ab0d-40ca-9e1a-a22592db1d63', 'resources': {'cpu': 8, 'gpu': 0, 'node': 'node1'}, 'total_runtime': 202.64712131201108}, {'name': 'run_calculator', 'task_id': '904119ba-3cec-4ece-a7e8-2ef2d2856aaf', 'resources': {'cpu': 8, 'gpu': 0, 'node': 'node1'}, 'total_runtime': 202.64712131201108}, {'name': 'run_calculator', 'task_id': '6e60dbc7-39bb-488e-8bc3-9c392dc2509a', 'resources': {'cpu': 8, 'gpu': 0, 'node': 'node1'}, 'total_runtime': 155.9388718677948}, {'name': 'run_calculator', 'task_id': 'f753a1d6-9a87-4f41-9df9-d3a9e7001915', 'resources': {'cpu': 8, 'gpu': 0, 'node': 'node1'}, 'total_runtime': 121.69493552512067}, {'name': 'run_calculator', 'task_id': '50823eb8-0fea-4eff-b45c-ae22443583db', 'resources': {'cpu': 8, 'gpu': 0, 'node': 'node1'}, 'total_runtime': 230.9375998753204}, {'name': 'run_calculator', 'task_id': '9776b3e8-0554-4630-9bdd-52afa65cff49', 'resources': {'cpu': 8, 'gpu': 0, 'node': 'node1'}, 'total_runtime': 202.64712131201108}, {'name': 'run_calculator', 'task_id': 'c57d1e13-6a1e-4721-a1f9-883e9dfd17b5', 'resources': {'cpu': 8, 'gpu': 0, 'node': 'node1'}, 'total_runtime': 202.64712131201108}, {'name': 'run_calculator', 'task_id': 'eeb893ce-971c-49c8-b58b-a91ea5bed021', 'resources': {'cpu': 8, 'gpu': 0, 'node': 'node1'}, 'total_runtime': 138.9268113636147}, {'name': 'run_calculator', 'task_id': '34549967-4617-4f1d-a306-a444a0dd7006', 'resources': {'cpu': 8, 'gpu': 0, 'node': 'node1'}, 'total_runtime': 34.33825386766126}, {'name': 'run_calculator', 'task_id': '6788f586-9114-4a42-a098-b26a33465706', 'resources': {'cpu': 8, 'gpu': 0, 'node': 'node1'}, 'total_runtime': 147.58094032467997}, {'name': 'run_calculator', 'task_id': '6f0be687-620b-4596-afea-1b557c1312ba', 'resources': {'cpu': 8, 'gpu': 0, 'node': 'node1'}, 'total_runtime': 138.9268113636147}, {'name': 'run_calculator', 'task_id': 'bcabaf1e-2ddc-41fb-b455-cd4c0faad25a', 'resources': {'cpu': 8, 'gpu': 0, 'node': 'node1'}, 'total_runtime': 121.69493552512067}]\n",
      "GA running_time:17.56326913833618\n",
      "Task_nums: 50, Running time: 20.42 seconds\n"
     ]
    },
    {
     "name": "stderr",
     "output_type": "stream",
     "text": [
      "Intel(R) Extension for Scikit-learn* enabled (https://github.com/intel/scikit-learn-intelex)\n"
     ]
    },
    {
     "name": "stdout",
     "output_type": "stream",
     "text": [
      "<__main__.test_queue object at 0x7fb1bb065c10>\n",
      "{'train': [], 'run_sampling': [], 'evaluate': [], 'run_calculator': ['dfbba4c2-7e98-46cf-a2a3-f5977f8057db', '9b248c84-e10a-4179-8072-02861b3fea63', '29c9e014-2cb5-4642-93e0-bb8bdfbdd12f', 'b30a5a7c-fa88-47e1-9e83-c4984fc9207c', '1ced619f-916f-4bd7-9861-d9e2cdd1d346', '8f2ef190-1dca-44e2-a3f7-b132189989df', '55d43d5a-f887-4c07-9e31-b1e6b0219ec9', '8bde751b-bf5e-4374-970f-720b5ac17993', 'c2b28471-ba77-497b-9eac-77e6479f9807', '1f684705-519c-4e79-af6a-430ec8375c48', 'b1236932-597e-4eca-8782-ac267296f867', '314e9418-80b8-40d6-9741-1772c500b286', '430706ca-0a64-48e4-aa06-9c8bec6d00a1', 'a908a4c0-f573-4e80-a67c-e2a54d6afdad', '7d086778-046e-46d4-90d6-1beb73d3e09f', '817a2b1c-0dbb-4a29-b6c9-abdccfbfbade', '3dc3521f-195e-49c3-b960-25cd857205e6', 'fbf1bb5e-02ad-42ce-a672-95bcb6ea9fb2', 'cda9673a-ffdb-4747-94e0-ee81c060a6ef', 'eedf3037-16f6-4c5f-852e-773b1bd670a8', '09d7f5f8-5c61-4d1d-b264-d16829606b88', '1299106e-e615-4a2e-b352-30196fed9660', '95ff0cab-f444-44f3-9bff-76c2f52b5436', 'a386feb7-445c-40fd-976c-6436e9d71991', '0699752e-be21-40d7-b705-13fb4c74895d', '656fbd9c-f246-4a37-80e7-4e052dc037da', 'f3390955-54d2-4f15-ad05-5e332d382e8f', '5efcadc4-fe79-4ff4-bd82-74119811600e', '503b40f4-2af5-42d6-bc1b-b44d56614eb3', 'd9ace059-ae80-403d-9cb0-f49838684ae7', 'fda0b3ac-780c-4b35-9064-5453317b9040', '297c7427-f43f-4142-86a0-26b70f3258e3', '6bca37d2-49c3-43ff-8a9f-a04cb906bf46', 'e0afafe0-1c9d-42f9-97ae-8edf00f14384', '9b04ab32-8526-490e-adcd-a915da1af9d2', '03f2e158-595b-4575-a7a8-615ade52944f', 'd31cf62b-0800-42b0-ac4e-4fa8238f0a4e', 'b6b31a59-5cde-4392-b040-38948d09c8d7', 'bacf0098-af0f-4cc5-b854-639e6180a88f', 'b576a35d-52e7-4363-83dd-16f425950341', '13a47332-34a9-4545-8d3c-78057d318e4d', '1a62b9b6-f309-4908-8ace-dfc4e5232ac7', 'a63c0571-e557-476a-b74c-f5e8efda170c', '24299c44-7c4a-48d5-9988-c5ddeb88c700', '4956660c-467e-46cf-a5f8-9d5caa2737f0', 'e9a3d47e-fac6-46c6-97f3-0cc73537be9f', '1a293603-7e5c-4baf-9cf7-cd50de0f1ef2', 'f021175c-65e3-4350-857d-7e49a553029d', 'ab2effd9-bd90-4648-a960-6ecde592c398', '61ada662-71ee-478c-b48b-7a125311ca7f', '31d04d26-312c-4fd4-be05-8fc13caf1dbb', '4279b06f-988c-47c7-9f08-11c78a1a1d62', '5667d8a2-fdfd-4992-9f41-0565f6603350', '869c54cb-c667-4761-ae12-f8e7b7adacc2', '08b74f6c-dc35-48bb-a106-62e541f17658', 'ed978811-7df3-4426-b3e2-13f8585ca038', 'ad4e36c4-d9e5-427e-8ff0-2447fc4e8487', 'fd44de0b-ebb8-41af-aabf-51602266c3f3', 'ec59c625-7f01-4879-9585-c558e9fd2eaa', '3d3ca68c-aef3-4853-a2ee-6e6fd9bea128']}\n",
      "Current memory usage: 239.84 MB\n",
      "After cleaning memory usage: 239.83 MB\n",
      "Current memory usage: 240.45 MB\n",
      "After cleaning memory usage: 240.41 MB\n",
      "Current memory usage: 240.39 MB\n",
      "After cleaning memory usage: 240.37 MB\n",
      "Current memory usage: 240.40 MB\n",
      "After cleaning memory usage: 240.37 MB\n",
      "[{'name': 'run_calculator', 'task_id': 'fda0b3ac-780c-4b35-9064-5453317b9040', 'resources': {'cpu': 8, 'gpu': 0, 'node': 'node1'}, 'total_runtime': 230.9375998753204}, {'name': 'run_calculator', 'task_id': '9b248c84-e10a-4179-8072-02861b3fea63', 'resources': {'cpu': 8, 'gpu': 0, 'node': 'node1'}, 'total_runtime': 121.69493552512067}, {'name': 'run_calculator', 'task_id': 'cda9673a-ffdb-4747-94e0-ee81c060a6ef', 'resources': {'cpu': 8, 'gpu': 0, 'node': 'node1'}, 'total_runtime': 121.69493552512067}, {'name': 'run_calculator', 'task_id': '430706ca-0a64-48e4-aa06-9c8bec6d00a1', 'resources': {'cpu': 8, 'gpu': 0, 'node': 'node1'}, 'total_runtime': 202.64712131201108}, {'name': 'run_calculator', 'task_id': 'fd44de0b-ebb8-41af-aabf-51602266c3f3', 'resources': {'cpu': 8, 'gpu': 0, 'node': 'node1'}, 'total_runtime': 109.2715654359899}, {'name': 'run_calculator', 'task_id': '61ada662-71ee-478c-b48b-7a125311ca7f', 'resources': {'cpu': 8, 'gpu': 0, 'node': 'node1'}, 'total_runtime': 155.9388718677948}, {'name': 'run_calculator', 'task_id': '5667d8a2-fdfd-4992-9f41-0565f6603350', 'resources': {'cpu': 8, 'gpu': 0, 'node': 'node1'}, 'total_runtime': 147.58094032467997}, {'name': 'run_calculator', 'task_id': '817a2b1c-0dbb-4a29-b6c9-abdccfbfbade', 'resources': {'cpu': 6, 'gpu': 0, 'node': 'node1'}, 'total_runtime': 24.741124448110494}, {'name': 'run_calculator', 'task_id': '4279b06f-988c-47c7-9f08-11c78a1a1d62', 'resources': {'cpu': 8, 'gpu': 0, 'node': 'node1'}, 'total_runtime': 109.2715654359899}, {'name': 'run_calculator', 'task_id': 'a63c0571-e557-476a-b74c-f5e8efda170c', 'resources': {'cpu': 8, 'gpu': 0, 'node': 'node1'}, 'total_runtime': 230.9375998753204}, {'name': 'run_calculator', 'task_id': 'a386feb7-445c-40fd-976c-6436e9d71991', 'resources': {'cpu': 8, 'gpu': 0, 'node': 'node1'}, 'total_runtime': 202.64712131201108}, {'name': 'run_calculator', 'task_id': '31d04d26-312c-4fd4-be05-8fc13caf1dbb', 'resources': {'cpu': 8, 'gpu': 0, 'node': 'node1'}, 'total_runtime': 34.33825386766126}, {'name': 'run_calculator', 'task_id': '03f2e158-595b-4575-a7a8-615ade52944f', 'resources': {'cpu': 8, 'gpu': 0, 'node': 'node1'}, 'total_runtime': 202.64712131201108}, {'name': 'run_calculator', 'task_id': 'ad4e36c4-d9e5-427e-8ff0-2447fc4e8487', 'resources': {'cpu': 8, 'gpu': 0, 'node': 'node1'}, 'total_runtime': 230.9375998753204}, {'name': 'run_calculator', 'task_id': '0699752e-be21-40d7-b705-13fb4c74895d', 'resources': {'cpu': 8, 'gpu': 0, 'node': 'node1'}, 'total_runtime': 202.64712131201108}, {'name': 'run_calculator', 'task_id': '8f2ef190-1dca-44e2-a3f7-b132189989df', 'resources': {'cpu': 8, 'gpu': 0, 'node': 'node1'}, 'total_runtime': 109.2715654359899}, {'name': 'run_calculator', 'task_id': 'eedf3037-16f6-4c5f-852e-773b1bd670a8', 'resources': {'cpu': 8, 'gpu': 0, 'node': 'node1'}, 'total_runtime': 138.9268113636147}, {'name': 'run_calculator', 'task_id': '95ff0cab-f444-44f3-9bff-76c2f52b5436', 'resources': {'cpu': 8, 'gpu': 0, 'node': 'node1'}, 'total_runtime': 29.97619376968112}, {'name': 'run_calculator', 'task_id': 'd31cf62b-0800-42b0-ac4e-4fa8238f0a4e', 'resources': {'cpu': 8, 'gpu': 0, 'node': 'node1'}, 'total_runtime': 155.9388718677948}, {'name': 'run_calculator', 'task_id': 'b1236932-597e-4eca-8782-ac267296f867', 'resources': {'cpu': 8, 'gpu': 0, 'node': 'node1'}, 'total_runtime': 147.58094032467997}, {'name': 'run_calculator', 'task_id': 'ab2effd9-bd90-4648-a960-6ecde592c398', 'resources': {'cpu': 8, 'gpu': 0, 'node': 'node1'}, 'total_runtime': 54.1449676692448}, {'name': 'run_calculator', 'task_id': '1f684705-519c-4e79-af6a-430ec8375c48', 'resources': {'cpu': 8, 'gpu': 0, 'node': 'node1'}, 'total_runtime': 202.64712131201108}, {'name': 'run_calculator', 'task_id': 'b576a35d-52e7-4363-83dd-16f425950341', 'resources': {'cpu': 8, 'gpu': 0, 'node': 'node1'}, 'total_runtime': 109.2715654359899}, {'name': 'run_calculator', 'task_id': '5efcadc4-fe79-4ff4-bd82-74119811600e', 'resources': {'cpu': 8, 'gpu': 0, 'node': 'node1'}, 'total_runtime': 138.9268113636147}, {'name': 'run_calculator', 'task_id': 'bacf0098-af0f-4cc5-b854-639e6180a88f', 'resources': {'cpu': 8, 'gpu': 0, 'node': 'node1'}, 'total_runtime': 147.58094032467997}, {'name': 'run_calculator', 'task_id': '08b74f6c-dc35-48bb-a106-62e541f17658', 'resources': {'cpu': 8, 'gpu': 0, 'node': 'node1'}, 'total_runtime': 138.9268113636147}, {'name': 'run_calculator', 'task_id': 'a908a4c0-f573-4e80-a67c-e2a54d6afdad', 'resources': {'cpu': 8, 'gpu': 0, 'node': 'node1'}, 'total_runtime': 109.2715654359899}, {'name': 'run_calculator', 'task_id': '09d7f5f8-5c61-4d1d-b264-d16829606b88', 'resources': {'cpu': 8, 'gpu': 0, 'node': 'node1'}, 'total_runtime': 155.9388718677948}, {'name': 'run_calculator', 'task_id': 'dfbba4c2-7e98-46cf-a2a3-f5977f8057db', 'resources': {'cpu': 8, 'gpu': 0, 'node': 'node1'}, 'total_runtime': 155.9388718677948}, {'name': 'run_calculator', 'task_id': 'b30a5a7c-fa88-47e1-9e83-c4984fc9207c', 'resources': {'cpu': 8, 'gpu': 0, 'node': 'node1'}, 'total_runtime': 230.9375998753204}, {'name': 'run_calculator', 'task_id': '7d086778-046e-46d4-90d6-1beb73d3e09f', 'resources': {'cpu': 8, 'gpu': 0, 'node': 'node1'}, 'total_runtime': 147.58094032467997}, {'name': 'run_calculator', 'task_id': '656fbd9c-f246-4a37-80e7-4e052dc037da', 'resources': {'cpu': 8, 'gpu': 0, 'node': 'node1'}, 'total_runtime': 29.97619376968112}, {'name': 'run_calculator', 'task_id': 'b6b31a59-5cde-4392-b040-38948d09c8d7', 'resources': {'cpu': 8, 'gpu': 0, 'node': 'node1'}, 'total_runtime': 230.9375998753204}, {'name': 'run_calculator', 'task_id': 'ec59c625-7f01-4879-9585-c558e9fd2eaa', 'resources': {'cpu': 8, 'gpu': 0, 'node': 'node1'}, 'total_runtime': 230.9375998753204}, {'name': 'run_calculator', 'task_id': '314e9418-80b8-40d6-9741-1772c500b286', 'resources': {'cpu': 8, 'gpu': 0, 'node': 'node1'}, 'total_runtime': 138.9268113636147}, {'name': 'run_calculator', 'task_id': 'f3390955-54d2-4f15-ad05-5e332d382e8f', 'resources': {'cpu': 8, 'gpu': 0, 'node': 'node1'}, 'total_runtime': 138.9268113636147}, {'name': 'run_calculator', 'task_id': '6bca37d2-49c3-43ff-8a9f-a04cb906bf46', 'resources': {'cpu': 7, 'gpu': 0, 'node': 'node1'}, 'total_runtime': 30.19926196768094}, {'name': 'run_calculator', 'task_id': '297c7427-f43f-4142-86a0-26b70f3258e3', 'resources': {'cpu': 8, 'gpu': 0, 'node': 'node1'}, 'total_runtime': 155.9388718677948}, {'name': 'run_calculator', 'task_id': '1299106e-e615-4a2e-b352-30196fed9660', 'resources': {'cpu': 8, 'gpu': 0, 'node': 'node1'}, 'total_runtime': 138.9268113636147}, {'name': 'run_calculator', 'task_id': 'fbf1bb5e-02ad-42ce-a672-95bcb6ea9fb2', 'resources': {'cpu': 8, 'gpu': 0, 'node': 'node1'}, 'total_runtime': 138.9268113636147}, {'name': 'run_calculator', 'task_id': '1a293603-7e5c-4baf-9cf7-cd50de0f1ef2', 'resources': {'cpu': 7, 'gpu': 0, 'node': 'node1'}, 'total_runtime': 30.19926196768094}, {'name': 'run_calculator', 'task_id': 'c2b28471-ba77-497b-9eac-77e6479f9807', 'resources': {'cpu': 8, 'gpu': 0, 'node': 'node1'}, 'total_runtime': 121.69493552512067}, {'name': 'run_calculator', 'task_id': 'ed978811-7df3-4426-b3e2-13f8585ca038', 'resources': {'cpu': 8, 'gpu': 0, 'node': 'node1'}, 'total_runtime': 155.9388718677948}, {'name': 'run_calculator', 'task_id': '4956660c-467e-46cf-a5f8-9d5caa2737f0', 'resources': {'cpu': 8, 'gpu': 0, 'node': 'node1'}, 'total_runtime': 138.9268113636147}, {'name': 'run_calculator', 'task_id': 'e9a3d47e-fac6-46c6-97f3-0cc73537be9f', 'resources': {'cpu': 8, 'gpu': 0, 'node': 'node1'}, 'total_runtime': 29.97619376968112}, {'name': 'run_calculator', 'task_id': '9b04ab32-8526-490e-adcd-a915da1af9d2', 'resources': {'cpu': 8, 'gpu': 0, 'node': 'node1'}, 'total_runtime': 230.9375998753204}, {'name': 'run_calculator', 'task_id': 'f021175c-65e3-4350-857d-7e49a553029d', 'resources': {'cpu': 10, 'gpu': 0, 'node': 'node1'}, 'total_runtime': 21.954777459026374}, {'name': 'run_calculator', 'task_id': '503b40f4-2af5-42d6-bc1b-b44d56614eb3', 'resources': {'cpu': 6, 'gpu': 0, 'node': 'node1'}, 'total_runtime': 127.61828571084087}, {'name': 'run_calculator', 'task_id': '3dc3521f-195e-49c3-b960-25cd857205e6', 'resources': {'cpu': 8, 'gpu': 0, 'node': 'node1'}, 'total_runtime': 138.9268113636147}, {'name': 'run_calculator', 'task_id': '24299c44-7c4a-48d5-9988-c5ddeb88c700', 'resources': {'cpu': 8, 'gpu': 0, 'node': 'node1'}, 'total_runtime': 155.9388718677948}, {'name': 'run_calculator', 'task_id': '1a62b9b6-f309-4908-8ace-dfc4e5232ac7', 'resources': {'cpu': 7, 'gpu': 0, 'node': 'node1'}, 'total_runtime': 47.0022959711637}, {'name': 'run_calculator', 'task_id': '1ced619f-916f-4bd7-9861-d9e2cdd1d346', 'resources': {'cpu': 8, 'gpu': 0, 'node': 'node1'}, 'total_runtime': 34.33825386766126}, {'name': 'run_calculator', 'task_id': '13a47332-34a9-4545-8d3c-78057d318e4d', 'resources': {'cpu': 8, 'gpu': 0, 'node': 'node1'}, 'total_runtime': 230.9375998753204}, {'name': 'run_calculator', 'task_id': '869c54cb-c667-4761-ae12-f8e7b7adacc2', 'resources': {'cpu': 6, 'gpu': 0, 'node': 'node1'}, 'total_runtime': 24.903328936240577}, {'name': 'run_calculator', 'task_id': 'd9ace059-ae80-403d-9cb0-f49838684ae7', 'resources': {'cpu': 8, 'gpu': 0, 'node': 'node1'}, 'total_runtime': 202.64712131201108}, {'name': 'run_calculator', 'task_id': '29c9e014-2cb5-4642-93e0-bb8bdfbdd12f', 'resources': {'cpu': 7, 'gpu': 0, 'node': 'node1'}, 'total_runtime': 209.20008061965964}, {'name': 'run_calculator', 'task_id': '3d3ca68c-aef3-4853-a2ee-6e6fd9bea128', 'resources': {'cpu': 8, 'gpu': 0, 'node': 'node1'}, 'total_runtime': 202.64712131201108}, {'name': 'run_calculator', 'task_id': '8bde751b-bf5e-4374-970f-720b5ac17993', 'resources': {'cpu': 8, 'gpu': 0, 'node': 'node1'}, 'total_runtime': 147.58094032467997}, {'name': 'run_calculator', 'task_id': '55d43d5a-f887-4c07-9e31-b1e6b0219ec9', 'resources': {'cpu': 8, 'gpu': 0, 'node': 'node1'}, 'total_runtime': 155.9388718677948}, {'name': 'run_calculator', 'task_id': 'e0afafe0-1c9d-42f9-97ae-8edf00f14384', 'resources': {'cpu': 8, 'gpu': 0, 'node': 'node1'}, 'total_runtime': 121.69493552512067}]\n",
      "GA running_time:20.371801376342773\n",
      "Task_nums: 60, Running time: 22.98 seconds\n"
     ]
    },
    {
     "name": "stderr",
     "output_type": "stream",
     "text": [
      "Intel(R) Extension for Scikit-learn* enabled (https://github.com/intel/scikit-learn-intelex)\n"
     ]
    },
    {
     "name": "stdout",
     "output_type": "stream",
     "text": [
      "<__main__.test_queue object at 0x7fae7af22c10>\n",
      "{'train': [], 'evaluate': [], 'run_sampling': [], 'run_calculator': ['06d2e480-091e-4a25-b194-78d272ee5437', '2387cd96-3373-46d6-8828-9d4cb8f5179c', '45102f7d-2908-4482-8269-d4ee24383e2a', 'eafba824-8b22-4030-98a3-b2f72f6b5c43', '74216a15-e675-423c-9653-be4309e42a42', '1187f583-9612-41f7-9c6c-3446eec8f3be', 'f5e3e3e3-f3bf-454d-b42f-971ad99e8370', '9a0e5e50-f55a-4f58-a74f-5f12fa77d983', 'e248fffb-23a4-4ff4-991b-23bf28434f3e', 'c672887a-56de-4fd0-8f0a-c3f026af54e3', '5c8d90d5-aba0-487f-a85b-bf2ea1ba33a0', '254356f9-19bf-49d9-a29b-6e22d9b1e733', '20d78ddf-2a24-4b6c-b9b5-27aa2761a458', '1dafbceb-c9bd-49ee-ad41-d6343e50686c', '9cffe97e-df36-4cba-bc17-895d6f26719b', 'd4fc187a-eb06-4f11-9b0c-f8b21895b29c', '0c36c5e5-55be-4bec-9f90-eed5d2320200', '62e9b091-d629-49ed-8700-e4fa2bc1153b', '9820685b-45fa-401e-b0bd-1bcb209485b7', '088b0c14-c3b9-4556-904c-ef87c7cb5445', 'ae00dda9-cbd7-4aed-919f-a14a9d5d75e2', 'ad05c003-43f0-4ca7-af93-ab889564352c', 'feb905b3-5aec-4ef4-928e-cb336be5176a', '0d96acdc-afa2-404b-9ea6-dfdeb2a0d43c', 'ce11b1bd-6a2b-4e77-9c2a-33e561076801', '987d1dee-2aad-4c4e-85a5-65f306532d7e', '2a1c7c5e-e906-41bd-abff-ee6dcd271ce7', '041a2988-733a-47ee-9cd1-72791fbcbee5', 'd766ba3a-b152-45ce-823d-e7b231c30f23', '98c414b2-693b-4fa1-8195-a8be959ee257', '2a164200-c62e-4bf6-8952-95b31fd1e26c', 'bb5d2cfb-58f8-4895-9520-b713273deb47', '2484a833-7f6a-432f-9f1b-3f5d15610377', '5f5615cf-2669-4593-99b0-70adc499bedb', '609d883a-756c-4e0b-9f70-00495d9f7eac', '719c83b5-0cc2-4af3-9baa-094aeb7baa91', '9f08b3dc-f207-4e61-ad4c-0677e46c8f70', '722cd7d0-eb3e-436c-8a10-51eb3ed5b32a', '52d06182-5359-4416-a1c9-cca0e6ee5cfa', 'f5c1f126-286a-4e1b-8c9c-0c13dc95536c', '6facd80c-3cd8-44cf-90a1-db0ecf1812b1', '9b4e8632-1c42-4d8a-9fda-4bdff539c1a1', '9bdb79bf-5d15-453e-a8d8-c96eb239f5dc', 'b5120516-6a9a-418c-8fa7-8580968a287c', 'c1a6b7d3-911c-462b-8a91-6d1564030526', '18989e49-b181-4f90-8371-88f9b201516b', '632d8b54-0b9a-40aa-97ae-fb66ce0a1c67', '52de80be-6e12-43dd-a376-f18a4919c0f7', 'd8df183c-1c91-429b-a665-b23fccca4f38', '910bf397-2462-4dd5-8c0f-c393a952b5cb', '1500ef38-111d-4c52-a596-9d573b926722', '03de4c6d-015a-4259-8e62-8a9ada108d57', 'ba6c44f0-f942-4543-b2d2-d4b90fe37d51', '6fb44083-9e9c-42d7-b15d-9ecbc110817e', '43b86b3e-3dbc-4c24-882d-81363f72e243', 'c7efc04a-c8e6-44c0-a758-8294c92195d6', '7c60d9f0-b34f-40d5-a940-0b282116c8f1', '54fca528-3c03-4d23-8f24-8bad41f0202c', 'f5d0f276-bf30-4d0e-8ef0-0a06a5fb65b8', '8534e32a-d65e-4882-b7f1-b977260e293d', '76660bed-8e20-4e4c-9bb4-33ef828160b7', 'a641d503-b811-4bdb-9321-221e8f1dc5fe', 'a3d15a92-f769-4f1f-978b-062fb486521c', '77f87003-524f-4357-aa98-b938a2b5f857', '14981d54-1b6a-4532-83b1-a662cf5ed682', '47490021-135b-45a5-af1b-85b130a64d67', 'ef31c73a-78b7-4268-8179-455355d2365c', '39fecc59-ef5b-47c3-a9b3-f2341846628f', '173b7a67-fe50-4a3a-bf69-3160e7803e9a', '264e6d05-519b-416a-9365-8cc29152c5a5']}\n",
      "Current memory usage: 242.55 MB\n",
      "After cleaning memory usage: 242.53 MB\n",
      "Current memory usage: 242.64 MB\n",
      "After cleaning memory usage: 242.61 MB\n",
      "Current memory usage: 242.70 MB\n",
      "After cleaning memory usage: 242.66 MB\n",
      "Current memory usage: 242.84 MB\n",
      "After cleaning memory usage: 242.83 MB\n",
      "[{'name': 'run_calculator', 'task_id': '1dafbceb-c9bd-49ee-ad41-d6343e50686c', 'resources': {'cpu': 8, 'gpu': 0, 'node': 'node1'}, 'total_runtime': 109.2715654359899}, {'name': 'run_calculator', 'task_id': '45102f7d-2908-4482-8269-d4ee24383e2a', 'resources': {'cpu': 8, 'gpu': 0, 'node': 'node1'}, 'total_runtime': 202.64712131201108}, {'name': 'run_calculator', 'task_id': '6facd80c-3cd8-44cf-90a1-db0ecf1812b1', 'resources': {'cpu': 8, 'gpu': 0, 'node': 'node1'}, 'total_runtime': 230.9375998753204}, {'name': 'run_calculator', 'task_id': 'bb5d2cfb-58f8-4895-9520-b713273deb47', 'resources': {'cpu': 8, 'gpu': 0, 'node': 'node1'}, 'total_runtime': 155.9388718677948}, {'name': 'run_calculator', 'task_id': '9b4e8632-1c42-4d8a-9fda-4bdff539c1a1', 'resources': {'cpu': 8, 'gpu': 0, 'node': 'node1'}, 'total_runtime': 54.1449676692448}, {'name': 'run_calculator', 'task_id': 'ba6c44f0-f942-4543-b2d2-d4b90fe37d51', 'resources': {'cpu': 8, 'gpu': 0, 'node': 'node1'}, 'total_runtime': 147.58094032467997}, {'name': 'run_calculator', 'task_id': '0c36c5e5-55be-4bec-9f90-eed5d2320200', 'resources': {'cpu': 8, 'gpu': 0, 'node': 'node1'}, 'total_runtime': 138.9268113636147}, {'name': 'run_calculator', 'task_id': '9a0e5e50-f55a-4f58-a74f-5f12fa77d983', 'resources': {'cpu': 8, 'gpu': 0, 'node': 'node1'}, 'total_runtime': 147.58094032467997}, {'name': 'run_calculator', 'task_id': '03de4c6d-015a-4259-8e62-8a9ada108d57', 'resources': {'cpu': 8, 'gpu': 0, 'node': 'node1'}, 'total_runtime': 109.2715654359899}, {'name': 'run_calculator', 'task_id': '088b0c14-c3b9-4556-904c-ef87c7cb5445', 'resources': {'cpu': 8, 'gpu': 0, 'node': 'node1'}, 'total_runtime': 138.9268113636147}, {'name': 'run_calculator', 'task_id': '98c414b2-693b-4fa1-8195-a8be959ee257', 'resources': {'cpu': 8, 'gpu': 0, 'node': 'node1'}, 'total_runtime': 202.64712131201108}, {'name': 'run_calculator', 'task_id': 'f5d0f276-bf30-4d0e-8ef0-0a06a5fb65b8', 'resources': {'cpu': 8, 'gpu': 0, 'node': 'node1'}, 'total_runtime': 230.9375998753204}, {'name': 'run_calculator', 'task_id': 'a641d503-b811-4bdb-9321-221e8f1dc5fe', 'resources': {'cpu': 7, 'gpu': 0, 'node': 'node1'}, 'total_runtime': 24.741124448110494}, {'name': 'run_calculator', 'task_id': '254356f9-19bf-49d9-a29b-6e22d9b1e733', 'resources': {'cpu': 8, 'gpu': 0, 'node': 'node1'}, 'total_runtime': 138.9268113636147}, {'name': 'run_calculator', 'task_id': '06d2e480-091e-4a25-b194-78d272ee5437', 'resources': {'cpu': 8, 'gpu': 0, 'node': 'node1'}, 'total_runtime': 155.9388718677948}, {'name': 'run_calculator', 'task_id': '9820685b-45fa-401e-b0bd-1bcb209485b7', 'resources': {'cpu': 8, 'gpu': 0, 'node': 'node1'}, 'total_runtime': 121.69493552512067}, {'name': 'run_calculator', 'task_id': '20d78ddf-2a24-4b6c-b9b5-27aa2761a458', 'resources': {'cpu': 8, 'gpu': 0, 'node': 'node1'}, 'total_runtime': 202.64712131201108}, {'name': 'run_calculator', 'task_id': '9f08b3dc-f207-4e61-ad4c-0677e46c8f70', 'resources': {'cpu': 8, 'gpu': 0, 'node': 'node1'}, 'total_runtime': 155.9388718677948}, {'name': 'run_calculator', 'task_id': 'd4fc187a-eb06-4f11-9b0c-f8b21895b29c', 'resources': {'cpu': 8, 'gpu': 0, 'node': 'node1'}, 'total_runtime': 29.930745318661067}, {'name': 'run_calculator', 'task_id': '52d06182-5359-4416-a1c9-cca0e6ee5cfa', 'resources': {'cpu': 8, 'gpu': 0, 'node': 'node1'}, 'total_runtime': 147.58094032467997}, {'name': 'run_calculator', 'task_id': '5c8d90d5-aba0-487f-a85b-bf2ea1ba33a0', 'resources': {'cpu': 8, 'gpu': 0, 'node': 'node1'}, 'total_runtime': 147.58094032467997}, {'name': 'run_calculator', 'task_id': '43b86b3e-3dbc-4c24-882d-81363f72e243', 'resources': {'cpu': 8, 'gpu': 0, 'node': 'node1'}, 'total_runtime': 138.9268113636147}, {'name': 'run_calculator', 'task_id': '910bf397-2462-4dd5-8c0f-c393a952b5cb', 'resources': {'cpu': 8, 'gpu': 0, 'node': 'node1'}, 'total_runtime': 155.9388718677948}, {'name': 'run_calculator', 'task_id': '74216a15-e675-423c-9653-be4309e42a42', 'resources': {'cpu': 8, 'gpu': 0, 'node': 'node1'}, 'total_runtime': 34.33825386766126}, {'name': 'run_calculator', 'task_id': '62e9b091-d629-49ed-8700-e4fa2bc1153b', 'resources': {'cpu': 8, 'gpu': 0, 'node': 'node1'}, 'total_runtime': 138.9268113636147}, {'name': 'run_calculator', 'task_id': 'eafba824-8b22-4030-98a3-b2f72f6b5c43', 'resources': {'cpu': 8, 'gpu': 0, 'node': 'node1'}, 'total_runtime': 230.9375998753204}, {'name': 'run_calculator', 'task_id': '987d1dee-2aad-4c4e-85a5-65f306532d7e', 'resources': {'cpu': 8, 'gpu': 0, 'node': 'node1'}, 'total_runtime': 29.97619376968112}, {'name': 'run_calculator', 'task_id': '0d96acdc-afa2-404b-9ea6-dfdeb2a0d43c', 'resources': {'cpu': 8, 'gpu': 0, 'node': 'node1'}, 'total_runtime': 202.64712131201108}, {'name': 'run_calculator', 'task_id': '2a1c7c5e-e906-41bd-abff-ee6dcd271ce7', 'resources': {'cpu': 8, 'gpu': 0, 'node': 'node1'}, 'total_runtime': 138.9268113636147}, {'name': 'run_calculator', 'task_id': 'b5120516-6a9a-418c-8fa7-8580968a287c', 'resources': {'cpu': 8, 'gpu': 0, 'node': 'node1'}, 'total_runtime': 155.9388718677948}, {'name': 'run_calculator', 'task_id': 'd766ba3a-b152-45ce-823d-e7b231c30f23', 'resources': {'cpu': 8, 'gpu': 0, 'node': 'node1'}, 'total_runtime': 121.69493552512067}, {'name': 'run_calculator', 'task_id': 'e248fffb-23a4-4ff4-991b-23bf28434f3e', 'resources': {'cpu': 8, 'gpu': 0, 'node': 'node1'}, 'total_runtime': 121.69493552512067}, {'name': 'run_calculator', 'task_id': '041a2988-733a-47ee-9cd1-72791fbcbee5', 'resources': {'cpu': 8, 'gpu': 0, 'node': 'node1'}, 'total_runtime': 138.9268113636147}, {'name': 'run_calculator', 'task_id': '47490021-135b-45a5-af1b-85b130a64d67', 'resources': {'cpu': 8, 'gpu': 0, 'node': 'node1'}, 'total_runtime': 138.9268113636147}, {'name': 'run_calculator', 'task_id': '609d883a-756c-4e0b-9f70-00495d9f7eac', 'resources': {'cpu': 8, 'gpu': 0, 'node': 'node1'}, 'total_runtime': 230.9375998753204}, {'name': 'run_calculator', 'task_id': 'ae00dda9-cbd7-4aed-919f-a14a9d5d75e2', 'resources': {'cpu': 8, 'gpu': 0, 'node': 'node1'}, 'total_runtime': 155.9388718677948}, {'name': 'run_calculator', 'task_id': 'ad05c003-43f0-4ca7-af93-ab889564352c', 'resources': {'cpu': 8, 'gpu': 0, 'node': 'node1'}, 'total_runtime': 138.9268113636147}, {'name': 'run_calculator', 'task_id': '1500ef38-111d-4c52-a596-9d573b926722', 'resources': {'cpu': 8, 'gpu': 0, 'node': 'node1'}, 'total_runtime': 34.33825386766126}, {'name': 'run_calculator', 'task_id': '54fca528-3c03-4d23-8f24-8bad41f0202c', 'resources': {'cpu': 8, 'gpu': 0, 'node': 'node1'}, 'total_runtime': 109.2715654359899}, {'name': 'run_calculator', 'task_id': '7c60d9f0-b34f-40d5-a940-0b282116c8f1', 'resources': {'cpu': 8, 'gpu': 0, 'node': 'node1'}, 'total_runtime': 230.9375998753204}, {'name': 'run_calculator', 'task_id': '5f5615cf-2669-4593-99b0-70adc499bedb', 'resources': {'cpu': 8, 'gpu': 0, 'node': 'node1'}, 'total_runtime': 121.69493552512067}, {'name': 'run_calculator', 'task_id': 'c1a6b7d3-911c-462b-8a91-6d1564030526', 'resources': {'cpu': 8, 'gpu': 0, 'node': 'node1'}, 'total_runtime': 138.9268113636147}, {'name': 'run_calculator', 'task_id': '9cffe97e-df36-4cba-bc17-895d6f26719b', 'resources': {'cpu': 8, 'gpu': 0, 'node': 'node1'}, 'total_runtime': 147.58094032467997}, {'name': 'run_calculator', 'task_id': 'd8df183c-1c91-429b-a665-b23fccca4f38', 'resources': {'cpu': 8, 'gpu': 0, 'node': 'node1'}, 'total_runtime': 54.1449676692448}, {'name': 'run_calculator', 'task_id': 'ce11b1bd-6a2b-4e77-9c2a-33e561076801', 'resources': {'cpu': 8, 'gpu': 0, 'node': 'node1'}, 'total_runtime': 202.64712131201108}, {'name': 'run_calculator', 'task_id': '2484a833-7f6a-432f-9f1b-3f5d15610377', 'resources': {'cpu': 6, 'gpu': 0, 'node': 'node1'}, 'total_runtime': 30.19926196768094}, {'name': 'run_calculator', 'task_id': 'f5e3e3e3-f3bf-454d-b42f-971ad99e8370', 'resources': {'cpu': 8, 'gpu': 0, 'node': 'node1'}, 'total_runtime': 155.9388718677948}, {'name': 'run_calculator', 'task_id': 'c7efc04a-c8e6-44c0-a758-8294c92195d6', 'resources': {'cpu': 8, 'gpu': 0, 'node': 'node1'}, 'total_runtime': 155.9388718677948}, {'name': 'run_calculator', 'task_id': '76660bed-8e20-4e4c-9bb4-33ef828160b7', 'resources': {'cpu': 8, 'gpu': 0, 'node': 'node1'}, 'total_runtime': 138.9268113636147}, {'name': 'run_calculator', 'task_id': '39fecc59-ef5b-47c3-a9b3-f2341846628f', 'resources': {'cpu': 6, 'gpu': 0, 'node': 'node1'}, 'total_runtime': 53.723504373643664}, {'name': 'run_calculator', 'task_id': '1187f583-9612-41f7-9c6c-3446eec8f3be', 'resources': {'cpu': 8, 'gpu': 0, 'node': 'node1'}, 'total_runtime': 109.2715654359899}, {'name': 'run_calculator', 'task_id': '8534e32a-d65e-4882-b7f1-b977260e293d', 'resources': {'cpu': 8, 'gpu': 0, 'node': 'node1'}, 'total_runtime': 202.64712131201108}, {'name': 'run_calculator', 'task_id': 'a3d15a92-f769-4f1f-978b-062fb486521c', 'resources': {'cpu': 8, 'gpu': 0, 'node': 'node1'}, 'total_runtime': 138.9268113636147}, {'name': 'run_calculator', 'task_id': '173b7a67-fe50-4a3a-bf69-3160e7803e9a', 'resources': {'cpu': 8, 'gpu': 0, 'node': 'node1'}, 'total_runtime': 54.1449676692448}, {'name': 'run_calculator', 'task_id': '9bdb79bf-5d15-453e-a8d8-c96eb239f5dc', 'resources': {'cpu': 8, 'gpu': 0, 'node': 'node1'}, 'total_runtime': 230.9375998753204}, {'name': 'run_calculator', 'task_id': '14981d54-1b6a-4532-83b1-a662cf5ed682', 'resources': {'cpu': 8, 'gpu': 0, 'node': 'node1'}, 'total_runtime': 121.69493552512067}, {'name': 'run_calculator', 'task_id': '264e6d05-519b-416a-9365-8cc29152c5a5', 'resources': {'cpu': 8, 'gpu': 0, 'node': 'node1'}, 'total_runtime': 121.69493552512067}, {'name': 'run_calculator', 'task_id': '719c83b5-0cc2-4af3-9baa-094aeb7baa91', 'resources': {'cpu': 8, 'gpu': 0, 'node': 'node1'}, 'total_runtime': 202.64712131201108}, {'name': 'run_calculator', 'task_id': '77f87003-524f-4357-aa98-b938a2b5f857', 'resources': {'cpu': 8, 'gpu': 0, 'node': 'node1'}, 'total_runtime': 155.9388718677948}, {'name': 'run_calculator', 'task_id': '6fb44083-9e9c-42d7-b15d-9ecbc110817e', 'resources': {'cpu': 7, 'gpu': 0, 'node': 'node1'}, 'total_runtime': 24.903328936240577}, {'name': 'run_calculator', 'task_id': 'ef31c73a-78b7-4268-8179-455355d2365c', 'resources': {'cpu': 8, 'gpu': 0, 'node': 'node1'}, 'total_runtime': 202.64712131201108}, {'name': 'run_calculator', 'task_id': 'c672887a-56de-4fd0-8f0a-c3f026af54e3', 'resources': {'cpu': 8, 'gpu': 0, 'node': 'node1'}, 'total_runtime': 202.64712131201108}, {'name': 'run_calculator', 'task_id': '722cd7d0-eb3e-436c-8a10-51eb3ed5b32a', 'resources': {'cpu': 8, 'gpu': 0, 'node': 'node1'}, 'total_runtime': 230.9375998753204}, {'name': 'run_calculator', 'task_id': '2a164200-c62e-4bf6-8952-95b31fd1e26c', 'resources': {'cpu': 8, 'gpu': 0, 'node': 'node1'}, 'total_runtime': 230.9375998753204}, {'name': 'run_calculator', 'task_id': '52de80be-6e12-43dd-a376-f18a4919c0f7', 'resources': {'cpu': 8, 'gpu': 0, 'node': 'node1'}, 'total_runtime': 34.33825386766126}, {'name': 'run_calculator', 'task_id': '2387cd96-3373-46d6-8828-9d4cb8f5179c', 'resources': {'cpu': 8, 'gpu': 0, 'node': 'node1'}, 'total_runtime': 121.69493552512067}, {'name': 'run_calculator', 'task_id': '632d8b54-0b9a-40aa-97ae-fb66ce0a1c67', 'resources': {'cpu': 7, 'gpu': 0, 'node': 'node1'}, 'total_runtime': 30.19926196768094}, {'name': 'run_calculator', 'task_id': 'f5c1f126-286a-4e1b-8c9c-0c13dc95536c', 'resources': {'cpu': 8, 'gpu': 0, 'node': 'node1'}, 'total_runtime': 109.2715654359899}, {'name': 'run_calculator', 'task_id': '18989e49-b181-4f90-8371-88f9b201516b', 'resources': {'cpu': 8, 'gpu': 0, 'node': 'node1'}, 'total_runtime': 29.97619376968112}, {'name': 'run_calculator', 'task_id': 'feb905b3-5aec-4ef4-928e-cb336be5176a', 'resources': {'cpu': 8, 'gpu': 0, 'node': 'node1'}, 'total_runtime': 29.97619376968112}]\n",
      "GA running_time:22.29250454902649\n",
      "Task_nums: 70, Running time: 25.24 seconds\n"
     ]
    },
    {
     "name": "stderr",
     "output_type": "stream",
     "text": [
      "Intel(R) Extension for Scikit-learn* enabled (https://github.com/intel/scikit-learn-intelex)\n"
     ]
    },
    {
     "name": "stdout",
     "output_type": "stream",
     "text": [
      "<__main__.test_queue object at 0x7f7b12caec10>\n",
      "{'run_calculator': ['18071e18-468e-4f35-a43e-ee45cb428d36', '4a98fa26-25a8-487c-ae82-e1bdd8ffbe44', '4b202735-217e-4fa1-8e86-10f41bb2f9c5', 'c3f709da-f9de-4154-8d78-ed040f43ffde', 'd2383a47-b230-4bd5-8300-d0c3d6e8993a', 'f0ebf257-288f-4240-bc1d-587744b55b59', 'b59fea53-da7b-49be-a5f2-fbb4a0969298', 'bb2a23bf-7e9c-46f7-95e6-012c819d981a', 'af6853ac-a799-435f-a957-b0d13e0a10eb', '52756420-f34a-483a-a594-be3065b2330b', '4d225223-3ce2-47dd-b6d1-031e137326bb', '2962f8df-1131-47e4-b271-282a2dad3b55', 'b2df214f-8197-4d97-966a-6c5bbc610232', '136cdd7b-6dd8-4923-b9b9-012853c2dbe9', 'ace1c3c2-01dc-4399-a584-36f7b1682495', 'a5f1f56b-f9bc-4edd-80b7-7333c321a746', 'ed2983f6-6032-4fb9-a222-00e8988e7cb2', 'abf8072f-c78b-4df2-9b01-cecc7fcc1280', '8cb56e39-106d-4e75-9298-97fd6c72b6a8', 'ca35aa31-0215-4638-95c9-c3f2eaeb71b8', '7d79e7ae-0509-402f-8a13-494ccc19c012', '6691379c-f6e5-4f20-ad49-c71c26599bed', '8dfc2213-fbd4-4d65-8f3a-f6bb30c1e95e', 'c651f2e4-78ad-4512-963a-ff86eaa4d98a', '5558321f-dd53-45ce-bf34-4802d587cd99', 'c6236e7b-2373-4adc-aba1-a4af75028d1f', 'ed286e12-ab76-479d-9803-2620275df095', '10526ff9-14df-4138-b02f-b446c478b128', '6148ef67-1989-45c6-b4e2-8f61b5328826', 'c3c18409-60f3-4856-85d8-29d287b4d2b5', '64e24a37-e49d-4ac1-86ed-4eee3149242f', 'f4716d0b-ef98-4357-a990-5655077ef4d7', 'b9663097-6339-4f24-b360-e51ba9b91c9e', 'e8d5f5d3-83c2-4cc4-bfde-6788f602cd95', '5437bb59-f8ef-4dc4-b871-725ee7cc27e4', 'eeaa7f21-2034-4078-8a4e-4461c25d8b55', '2bc302d1-5a41-42ad-8e83-00c0f2c9ced5', 'a5459961-eea9-454d-84b0-ff3c725eec62', 'bcd76a1e-7b3a-45e3-a20b-8f5f1782d779', '1d2aaf44-7cf3-4b51-b812-7751b7897616', '17474b50-755e-49b8-9981-328889ca6e04', '9843c335-e4a5-4b2b-9021-51f1959050cd', '9224f027-b583-40b9-aee9-f95f9ae0fa83', 'f2444029-5223-4ff6-b7de-e50df64036e5', '7972c411-e4a7-43d7-a3c4-cbbf27e4176a', 'f9c8696e-dd62-40aa-b9bb-e37320f941f4', '52ac356d-febd-4184-936d-4440fb12ace6', '7c378e5b-f9d3-45ff-a293-c143e185203e', 'b7ff6769-3f4c-4be0-806c-99d7d1acc38a', 'f5583ac4-9603-4558-b4d2-8e51340572e6', 'cb736ec0-ff11-4c1c-a807-ee6d88608cad', '90fce80b-a28c-4ec7-8f7f-8421b8eb9d41', '962686c0-cebc-4e13-b8e1-d9b9cac4bd0a', '500b2c7a-6d6e-48a3-b944-c7f46e632913', '70dbd91c-c9be-41bb-95eb-0a0c5ccf3eed', '58941845-7741-4c49-9baf-cc0d91b9540c', '01bf0ef4-a597-46d7-a8d2-18feaef2ce5f', '45f33cb0-eda6-409c-a64c-381113a0dd96', '1fe7fc4e-75fa-474c-b0ea-9550668de8f6', '8840eae1-a510-4183-be76-36bc61ae8e80', '9cb8b97f-a884-4757-a273-e601794ada3d', 'f53826fe-b73c-470a-af4c-d01fc621cd96', 'e9501e55-6e72-49f6-932d-7f6f456a8de6', 'cc9b3e77-9d5f-444c-87f7-206adc8cd87a', 'db55d09b-ebe8-4709-8c57-3aa936424ff2', 'ad01defb-40ff-413e-b43c-10db9cd8730f', '428a2925-3a48-4975-bd97-fcc0b8de9c7b', 'b7546b99-43f9-4fbb-958b-ca673177ad52', 'de035bde-9f58-4235-a818-b79b976d13aa', '5e049d06-cb50-4008-8891-65710dc9361f', '6732887f-8e63-4f6a-9846-179bb9591efb', '110873c6-d04c-454a-805c-f0ccfe8d6ca1', 'fd24faff-61d0-4b1d-a635-3228ad25634e', '7c42ca2b-0f30-4d7a-bc4b-d09fe6fa77ed', 'd6947c3c-97ba-492a-b33d-26e3a1bfdf5b', '1267989b-7513-4325-9aec-6f1a02628d45', '6e21dabf-4363-4ad7-a4bb-f2bcfbb97708', 'c0726d30-1ef4-4cad-abb9-12043d8263f4', '30eccab7-e444-48ce-9f1c-62479a7cc4b9', 'f6c697f2-9124-4022-8ebf-cd5dcb318b1d'], 'train': [], 'evaluate': [], 'run_sampling': []}\n",
      "Current memory usage: 248.22 MB\n",
      "After cleaning memory usage: 248.19 MB\n",
      "Current memory usage: 249.16 MB\n",
      "After cleaning memory usage: 249.11 MB\n",
      "Current memory usage: 249.50 MB\n",
      "After cleaning memory usage: 249.47 MB\n",
      "Current memory usage: 249.52 MB\n",
      "After cleaning memory usage: 249.48 MB\n",
      "[{'name': 'run_calculator', 'task_id': '5e049d06-cb50-4008-8891-65710dc9361f', 'resources': {'cpu': 8, 'gpu': 0, 'node': 'node1'}, 'total_runtime': 121.69493552512067}, {'name': 'run_calculator', 'task_id': '52ac356d-febd-4184-936d-4440fb12ace6', 'resources': {'cpu': 6, 'gpu': 0, 'node': 'node1'}, 'total_runtime': 30.19926196768094}, {'name': 'run_calculator', 'task_id': '1d2aaf44-7cf3-4b51-b812-7751b7897616', 'resources': {'cpu': 8, 'gpu': 0, 'node': 'node1'}, 'total_runtime': 109.2715654359899}, {'name': 'run_calculator', 'task_id': '9224f027-b583-40b9-aee9-f95f9ae0fa83', 'resources': {'cpu': 8, 'gpu': 0, 'node': 'node1'}, 'total_runtime': 230.9375998753204}, {'name': 'run_calculator', 'task_id': 'db55d09b-ebe8-4709-8c57-3aa936424ff2', 'resources': {'cpu': 8, 'gpu': 0, 'node': 'node1'}, 'total_runtime': 121.69493552512067}, {'name': 'run_calculator', 'task_id': '8dfc2213-fbd4-4d65-8f3a-f6bb30c1e95e', 'resources': {'cpu': 8, 'gpu': 0, 'node': 'node1'}, 'total_runtime': 29.97619376968112}, {'name': 'run_calculator', 'task_id': 'c3f709da-f9de-4154-8d78-ed040f43ffde', 'resources': {'cpu': 8, 'gpu': 0, 'node': 'node1'}, 'total_runtime': 230.9375998753204}, {'name': 'run_calculator', 'task_id': '9cb8b97f-a884-4757-a273-e601794ada3d', 'resources': {'cpu': 8, 'gpu': 0, 'node': 'node1'}, 'total_runtime': 138.9268113636147}, {'name': 'run_calculator', 'task_id': 'ca35aa31-0215-4638-95c9-c3f2eaeb71b8', 'resources': {'cpu': 8, 'gpu': 0, 'node': 'node1'}, 'total_runtime': 138.9268113636147}, {'name': 'run_calculator', 'task_id': 'f2444029-5223-4ff6-b7de-e50df64036e5', 'resources': {'cpu': 8, 'gpu': 0, 'node': 'node1'}, 'total_runtime': 155.9388718677948}, {'name': 'run_calculator', 'task_id': '7972c411-e4a7-43d7-a3c4-cbbf27e4176a', 'resources': {'cpu': 8, 'gpu': 0, 'node': 'node1'}, 'total_runtime': 138.9268113636147}, {'name': 'run_calculator', 'task_id': 'b2df214f-8197-4d97-966a-6c5bbc610232', 'resources': {'cpu': 8, 'gpu': 0, 'node': 'node1'}, 'total_runtime': 202.64712131201108}, {'name': 'run_calculator', 'task_id': '5437bb59-f8ef-4dc4-b871-725ee7cc27e4', 'resources': {'cpu': 8, 'gpu': 0, 'node': 'node1'}, 'total_runtime': 230.9375998753204}, {'name': 'run_calculator', 'task_id': 'cc9b3e77-9d5f-444c-87f7-206adc8cd87a', 'resources': {'cpu': 8, 'gpu': 0, 'node': 'node1'}, 'total_runtime': 155.9388718677948}, {'name': 'run_calculator', 'task_id': 'a5f1f56b-f9bc-4edd-80b7-7333c321a746', 'resources': {'cpu': 8, 'gpu': 0, 'node': 'node1'}, 'total_runtime': 29.930745318661067}, {'name': 'run_calculator', 'task_id': '7c378e5b-f9d3-45ff-a293-c143e185203e', 'resources': {'cpu': 8, 'gpu': 0, 'node': 'node1'}, 'total_runtime': 34.33825386766126}, {'name': 'run_calculator', 'task_id': 'c3c18409-60f3-4856-85d8-29d287b4d2b5', 'resources': {'cpu': 8, 'gpu': 0, 'node': 'node1'}, 'total_runtime': 202.64712131201108}, {'name': 'run_calculator', 'task_id': '8cb56e39-106d-4e75-9298-97fd6c72b6a8', 'resources': {'cpu': 8, 'gpu': 0, 'node': 'node1'}, 'total_runtime': 121.69493552512067}, {'name': 'run_calculator', 'task_id': '4d225223-3ce2-47dd-b6d1-031e137326bb', 'resources': {'cpu': 8, 'gpu': 0, 'node': 'node1'}, 'total_runtime': 147.58094032467997}, {'name': 'run_calculator', 'task_id': 'c651f2e4-78ad-4512-963a-ff86eaa4d98a', 'resources': {'cpu': 8, 'gpu': 0, 'node': 'node1'}, 'total_runtime': 202.64712131201108}, {'name': 'run_calculator', 'task_id': '5558321f-dd53-45ce-bf34-4802d587cd99', 'resources': {'cpu': 8, 'gpu': 0, 'node': 'node1'}, 'total_runtime': 202.64712131201108}, {'name': 'run_calculator', 'task_id': 'fd24faff-61d0-4b1d-a635-3228ad25634e', 'resources': {'cpu': 8, 'gpu': 0, 'node': 'node1'}, 'total_runtime': 138.9268113636147}, {'name': 'run_calculator', 'task_id': 'd2383a47-b230-4bd5-8300-d0c3d6e8993a', 'resources': {'cpu': 8, 'gpu': 0, 'node': 'node1'}, 'total_runtime': 34.33825386766126}, {'name': 'run_calculator', 'task_id': 'c6236e7b-2373-4adc-aba1-a4af75028d1f', 'resources': {'cpu': 8, 'gpu': 0, 'node': 'node1'}, 'total_runtime': 29.97619376968112}, {'name': 'run_calculator', 'task_id': '45f33cb0-eda6-409c-a64c-381113a0dd96', 'resources': {'cpu': 8, 'gpu': 0, 'node': 'node1'}, 'total_runtime': 109.2715654359899}, {'name': 'run_calculator', 'task_id': 'eeaa7f21-2034-4078-8a4e-4461c25d8b55', 'resources': {'cpu': 8, 'gpu': 0, 'node': 'node1'}, 'total_runtime': 202.64712131201108}, {'name': 'run_calculator', 'task_id': '500b2c7a-6d6e-48a3-b944-c7f46e632913', 'resources': {'cpu': 8, 'gpu': 0, 'node': 'node1'}, 'total_runtime': 29.97619376968112}, {'name': 'run_calculator', 'task_id': 'f5583ac4-9603-4558-b4d2-8e51340572e6', 'resources': {'cpu': 8, 'gpu': 0, 'node': 'node1'}, 'total_runtime': 155.9388718677948}, {'name': 'run_calculator', 'task_id': '1267989b-7513-4325-9aec-6f1a02628d45', 'resources': {'cpu': 8, 'gpu': 0, 'node': 'node1'}, 'total_runtime': 34.33825386766126}, {'name': 'run_calculator', 'task_id': 'c0726d30-1ef4-4cad-abb9-12043d8263f4', 'resources': {'cpu': 8, 'gpu': 0, 'node': 'node1'}, 'total_runtime': 147.58094032467997}, {'name': 'run_calculator', 'task_id': 'ed286e12-ab76-479d-9803-2620275df095', 'resources': {'cpu': 8, 'gpu': 0, 'node': 'node1'}, 'total_runtime': 138.9268113636147}, {'name': 'run_calculator', 'task_id': '90fce80b-a28c-4ec7-8f7f-8421b8eb9d41', 'resources': {'cpu': 8, 'gpu': 0, 'node': 'node1'}, 'total_runtime': 109.2715654359899}, {'name': 'run_calculator', 'task_id': '17474b50-755e-49b8-9981-328889ca6e04', 'resources': {'cpu': 8, 'gpu': 0, 'node': 'node1'}, 'total_runtime': 230.9375998753204}, {'name': 'run_calculator', 'task_id': 'a5459961-eea9-454d-84b0-ff3c725eec62', 'resources': {'cpu': 8, 'gpu': 0, 'node': 'node1'}, 'total_runtime': 230.9375998753204}, {'name': 'run_calculator', 'task_id': '01bf0ef4-a597-46d7-a8d2-18feaef2ce5f', 'resources': {'cpu': 8, 'gpu': 0, 'node': 'node1'}, 'total_runtime': 230.9375998753204}, {'name': 'run_calculator', 'task_id': '30eccab7-e444-48ce-9f1c-62479a7cc4b9', 'resources': {'cpu': 8, 'gpu': 0, 'node': 'node1'}, 'total_runtime': 147.58094032467997}, {'name': 'run_calculator', 'task_id': '70dbd91c-c9be-41bb-95eb-0a0c5ccf3eed', 'resources': {'cpu': 8, 'gpu': 0, 'node': 'node1'}, 'total_runtime': 138.9268113636147}, {'name': 'run_calculator', 'task_id': '10526ff9-14df-4138-b02f-b446c478b128', 'resources': {'cpu': 8, 'gpu': 0, 'node': 'node1'}, 'total_runtime': 138.9268113636147}, {'name': 'run_calculator', 'task_id': '18071e18-468e-4f35-a43e-ee45cb428d36', 'resources': {'cpu': 8, 'gpu': 0, 'node': 'node1'}, 'total_runtime': 155.9388718677948}, {'name': 'run_calculator', 'task_id': '962686c0-cebc-4e13-b8e1-d9b9cac4bd0a', 'resources': {'cpu': 8, 'gpu': 0, 'node': 'node1'}, 'total_runtime': 147.58094032467997}, {'name': 'run_calculator', 'task_id': 'f6c697f2-9124-4022-8ebf-cd5dcb318b1d', 'resources': {'cpu': 8, 'gpu': 0, 'node': 'node1'}, 'total_runtime': 155.9388718677948}, {'name': 'run_calculator', 'task_id': '110873c6-d04c-454a-805c-f0ccfe8d6ca1', 'resources': {'cpu': 8, 'gpu': 0, 'node': 'node1'}, 'total_runtime': 121.69493552512067}, {'name': 'run_calculator', 'task_id': 'f53826fe-b73c-470a-af4c-d01fc621cd96', 'resources': {'cpu': 8, 'gpu': 0, 'node': 'node1'}, 'total_runtime': 29.930745318661067}, {'name': 'run_calculator', 'task_id': '2bc302d1-5a41-42ad-8e83-00c0f2c9ced5', 'resources': {'cpu': 8, 'gpu': 0, 'node': 'node1'}, 'total_runtime': 155.9388718677948}, {'name': 'run_calculator', 'task_id': '428a2925-3a48-4975-bd97-fcc0b8de9c7b', 'resources': {'cpu': 8, 'gpu': 0, 'node': 'node1'}, 'total_runtime': 202.64712131201108}, {'name': 'run_calculator', 'task_id': 'b59fea53-da7b-49be-a5f2-fbb4a0969298', 'resources': {'cpu': 8, 'gpu': 0, 'node': 'node1'}, 'total_runtime': 155.9388718677948}, {'name': 'run_calculator', 'task_id': 'e9501e55-6e72-49f6-932d-7f6f456a8de6', 'resources': {'cpu': 8, 'gpu': 0, 'node': 'node1'}, 'total_runtime': 138.9268113636147}, {'name': 'run_calculator', 'task_id': 'e8d5f5d3-83c2-4cc4-bfde-6788f602cd95', 'resources': {'cpu': 8, 'gpu': 0, 'node': 'node1'}, 'total_runtime': 121.69493552512067}, {'name': 'run_calculator', 'task_id': 'bb2a23bf-7e9c-46f7-95e6-012c819d981a', 'resources': {'cpu': 8, 'gpu': 0, 'node': 'node1'}, 'total_runtime': 147.58094032467997}, {'name': 'run_calculator', 'task_id': 'ad01defb-40ff-413e-b43c-10db9cd8730f', 'resources': {'cpu': 8, 'gpu': 0, 'node': 'node1'}, 'total_runtime': 138.9268113636147}, {'name': 'run_calculator', 'task_id': '6691379c-f6e5-4f20-ad49-c71c26599bed', 'resources': {'cpu': 8, 'gpu': 0, 'node': 'node1'}, 'total_runtime': 138.9268113636147}, {'name': 'run_calculator', 'task_id': 'd6947c3c-97ba-492a-b33d-26e3a1bfdf5b', 'resources': {'cpu': 8, 'gpu': 0, 'node': 'node1'}, 'total_runtime': 29.930745318661067}, {'name': 'run_calculator', 'task_id': '2962f8df-1131-47e4-b271-282a2dad3b55', 'resources': {'cpu': 8, 'gpu': 0, 'node': 'node1'}, 'total_runtime': 138.9268113636147}, {'name': 'run_calculator', 'task_id': '1fe7fc4e-75fa-474c-b0ea-9550668de8f6', 'resources': {'cpu': 8, 'gpu': 0, 'node': 'node1'}, 'total_runtime': 230.9375998753204}, {'name': 'run_calculator', 'task_id': 'bcd76a1e-7b3a-45e3-a20b-8f5f1782d779', 'resources': {'cpu': 8, 'gpu': 0, 'node': 'node1'}, 'total_runtime': 147.58094032467997}, {'name': 'run_calculator', 'task_id': 'f0ebf257-288f-4240-bc1d-587744b55b59', 'resources': {'cpu': 8, 'gpu': 0, 'node': 'node1'}, 'total_runtime': 109.2715654359899}, {'name': 'run_calculator', 'task_id': '7d79e7ae-0509-402f-8a13-494ccc19c012', 'resources': {'cpu': 8, 'gpu': 0, 'node': 'node1'}, 'total_runtime': 155.9388718677948}, {'name': 'run_calculator', 'task_id': '8840eae1-a510-4183-be76-36bc61ae8e80', 'resources': {'cpu': 8, 'gpu': 0, 'node': 'node1'}, 'total_runtime': 202.64712131201108}, {'name': 'run_calculator', 'task_id': '52756420-f34a-483a-a594-be3065b2330b', 'resources': {'cpu': 8, 'gpu': 0, 'node': 'node1'}, 'total_runtime': 202.64712131201108}, {'name': 'run_calculator', 'task_id': 'f4716d0b-ef98-4357-a990-5655077ef4d7', 'resources': {'cpu': 8, 'gpu': 0, 'node': 'node1'}, 'total_runtime': 155.9388718677948}, {'name': 'run_calculator', 'task_id': 'f9c8696e-dd62-40aa-b9bb-e37320f941f4', 'resources': {'cpu': 6, 'gpu': 0, 'node': 'node1'}, 'total_runtime': 24.903328936240577}, {'name': 'run_calculator', 'task_id': '64e24a37-e49d-4ac1-86ed-4eee3149242f', 'resources': {'cpu': 8, 'gpu': 0, 'node': 'node1'}, 'total_runtime': 230.9375998753204}, {'name': 'run_calculator', 'task_id': '6e21dabf-4363-4ad7-a4bb-f2bcfbb97708', 'resources': {'cpu': 8, 'gpu': 0, 'node': 'node1'}, 'total_runtime': 230.9375998753204}, {'name': 'run_calculator', 'task_id': '58941845-7741-4c49-9baf-cc0d91b9540c', 'resources': {'cpu': 8, 'gpu': 0, 'node': 'node1'}, 'total_runtime': 155.9388718677948}, {'name': 'run_calculator', 'task_id': 'af6853ac-a799-435f-a957-b0d13e0a10eb', 'resources': {'cpu': 8, 'gpu': 0, 'node': 'node1'}, 'total_runtime': 121.69493552512067}, {'name': 'run_calculator', 'task_id': 'ace1c3c2-01dc-4399-a584-36f7b1682495', 'resources': {'cpu': 8, 'gpu': 0, 'node': 'node1'}, 'total_runtime': 147.58094032467997}, {'name': 'run_calculator', 'task_id': '4b202735-217e-4fa1-8e86-10f41bb2f9c5', 'resources': {'cpu': 8, 'gpu': 0, 'node': 'node1'}, 'total_runtime': 202.64712131201108}, {'name': 'run_calculator', 'task_id': 'b7ff6769-3f4c-4be0-806c-99d7d1acc38a', 'resources': {'cpu': 8, 'gpu': 0, 'node': 'node1'}, 'total_runtime': 54.1449676692448}, {'name': 'run_calculator', 'task_id': 'abf8072f-c78b-4df2-9b01-cecc7fcc1280', 'resources': {'cpu': 8, 'gpu': 0, 'node': 'node1'}, 'total_runtime': 138.9268113636147}, {'name': 'run_calculator', 'task_id': 'ed2983f6-6032-4fb9-a222-00e8988e7cb2', 'resources': {'cpu': 8, 'gpu': 0, 'node': 'node1'}, 'total_runtime': 138.9268113636147}, {'name': 'run_calculator', 'task_id': '6732887f-8e63-4f6a-9846-179bb9591efb', 'resources': {'cpu': 8, 'gpu': 0, 'node': 'node1'}, 'total_runtime': 155.9388718677948}, {'name': 'run_calculator', 'task_id': '9843c335-e4a5-4b2b-9021-51f1959050cd', 'resources': {'cpu': 8, 'gpu': 0, 'node': 'node1'}, 'total_runtime': 54.1449676692448}, {'name': 'run_calculator', 'task_id': 'b9663097-6339-4f24-b360-e51ba9b91c9e', 'resources': {'cpu': 8, 'gpu': 0, 'node': 'node1'}, 'total_runtime': 34.33825386766126}, {'name': 'run_calculator', 'task_id': '4a98fa26-25a8-487c-ae82-e1bdd8ffbe44', 'resources': {'cpu': 8, 'gpu': 0, 'node': 'node1'}, 'total_runtime': 121.69493552512067}, {'name': 'run_calculator', 'task_id': '6148ef67-1989-45c6-b4e2-8f61b5328826', 'resources': {'cpu': 8, 'gpu': 0, 'node': 'node1'}, 'total_runtime': 121.69493552512067}, {'name': 'run_calculator', 'task_id': '136cdd7b-6dd8-4923-b9b9-012853c2dbe9', 'resources': {'cpu': 8, 'gpu': 0, 'node': 'node1'}, 'total_runtime': 109.2715654359899}, {'name': 'run_calculator', 'task_id': 'b7546b99-43f9-4fbb-958b-ca673177ad52', 'resources': {'cpu': 8, 'gpu': 0, 'node': 'node1'}, 'total_runtime': 60.866176071724766}, {'name': 'run_calculator', 'task_id': 'cb736ec0-ff11-4c1c-a807-ee6d88608cad', 'resources': {'cpu': 8, 'gpu': 0, 'node': 'node1'}, 'total_runtime': 34.33825386766126}, {'name': 'run_calculator', 'task_id': 'de035bde-9f58-4235-a818-b79b976d13aa', 'resources': {'cpu': 7, 'gpu': 0, 'node': 'node1'}, 'total_runtime': 47.0022959711637}, {'name': 'run_calculator', 'task_id': '7c42ca2b-0f30-4d7a-bc4b-d09fe6fa77ed', 'resources': {'cpu': 7, 'gpu': 0, 'node': 'node1'}, 'total_runtime': 24.741124448110494}]\n",
      "GA running_time:24.903002738952637\n",
      "Task_nums: 80, Running time: 27.43 seconds\n"
     ]
    },
    {
     "data": {
      "image/png": "[encoded data removed]",
      "text/plain": [
       "<Figure size 1000x600 with 1 Axes>"
      ]
     },
     "metadata": {},
     "output_type": "display_data"
    }
   ],
   "source": [
    "import os\n",
    "import time\n",
    "import subprocess\n",
    "\n",
    "# Create a list of task_nums to test\n",
    "task_nums_list = [10, 20, 30, 40, 50, 60, 70, 80]\n",
    "\n",
    "# Create a list to store the running times\n",
    "running_times = []\n",
    "\n",
    "for task_nums in task_nums_list:\n",
    "    # Run the Python file with the current task_nums\n",
    "    start_time = time.time()\n",
    "    subprocess.run([\"python\", \"evo_sch_performance.py\", str(task_nums)], check=True)\n",
    "    end_time = time.time()\n",
    "    \n",
    "    # Calculate the running time and append it to the list\n",
    "    running_time = end_time - start_time\n",
    "    running_times.append(running_time)\n",
    "    \n",
    "    print(f\"Task_nums: {task_nums}, Running time: {running_time:.2f} seconds\")\n",
    "\n",
    "# Plot the results\n",
    "import matplotlib.pyplot as plt\n",
    "plt.figure(figsize=(10, 6))\n",
    "plt.plot(task_nums_list, running_times)\n",
    "plt.xlabel(\"Task_nums\")\n",
    "plt.ylabel(\"Running time (seconds)\")\n",
    "plt.title(\"Running time vs Task_nums\")\n",
    "plt.show()"
   ]
  },
  {
   "cell_type": "code",
   "execution_count": 19,
   "metadata": {},
   "outputs": [
    {
     "data": {
      "image/png": "[encoded data removed]",
      "text/plain": [
       "<Figure size 640x480 with 1 Axes>"
      ]
     },
     "metadata": {},
     "output_type": "display_data"
    }
   ],
   "source": [
    "# Plot the results\n",
    "# running_times_1nodes = running_times\n",
    "import matplotlib.pyplot as plt\n",
    "plt.figure()\n",
    "plt.plot(task_nums_list, running_times_2nodes,marker='o', color='red', linestyle='--', label='2 nodes', alpha=0.5)\n",
    "plt.plot(task_nums_list, running_times_1nodes,marker='o', color='blue', linestyle='--', label='1 nodes', alpha=0.5)\n",
    "plt.legend(loc='upper left', fontsize=16)\n",
    "plt.xticks(fontsize=18)\n",
    "plt.yticks(fontsize=18)\n",
    "plt.xlabel(\"Task_nums\",fontsize=20)\n",
    "plt.ylabel(\"Running time (seconds)\",fontsize=20)\n",
    "# plt.title(\"GA Running time vs Task nums\",fontsize=20)\n",
    "plt.show()"
   ]
  },
  {
   "cell_type": "code",
   "execution_count": 3,
   "metadata": {},
   "outputs": [
    {
     "data": {
      "text/plain": [
       "'train:run_calculator model'"
      ]
     },
     "metadata": {},
     "output_type": "display_data"
    },
    {
     "data": {
      "text/plain": [
       "'method: run_calculator, random forest regressor score: 0.9581566679174408'"
      ]
     },
     "metadata": {},
     "output_type": "display_data"
    },
    {
     "data": {
      "text/plain": [
       "'train:train model'"
      ]
     },
     "metadata": {},
     "output_type": "display_data"
    },
    {
     "data": {
      "text/plain": [
       "'method: train, random forest regressor score: 0.9497878149701859'"
      ]
     },
     "metadata": {},
     "output_type": "display_data"
    },
    {
     "data": {
      "text/plain": [
       "'train:evaluate model'"
      ]
     },
     "metadata": {},
     "output_type": "display_data"
    },
    {
     "data": {
      "text/plain": [
       "'train:run_sampling model'"
      ]
     },
     "metadata": {},
     "output_type": "display_data"
    },
    {
     "data": {
      "text/plain": [
       "'method: run_sampling, random forest regressor score: 0.9154976126383643'"
      ]
     },
     "metadata": {},
     "output_type": "display_data"
    },
    {
     "name": "stdout",
     "output_type": "stream",
     "text": [
      "-480.28092885017395\n"
     ]
    }
   ],
   "source": [
    "## predifined resources score\n",
    "tq.evosch.hist_data.random_forest_train()\n",
    "tq.evosch.hist_data.estimate_batch([predifine_ind])\n",
    "tq.evosch.fitness(predifine_ind, all_node=True)\n",
    "print(predifine_ind.score)"
   ]
  },
  {
   "cell_type": "code",
   "execution_count": 4,
   "metadata": {},
   "outputs": [
    {
     "data": {
      "text/plain": [
       "'train:run_calculator model'"
      ]
     },
     "metadata": {},
     "output_type": "display_data"
    },
    {
     "data": {
      "text/plain": [
       "'method: run_calculator, random forest regressor score: 0.9581566679174408'"
      ]
     },
     "metadata": {},
     "output_type": "display_data"
    },
    {
     "data": {
      "text/plain": [
       "'train:train model'"
      ]
     },
     "metadata": {},
     "output_type": "display_data"
    },
    {
     "data": {
      "text/plain": [
       "'method: train, random forest regressor score: 0.9497878149701859'"
      ]
     },
     "metadata": {},
     "output_type": "display_data"
    },
    {
     "data": {
      "text/plain": [
       "'train:evaluate model'"
      ]
     },
     "metadata": {},
     "output_type": "display_data"
    },
    {
     "data": {
      "text/plain": [
       "'train:run_sampling model'"
      ]
     },
     "metadata": {},
     "output_type": "display_data"
    },
    {
     "data": {
      "text/plain": [
       "'method: run_sampling, random forest regressor score: 0.9154976126383643'"
      ]
     },
     "metadata": {},
     "output_type": "display_data"
    },
    {
     "data": {
      "text/plain": [
       "\"Starting GA with available tasks: {'run_calculator': ['7271c5f4-c8a5-4eeb-a565-ce1ff70ee197', '7d033b69-6974-4c93-b4d5-029bcfbacf89', 'e6b60572-5640-4afa-8b57-7e54e72d853e', '5f1bc92b-3e2b-4a1e-9d34-fd7255830efc', '5b098791-9c9f-469f-b270-d4c7bd05cc68', 'eab08b85-6fa8-440e-9d2c-9fe27b2234c4', '3dd43b50-9bb2-4fc1-88bc-c001b8129761', '030d66fc-76af-4657-a4d9-3ab121958991', 'e861b4ce-59ef-43d5-9c6b-7ca99f26b6d5', '12a2fac2-49e6-435b-b065-fa47626d1528', '7860597e-be33-4445-88ee-00797daccda6', '7a9464b8-bf98-440d-bdbb-25849fa64b95', 'cfa69881-1b95-44c8-aac1-60aee3a8ee01', '3ed46129-78a4-4522-ac2d-adbd3a30e0fe', '8000f8f2-31dd-433b-a180-b236eea45cd9', 'ca0239df-3870-41a4-8617-088292d84f1f', '1fe68e79-6181-41f4-8a74-51ed3c513966', '1c666824-a0ba-4929-a598-85303b29bb47', 'a5514fb2-6ac0-4e28-98b6-ed374c79755b', '33a5453f-c4ff-4576-9c27-04b1488c9859'], 'train': [], 'evaluate': [], 'run_sampling': []}\""
      ]
     },
     "metadata": {},
     "output_type": "display_data"
    },
    {
     "data": {
      "text/plain": [
       "'initial score is -873.3653047084808'"
      ]
     },
     "metadata": {},
     "output_type": "display_data"
    },
    {
     "name": "stderr",
     "output_type": "stream",
     "text": [
      "INFO:sklearnex: sklearn.utils.validation._assert_all_finite: running accelerated version on CPU\n"
     ]
    },
    {
     "data": {
      "text/plain": [
       "'sklearn.utils.validation._assert_all_finite: running accelerated version on CPU'"
      ]
     },
     "metadata": {},
     "output_type": "display_data"
    },
    {
     "data": {
      "text/plain": [
       "'Generation 0: -358.4481761455536'"
      ]
     },
     "metadata": {},
     "output_type": "display_data"
    },
    {
     "data": {
      "text/plain": [
       "'Generation 1: -358.4481761455536'"
      ]
     },
     "metadata": {},
     "output_type": "display_data"
    },
    {
     "data": {
      "text/plain": [
       "'Generation 2: -358.4481761455536'"
      ]
     },
     "metadata": {},
     "output_type": "display_data"
    },
    {
     "data": {
      "text/plain": [
       "'Generation 3: -358.4481761455536'"
      ]
     },
     "metadata": {},
     "output_type": "display_data"
    },
    {
     "data": {
      "text/plain": [
       "'Generation 4: -358.4481761455536'"
      ]
     },
     "metadata": {},
     "output_type": "display_data"
    },
    {
     "data": {
      "text/plain": [
       "'Generation 5: -358.4481761455536'"
      ]
     },
     "metadata": {},
     "output_type": "display_data"
    },
    {
     "data": {
      "text/plain": [
       "'Generation 6: -358.4481761455536'"
      ]
     },
     "metadata": {},
     "output_type": "display_data"
    },
    {
     "data": {
      "text/plain": [
       "'Generation 7: -358.4481761455536'"
      ]
     },
     "metadata": {},
     "output_type": "display_data"
    },
    {
     "data": {
      "text/plain": [
       "'Generation 8: -358.4481761455536'"
      ]
     },
     "metadata": {},
     "output_type": "display_data"
    },
    {
     "data": {
      "text/plain": [
       "'Generation 9: -358.4481761455536'"
      ]
     },
     "metadata": {},
     "output_type": "display_data"
    },
    {
     "data": {
      "text/plain": [
       "'Generation 10: -358.4481761455536'"
      ]
     },
     "metadata": {},
     "output_type": "display_data"
    },
    {
     "data": {
      "text/plain": [
       "'Generation 11: -358.4481761455536'"
      ]
     },
     "metadata": {},
     "output_type": "display_data"
    },
    {
     "data": {
      "text/plain": [
       "'Generation 12: -358.4481761455536'"
      ]
     },
     "metadata": {},
     "output_type": "display_data"
    },
    {
     "data": {
      "text/plain": [
       "'Generation 13: -358.4481761455536'"
      ]
     },
     "metadata": {},
     "output_type": "display_data"
    },
    {
     "data": {
      "text/plain": [
       "'Generation 14: -358.4481761455536'"
      ]
     },
     "metadata": {},
     "output_type": "display_data"
    },
    {
     "data": {
      "text/plain": [
       "'Generation 15: -358.4481761455536'"
      ]
     },
     "metadata": {},
     "output_type": "display_data"
    },
    {
     "data": {
      "text/plain": [
       "'Generation 16: -358.4481761455536'"
      ]
     },
     "metadata": {},
     "output_type": "display_data"
    },
    {
     "data": {
      "text/plain": [
       "'Generation 17: -358.4481761455536'"
      ]
     },
     "metadata": {},
     "output_type": "display_data"
    },
    {
     "data": {
      "text/plain": [
       "'Generation 18: -358.4481761455536'"
      ]
     },
     "metadata": {},
     "output_type": "display_data"
    },
    {
     "data": {
      "text/plain": [
       "'Generation 19: -358.4481761455536'"
      ]
     },
     "metadata": {},
     "output_type": "display_data"
    },
    {
     "data": {
      "text/plain": [
       "'Generation 20: -358.4481761455536'"
      ]
     },
     "metadata": {},
     "output_type": "display_data"
    },
    {
     "data": {
      "text/plain": [
       "'Generation 21: -358.4481761455536'"
      ]
     },
     "metadata": {},
     "output_type": "display_data"
    },
    {
     "data": {
      "text/plain": [
       "'Generation 22: -358.4481761455536'"
      ]
     },
     "metadata": {},
     "output_type": "display_data"
    },
    {
     "data": {
      "text/plain": [
       "'Generation 23: -358.4481761455536'"
      ]
     },
     "metadata": {},
     "output_type": "display_data"
    },
    {
     "data": {
      "text/plain": [
       "'Generation 24: -358.4481761455536'"
      ]
     },
     "metadata": {},
     "output_type": "display_data"
    },
    {
     "data": {
      "text/plain": [
       "'Generation 25: -358.4481761455536'"
      ]
     },
     "metadata": {},
     "output_type": "display_data"
    },
    {
     "data": {
      "text/plain": [
       "'Generation 26: -358.4481761455536'"
      ]
     },
     "metadata": {},
     "output_type": "display_data"
    },
    {
     "data": {
      "text/plain": [
       "'Generation 27: -358.4481761455536'"
      ]
     },
     "metadata": {},
     "output_type": "display_data"
    },
    {
     "data": {
      "text/plain": [
       "'Generation 28: -358.4481761455536'"
      ]
     },
     "metadata": {},
     "output_type": "display_data"
    },
    {
     "data": {
      "text/plain": [
       "'Generation 29: -358.4481761455536'"
      ]
     },
     "metadata": {},
     "output_type": "display_data"
    },
    {
     "data": {
      "text/plain": [
       "'Generation 30: -358.4481761455536'"
      ]
     },
     "metadata": {},
     "output_type": "display_data"
    },
    {
     "data": {
      "text/plain": [
       "'Generation 31: -358.4481761455536'"
      ]
     },
     "metadata": {},
     "output_type": "display_data"
    },
    {
     "data": {
      "text/plain": [
       "'Generation 32: -358.4481761455536'"
      ]
     },
     "metadata": {},
     "output_type": "display_data"
    },
    {
     "data": {
      "text/plain": [
       "'Generation 33: -358.4481761455536'"
      ]
     },
     "metadata": {},
     "output_type": "display_data"
    },
    {
     "data": {
      "text/plain": [
       "'Generation 34: -358.4481761455536'"
      ]
     },
     "metadata": {},
     "output_type": "display_data"
    },
    {
     "data": {
      "text/plain": [
       "'Generation 35: -358.4481761455536'"
      ]
     },
     "metadata": {},
     "output_type": "display_data"
    },
    {
     "data": {
      "text/plain": [
       "'Generation 36: -358.4481761455536'"
      ]
     },
     "metadata": {},
     "output_type": "display_data"
    },
    {
     "data": {
      "text/plain": [
       "'Generation 37: -358.4481761455536'"
      ]
     },
     "metadata": {},
     "output_type": "display_data"
    },
    {
     "data": {
      "text/plain": [
       "'Generation 38: -358.4481761455536'"
      ]
     },
     "metadata": {},
     "output_type": "display_data"
    },
    {
     "data": {
      "text/plain": [
       "'Generation 39: -358.4481761455536'"
      ]
     },
     "metadata": {},
     "output_type": "display_data"
    },
    {
     "data": {
      "text/plain": [
       "'Generation 40: -358.4481761455536'"
      ]
     },
     "metadata": {},
     "output_type": "display_data"
    },
    {
     "data": {
      "text/plain": [
       "'Generation 41: -358.4481761455536'"
      ]
     },
     "metadata": {},
     "output_type": "display_data"
    },
    {
     "data": {
      "text/plain": [
       "'Generation 42: -358.4481761455536'"
      ]
     },
     "metadata": {},
     "output_type": "display_data"
    },
    {
     "data": {
      "text/plain": [
       "'Generation 43: -358.4481761455536'"
      ]
     },
     "metadata": {},
     "output_type": "display_data"
    },
    {
     "data": {
      "text/plain": [
       "'Generation 44: -358.4481761455536'"
      ]
     },
     "metadata": {},
     "output_type": "display_data"
    },
    {
     "data": {
      "text/plain": [
       "'Generation 45: -358.4481761455536'"
      ]
     },
     "metadata": {},
     "output_type": "display_data"
    },
    {
     "data": {
      "text/plain": [
       "'Generation 46: -358.4481761455536'"
      ]
     },
     "metadata": {},
     "output_type": "display_data"
    },
    {
     "data": {
      "text/plain": [
       "'Generation 47: -358.4481761455536'"
      ]
     },
     "metadata": {},
     "output_type": "display_data"
    },
    {
     "data": {
      "text/plain": [
       "'Generation 48: -358.4481761455536'"
      ]
     },
     "metadata": {},
     "output_type": "display_data"
    },
    {
     "data": {
      "text/plain": [
       "'Generation 49: -358.4481761455536'"
      ]
     },
     "metadata": {},
     "output_type": "display_data"
    },
    {
     "data": {
      "text/plain": [
       "'Generation 50: -358.4481761455536'"
      ]
     },
     "metadata": {},
     "output_type": "display_data"
    },
    {
     "data": {
      "text/plain": [
       "'Generation 51: -358.4481761455536'"
      ]
     },
     "metadata": {},
     "output_type": "display_data"
    },
    {
     "data": {
      "text/plain": [
       "'Generation 52: -358.4481761455536'"
      ]
     },
     "metadata": {},
     "output_type": "display_data"
    },
    {
     "data": {
      "text/plain": [
       "'Generation 53: -358.4481761455536'"
      ]
     },
     "metadata": {},
     "output_type": "display_data"
    },
    {
     "data": {
      "text/plain": [
       "'Generation 54: -358.4481761455536'"
      ]
     },
     "metadata": {},
     "output_type": "display_data"
    },
    {
     "data": {
      "text/plain": [
       "'Generation 55: -358.4481761455536'"
      ]
     },
     "metadata": {},
     "output_type": "display_data"
    },
    {
     "data": {
      "text/plain": [
       "'Generation 56: -358.4481761455536'"
      ]
     },
     "metadata": {},
     "output_type": "display_data"
    },
    {
     "data": {
      "text/plain": [
       "'Generation 57: -358.4481761455536'"
      ]
     },
     "metadata": {},
     "output_type": "display_data"
    },
    {
     "data": {
      "text/plain": [
       "'Generation 58: -358.4481761455536'"
      ]
     },
     "metadata": {},
     "output_type": "display_data"
    },
    {
     "data": {
      "text/plain": [
       "'Generation 59: -358.4481761455536'"
      ]
     },
     "metadata": {},
     "output_type": "display_data"
    },
    {
     "data": {
      "text/plain": [
       "'Generation 60: -358.4481761455536'"
      ]
     },
     "metadata": {},
     "output_type": "display_data"
    },
    {
     "data": {
      "text/plain": [
       "'Generation 61: -358.4481761455536'"
      ]
     },
     "metadata": {},
     "output_type": "display_data"
    },
    {
     "data": {
      "text/plain": [
       "'Generation 62: -358.4481761455536'"
      ]
     },
     "metadata": {},
     "output_type": "display_data"
    },
    {
     "data": {
      "text/plain": [
       "'Generation 63: -358.4481761455536'"
      ]
     },
     "metadata": {},
     "output_type": "display_data"
    },
    {
     "data": {
      "text/plain": [
       "'Generation 64: -358.4481761455536'"
      ]
     },
     "metadata": {},
     "output_type": "display_data"
    },
    {
     "data": {
      "text/plain": [
       "'Generation 65: -358.4481761455536'"
      ]
     },
     "metadata": {},
     "output_type": "display_data"
    },
    {
     "data": {
      "text/plain": [
       "'Generation 66: -358.4481761455536'"
      ]
     },
     "metadata": {},
     "output_type": "display_data"
    },
    {
     "data": {
      "text/plain": [
       "'Generation 67: -358.4481761455536'"
      ]
     },
     "metadata": {},
     "output_type": "display_data"
    },
    {
     "data": {
      "text/plain": [
       "'Generation 68: -358.4481761455536'"
      ]
     },
     "metadata": {},
     "output_type": "display_data"
    },
    {
     "data": {
      "text/plain": [
       "'Generation 69: -358.4481761455536'"
      ]
     },
     "metadata": {},
     "output_type": "display_data"
    },
    {
     "data": {
      "text/plain": [
       "'Generation 70: -358.4481761455536'"
      ]
     },
     "metadata": {},
     "output_type": "display_data"
    },
    {
     "data": {
      "text/plain": [
       "'Generation 71: -358.4481761455536'"
      ]
     },
     "metadata": {},
     "output_type": "display_data"
    },
    {
     "data": {
      "text/plain": [
       "'Generation 72: -358.4481761455536'"
      ]
     },
     "metadata": {},
     "output_type": "display_data"
    },
    {
     "data": {
      "text/plain": [
       "'Generation 73: -358.4481761455536'"
      ]
     },
     "metadata": {},
     "output_type": "display_data"
    },
    {
     "data": {
      "text/plain": [
       "'Generation 74: -358.4481761455536'"
      ]
     },
     "metadata": {},
     "output_type": "display_data"
    },
    {
     "data": {
      "text/plain": [
       "'Generation 75: -358.4481761455536'"
      ]
     },
     "metadata": {},
     "output_type": "display_data"
    },
    {
     "data": {
      "text/plain": [
       "'Generation 76: -358.4481761455536'"
      ]
     },
     "metadata": {},
     "output_type": "display_data"
    },
    {
     "data": {
      "text/plain": [
       "'Generation 77: -358.4481761455536'"
      ]
     },
     "metadata": {},
     "output_type": "display_data"
    },
    {
     "data": {
      "text/plain": [
       "'Generation 78: -358.4481761455536'"
      ]
     },
     "metadata": {},
     "output_type": "display_data"
    },
    {
     "data": {
      "text/plain": [
       "'Generation 79: -358.4481761455536'"
      ]
     },
     "metadata": {},
     "output_type": "display_data"
    },
    {
     "data": {
      "text/plain": [
       "'Generation 80: -358.4481761455536'"
      ]
     },
     "metadata": {},
     "output_type": "display_data"
    },
    {
     "data": {
      "text/plain": [
       "'Generation 81: -358.4481761455536'"
      ]
     },
     "metadata": {},
     "output_type": "display_data"
    },
    {
     "data": {
      "text/plain": [
       "'Generation 82: -358.4481761455536'"
      ]
     },
     "metadata": {},
     "output_type": "display_data"
    },
    {
     "data": {
      "text/plain": [
       "'Generation 83: -358.4481761455536'"
      ]
     },
     "metadata": {},
     "output_type": "display_data"
    },
    {
     "data": {
      "text/plain": [
       "'Generation 84: -358.4481761455536'"
      ]
     },
     "metadata": {},
     "output_type": "display_data"
    },
    {
     "data": {
      "text/plain": [
       "'Generation 85: -358.4481761455536'"
      ]
     },
     "metadata": {},
     "output_type": "display_data"
    },
    {
     "data": {
      "text/plain": [
       "'Generation 86: -358.4481761455536'"
      ]
     },
     "metadata": {},
     "output_type": "display_data"
    },
    {
     "data": {
      "text/plain": [
       "'Generation 87: -358.4481761455536'"
      ]
     },
     "metadata": {},
     "output_type": "display_data"
    },
    {
     "data": {
      "text/plain": [
       "'Generation 88: -358.4481761455536'"
      ]
     },
     "metadata": {},
     "output_type": "display_data"
    },
    {
     "data": {
      "text/plain": [
       "'Generation 89: -358.4481761455536'"
      ]
     },
     "metadata": {},
     "output_type": "display_data"
    },
    {
     "data": {
      "text/plain": [
       "'Generation 90: -358.4481761455536'"
      ]
     },
     "metadata": {},
     "output_type": "display_data"
    },
    {
     "data": {
      "text/plain": [
       "'Generation 91: -358.4481761455536'"
      ]
     },
     "metadata": {},
     "output_type": "display_data"
    },
    {
     "data": {
      "text/plain": [
       "'Generation 92: -358.4481761455536'"
      ]
     },
     "metadata": {},
     "output_type": "display_data"
    },
    {
     "data": {
      "text/plain": [
       "'Generation 93: -358.4481761455536'"
      ]
     },
     "metadata": {},
     "output_type": "display_data"
    },
    {
     "data": {
      "text/plain": [
       "'Generation 94: -358.4481761455536'"
      ]
     },
     "metadata": {},
     "output_type": "display_data"
    },
    {
     "data": {
      "text/plain": [
       "'Generation 95: -358.4481761455536'"
      ]
     },
     "metadata": {},
     "output_type": "display_data"
    },
    {
     "data": {
      "text/plain": [
       "'Generation 96: -358.4481761455536'"
      ]
     },
     "metadata": {},
     "output_type": "display_data"
    },
    {
     "data": {
      "text/plain": [
       "'Generation 97: -358.4481761455536'"
      ]
     },
     "metadata": {},
     "output_type": "display_data"
    },
    {
     "data": {
      "text/plain": [
       "'Generation 98: -358.4481761455536'"
      ]
     },
     "metadata": {},
     "output_type": "display_data"
    },
    {
     "data": {
      "text/plain": [
       "'Generation 99: -358.4481761455536'"
      ]
     },
     "metadata": {},
     "output_type": "display_data"
    },
    {
     "data": {
      "text/plain": [
       "'score of all ind:[-358.4481761455536, -358.4481761455536, -358.4481761455536, -358.4481761455536, -358.4481761455536, -358.4481761455536, -358.4481761455536, -358.4481761455536, -358.4481761455536, -358.4481761455536, -358.4481761455536, -358.4481761455536, -358.4481761455536, -358.4481761455536, -358.4481761455536, -358.4481761455536, -358.4481761455536, -358.4481761455536, -358.4481761455536, -358.4481761455536, -358.4481761455536, -358.4481761455536, -358.4481761455536, -358.4481761455536, -358.4481761455536, -358.4481761455536, -358.4481761455536, -358.4481761455536, -358.4481761455536, -358.4481761455536, -358.4481761455536, -358.4481761455536, -358.4481761455536, -358.4481761455536, -358.4481761455536, -358.4481761455536, -358.4481761455536, -358.4481761455536, -358.4481761455536, -358.4481761455536, -358.4481761455536, -358.4481761455536, -358.4481761455536, -358.4481761455536, -358.4481761455536, -358.4481761455536, -358.4481761455536, -358.4481761455536, -358.4481761455536, -358.4481761455536, -358.4481761455536, -358.4481761455536, -358.4481761455536, -358.4481761455536, -358.4481761455536, -358.4481761455536, -358.4481761455536, -358.4481761455536, -358.4481761455536, -358.4481761455536, -358.4481761455536, -358.4481761455536, -358.4481761455536, -358.4481761455536, -358.4481761455536, -358.4481761455536, -358.4481761455536, -358.4481761455536, -358.4481761455536, -358.4481761455536, -358.4481761455536, -358.4481761455536, -358.4481761455536, -358.4481761455536, -358.4481761455536, -358.4481761455536, -358.4481761455536, -358.4481761455536, -358.4481761455536, -358.4481761455536, -358.4481761455536, -358.4481761455536, -358.4481761455536, -358.4481761455536, -358.4481761455536, -358.4481761455536, -358.4481761455536, -358.4481761455536, -358.4481761455536, -358.4481761455536, -358.4481761455536, -358.4481761455536, -358.4481761455536, -358.4481761455536, -358.4481761455536, -358.4481761455536, -358.4481761455536, -358.4481761455536, -358.4481761455536, -358.4481761455536, -430.92285346984863, -417.9279935359955, -358.4481761455536, -358.4481761455536, -417.9279935359955, -417.9279935359955, -358.4481761455536, -358.4481761455536, -473.5397140979767, -453.50473833084106, -358.4481761455536, -358.4481761455536, -433.38794922828674, -417.9077706336975, -358.4481761455536, -358.4481761455536, -425.05194544792175, -436.66912055015564, -358.4481761455536, -358.4481761455536, -433.38794922828674, -425.05194544792175, -358.4481761455536, -358.4481761455536, -483.63619589805603, -417.9279935359955, -358.4481761455536, -358.4481761455536, -436.66912055015564, -436.66912055015564, -358.4481761455536, -358.4481761455536, -433.38794922828674, -433.38794922828674, -358.4481761455536, -358.4481761455536, -425.05194544792175, -425.05194544792175, -358.4481761455536, -358.4481761455536, -417.9279935359955, -417.9077706336975, -358.4481761455536, -358.4481761455536, -417.9077706336975, -358.4481761455536, -358.4481761455536, -358.4481761455536, -433.38794922828674, -403.3360731601715, -358.4481761455536, -358.4481761455536, -417.9077706336975, -420.8263716697693, -358.4481761455536, -358.4481761455536, -433.38794922828674, -440.5098783969879, -358.4481761455536, -358.4481761455536, -436.66912055015564, -430.92285346984863, -358.4481761455536, -358.4481761455536, -425.05194544792175, -417.9077706336975, -358.4481761455536, -358.4481761455536, -433.38794922828674, -396.37353444099426, -358.4481761455536, -358.4481761455536, -426.5726387500763, -425.05194544792175, -358.4481761455536, -358.4481761455536, -358.4481761455536, -440.5098783969879, -358.4481761455536, -358.4481761455536, -417.9077706336975, -403.3360731601715, -358.4481761455536, -358.4481761455536, -417.9279935359955, -433.38794922828674, -358.4481761455536, -358.4481761455536, -420.8263716697693, -420.8263716697693, -358.4481761455536, -358.4481761455536, -417.9279935359955, -433.38794922828674, -358.4481761455536, -358.4481761455536, -396.37353444099426, -417.9279935359955, -358.4481761455536, -358.4481761455536, -460.57040667533875, -416.897390127182, -358.4481761455536, -358.4481761455536, -473.65267515182495, -436.66912055015564, -358.4481761455536, -358.4481761455536, -425.05194544792175, -433.38794922828674, -358.4481761455536, -358.4481761455536, -396.37353444099426, -417.9279935359955, -358.4481761455536, -358.4481761455536, -403.3360731601715, -425.05194544792175, -358.4481761455536, -358.4481761455536, -423.2914674282074, -425.05194544792175, -358.4481761455536, -358.4481761455536, -423.2914674282074, -416.897390127182, -358.4481761455536, -358.4481761455536, -436.66912055015564, -413.43255496025085, -358.4481761455536, -358.4481761455536, -417.9077706336975, -453.50473833084106, -358.4481761455536, -358.4481761455536, -417.9077706336975, -430.92285346984863, -358.4481761455536, -358.4481761455536, -417.9279935359955, -433.38794922828674, -358.4481761455536, -358.4481761455536, -416.897390127182, -417.9279935359955, -358.4481761455536, -358.4481761455536, -426.26570224761963, -403.3360731601715, -358.4481761455536, -358.4481761455536, -425.05194544792175, -420.8263716697693, -358.4481761455536, -358.4481761455536, -420.8263716697693, -403.3360731601715, -358.4481761455536, -358.4481761455536, -430.92285346984863, -423.2914674282074, -358.4481761455536, -358.4481761455536, -416.897390127182, -433.38794922828674, -358.4481761455536, -358.4481761455536, -426.5726387500763, -426.5726387500763, -358.4481761455536, -358.4481761455536, -396.37353444099426, -396.37353444099426, -358.4481761455536, -358.4481761455536, -436.66912055015564, -416.897390127182, -358.4481761455536, -358.4481761455536, -433.38794922828674, -417.9279935359955, -358.4481761455536, -358.4481761455536, -436.66912055015564, -396.37353444099426, -358.4481761455536, -358.4481761455536, -433.38794922828674, -427.89204001426697, -358.4481761455536, -358.4481761455536, -447.6338303089142, -417.9279935359955, -358.4481761455536, -358.4481761455536, -426.5726387500763, -426.26570224761963, -358.4481761455536, -358.4481761455536]'"
      ]
     },
     "metadata": {},
     "output_type": "display_data"
    },
    {
     "data": {
      "text/plain": [
       "\"Best ind:individual(individual_id=20204, tasks_nums={'run_calculator': 20, 'train': 0, 'evaluate': 0, 'run_sampling': 0}, total_resources={'cpu': 56, 'gpu': 4, 'memory': '128G'}, total_time=0, max_time=0, score=-358.4481761455536, predict_run_seq=[{'name': 'run_calculator', 'task_id': '12a2fac2-49e6-435b-b065-fa47626d1528', 'start_time': 1711040952.3539863, 'finish_time': 1711041310.8021624, 'total_runtime': 358.4481761455536, 'resources': {'cpu': 1}}, {'name': 'run_calculator', 'task_id': '5f1bc92b-3e2b-4a1e-9d34-fd7255830efc', 'start_time': 1711040952.3539863, 'finish_time': 1711041195.7127078, 'total_runtime': 243.35872149467468, 'resources': {'cpu': 6}}, {'name': 'run_calculator', 'task_id': '030d66fc-76af-4657-a4d9-3ab121958991', 'start_time': 1711040952.3539863, 'finish_time': 1711041245.2627015, 'total_runtime': 292.9087152481079, 'resources': {'cpu': 5}}, {'name': 'run_calculator', 'task_id': '7860597e-be33-4445-88ee-00797daccda6', 'start_time': 1711040952.3539863, 'finish_time': 1711041095.4597108, 'total_runtime': 143.10572457313538, 'resources': {'cpu': 6}}, {'name': 'run_calculator', 'task_id': '3dd43b50-9bb2-4fc1-88bc-c001b8129761', 'start_time': 1711040952.3539863, 'finish_time': 1711041120.0156777, 'total_runtime': 167.66169142723083, 'resources': {'cpu': 6}}, {'name': 'run_calculator', 'task_id': '33a5453f-c4ff-4576-9c27-04b1488c9859', 'start_time': 1711040952.3539863, 'finish_time': 1711041225.055284, 'total_runtime': 272.70129776000977, 'resources': {'cpu': 4}}, {'name': 'run_calculator', 'task_id': '1fe68e79-6181-41f4-8a74-51ed3c513966', 'start_time': 1711040952.3539863, 'finish_time': 1711041225.1101048, 'total_runtime': 272.7561185359955, 'resources': {'cpu': 3}}, {'name': 'run_calculator', 'task_id': '5b098791-9c9f-469f-b270-d4c7bd05cc68', 'start_time': 1711040952.3539863, 'finish_time': 1711041088.497172, 'total_runtime': 136.14318585395813, 'resources': {'cpu': 1}}, {'name': 'run_calculator', 'task_id': '7271c5f4-c8a5-4eeb-a565-ce1ff70ee197', 'start_time': 1711040952.3539863, 'finish_time': 1711041251.8752322, 'total_runtime': 299.5212459564209, 'resources': {'cpu': 2}}, {'name': 'run_calculator', 'task_id': '7a9464b8-bf98-440d-bdbb-25849fa64b95', 'start_time': 1711040952.3539863, 'finish_time': 1711041237.6227913, 'total_runtime': 285.26880502700806, 'resources': {'cpu': 1}}, {'name': 'run_calculator', 'task_id': '1c666824-a0ba-4929-a598-85303b29bb47', 'start_time': 1711040952.3539863, 'finish_time': 1711041237.6227913, 'total_runtime': 285.26880502700806, 'resources': {'cpu': 1}}, {'name': 'run_calculator', 'task_id': 'ca0239df-3870-41a4-8617-088292d84f1f', 'start_time': 1711040952.3539863, 'finish_time': 1711040952.3539863, 'total_runtime': 0.0, 'resources': {'cpu': 1}}, {'name': 'run_calculator', 'task_id': 'cfa69881-1b95-44c8-aac1-60aee3a8ee01', 'start_time': 1711040952.3539863, 'finish_time': 1711041161.554067, 'total_runtime': 209.20008063316345, 'resources': {'cpu': 7}}, {'name': 'run_calculator', 'task_id': 'e6b60572-5640-4afa-8b57-7e54e72d853e', 'start_time': 1711040952.3539863, 'finish_time': 1711041161.554067, 'total_runtime': 209.20008063316345, 'resources': {'cpu': 7}}, {'name': 'run_calculator', 'task_id': '7d033b69-6974-4c93-b4d5-029bcfbacf89', 'start_time': 1711040952.3539863, 'finish_time': 1711041222.6808167, 'total_runtime': 270.3268303871155, 'resources': {'cpu': 1}}, {'name': 'run_calculator', 'task_id': 'a5514fb2-6ac0-4e28-98b6-ed374c79755b', 'start_time': 1711040952.3539863, 'finish_time': 1711041222.6808167, 'total_runtime': 270.3268303871155, 'resources': {'cpu': 1}}, {'name': 'run_calculator', 'task_id': 'e861b4ce-59ef-43d5-9c6b-7ca99f26b6d5', 'start_time': 1711040952.3539863, 'finish_time': 1711041222.6808167, 'total_runtime': 270.3268303871155, 'resources': {'cpu': 1}}, {'name': 'run_calculator', 'task_id': 'eab08b85-6fa8-440e-9d2c-9fe27b2234c4', 'start_time': 1711040952.3539863, 'finish_time': 1711041212.5843349, 'total_runtime': 260.23034858703613, 'resources': {'cpu': 1}}, {'name': 'run_calculator', 'task_id': '3ed46129-78a4-4522-ac2d-adbd3a30e0fe', 'start_time': 1711040952.3539863, 'finish_time': 1711041212.5843349, 'total_runtime': 260.23034858703613, 'resources': {'cpu': 1}}, {'name': 'run_calculator', 'task_id': '8000f8f2-31dd-433b-a180-b236eea45cd9', 'start_time': 1711041118.6962764, 'finish_time': 1711041273.4213915, 'total_runtime': 154.72511506080627, 'resources': {'cpu': 7}}], task_allocation=[{'name': 'run_calculator', 'task_id': '12a2fac2-49e6-435b-b065-fa47626d1528', 'resources': {'cpu': 1}, 'total_runtime': 358.4481760846666}, {'name': 'run_calculator', 'task_id': '5f1bc92b-3e2b-4a1e-9d34-fd7255830efc', 'resources': {'cpu': 6}, 'total_runtime': 243.35872156638055}, {'name': 'run_calculator', 'task_id': '030d66fc-76af-4657-a4d9-3ab121958991', 'resources': {'cpu': 5}, 'total_runtime': 292.9087151354445}, {'name': 'run_calculator', 'task_id': '7860597e-be33-4445-88ee-00797daccda6', 'resources': {'cpu': 6}, 'total_runtime': 166.34229022388973}, {'name': 'run_calculator', 'task_id': '3dd43b50-9bb2-4fc1-88bc-c001b8129761', 'resources': {'cpu': 6}, 'total_runtime': 167.66169149612543}, {'name': 'run_calculator', 'task_id': '33a5453f-c4ff-4576-9c27-04b1488c9859', 'resources': {'cpu': 4}, 'total_runtime': 272.70129784416423}, {'name': 'run_calculator', 'task_id': '1fe68e79-6181-41f4-8a74-51ed3c513966', 'resources': {'cpu': 3}, 'total_runtime': 272.756118617515}, {'name': 'run_calculator', 'task_id': '5b098791-9c9f-469f-b270-d4c7bd05cc68', 'resources': {'cpu': 1}, 'total_runtime': 143.1057245972799}, {'name': 'run_calculator', 'task_id': '7271c5f4-c8a5-4eeb-a565-ce1ff70ee197', 'resources': {'cpu': 2}, 'total_runtime': 299.5212459472044}, {'name': 'run_calculator', 'task_id': '7a9464b8-bf98-440d-bdbb-25849fa64b95', 'resources': {'cpu': 1}, 'total_runtime': 285.2688049357655}, {'name': 'run_calculator', 'task_id': '1c666824-a0ba-4929-a598-85303b29bb47', 'resources': {'cpu': 1}, 'total_runtime': 285.2688049357655}, {'name': 'run_calculator', 'task_id': 'ca0239df-3870-41a4-8617-088292d84f1f', 'resources': {'cpu': 1}, 'total_runtime': 136.14318593261822}, {'name': 'run_calculator', 'task_id': 'cfa69881-1b95-44c8-aac1-60aee3a8ee01', 'resources': {'cpu': 7}, 'total_runtime': 209.20008061965964}, {'name': 'run_calculator', 'task_id': 'e6b60572-5640-4afa-8b57-7e54e72d853e', 'resources': {'cpu': 7}, 'total_runtime': 209.20008061965964}, {'name': 'run_calculator', 'task_id': '7d033b69-6974-4c93-b4d5-029bcfbacf89', 'resources': {'cpu': 1}, 'total_runtime': 270.3268304230463}, {'name': 'run_calculator', 'task_id': 'a5514fb2-6ac0-4e28-98b6-ed374c79755b', 'resources': {'cpu': 1}, 'total_runtime': 270.3268304230463}, {'name': 'run_calculator', 'task_id': 'e861b4ce-59ef-43d5-9c6b-7ca99f26b6d5', 'resources': {'cpu': 1}, 'total_runtime': 270.3268304230463}, {'name': 'run_calculator', 'task_id': 'eab08b85-6fa8-440e-9d2c-9fe27b2234c4', 'resources': {'cpu': 1}, 'total_runtime': 260.2303486073963}, {'name': 'run_calculator', 'task_id': '3ed46129-78a4-4522-ac2d-adbd3a30e0fe', 'resources': {'cpu': 1}, 'total_runtime': 260.2303486073963}, {'name': 'run_calculator', 'task_id': '8000f8f2-31dd-433b-a180-b236eea45cd9', 'resources': {'cpu': 7}, 'total_runtime': 154.72511513281816}])\""
      ]
     },
     "metadata": {},
     "output_type": "display_data"
    },
    {
     "name": "stdout",
     "output_type": "stream",
     "text": [
      "individual(individual_id=20204, tasks_nums={'run_calculator': 20, 'train': 0, 'evaluate': 0, 'run_sampling': 0}, total_resources={'cpu': 56, 'gpu': 4, 'memory': '128G'}, total_time=0, max_time=0, score=-358.4481761455536, predict_run_seq=[{'name': 'run_calculator', 'task_id': '12a2fac2-49e6-435b-b065-fa47626d1528', 'start_time': 1711040952.3539863, 'finish_time': 1711041310.8021624, 'total_runtime': 358.4481761455536, 'resources': {'cpu': 1}}, {'name': 'run_calculator', 'task_id': '5f1bc92b-3e2b-4a1e-9d34-fd7255830efc', 'start_time': 1711040952.3539863, 'finish_time': 1711041195.7127078, 'total_runtime': 243.35872149467468, 'resources': {'cpu': 6}}, {'name': 'run_calculator', 'task_id': '030d66fc-76af-4657-a4d9-3ab121958991', 'start_time': 1711040952.3539863, 'finish_time': 1711041245.2627015, 'total_runtime': 292.9087152481079, 'resources': {'cpu': 5}}, {'name': 'run_calculator', 'task_id': '7860597e-be33-4445-88ee-00797daccda6', 'start_time': 1711040952.3539863, 'finish_time': 1711041095.4597108, 'total_runtime': 143.10572457313538, 'resources': {'cpu': 6}}, {'name': 'run_calculator', 'task_id': '3dd43b50-9bb2-4fc1-88bc-c001b8129761', 'start_time': 1711040952.3539863, 'finish_time': 1711041120.0156777, 'total_runtime': 167.66169142723083, 'resources': {'cpu': 6}}, {'name': 'run_calculator', 'task_id': '33a5453f-c4ff-4576-9c27-04b1488c9859', 'start_time': 1711040952.3539863, 'finish_time': 1711041225.055284, 'total_runtime': 272.70129776000977, 'resources': {'cpu': 4}}, {'name': 'run_calculator', 'task_id': '1fe68e79-6181-41f4-8a74-51ed3c513966', 'start_time': 1711040952.3539863, 'finish_time': 1711041225.1101048, 'total_runtime': 272.7561185359955, 'resources': {'cpu': 3}}, {'name': 'run_calculator', 'task_id': '5b098791-9c9f-469f-b270-d4c7bd05cc68', 'start_time': 1711040952.3539863, 'finish_time': 1711041088.497172, 'total_runtime': 136.14318585395813, 'resources': {'cpu': 1}}, {'name': 'run_calculator', 'task_id': '7271c5f4-c8a5-4eeb-a565-ce1ff70ee197', 'start_time': 1711040952.3539863, 'finish_time': 1711041251.8752322, 'total_runtime': 299.5212459564209, 'resources': {'cpu': 2}}, {'name': 'run_calculator', 'task_id': '7a9464b8-bf98-440d-bdbb-25849fa64b95', 'start_time': 1711040952.3539863, 'finish_time': 1711041237.6227913, 'total_runtime': 285.26880502700806, 'resources': {'cpu': 1}}, {'name': 'run_calculator', 'task_id': '1c666824-a0ba-4929-a598-85303b29bb47', 'start_time': 1711040952.3539863, 'finish_time': 1711041237.6227913, 'total_runtime': 285.26880502700806, 'resources': {'cpu': 1}}, {'name': 'run_calculator', 'task_id': 'ca0239df-3870-41a4-8617-088292d84f1f', 'start_time': 1711040952.3539863, 'finish_time': 1711040952.3539863, 'total_runtime': 0.0, 'resources': {'cpu': 1}}, {'name': 'run_calculator', 'task_id': 'cfa69881-1b95-44c8-aac1-60aee3a8ee01', 'start_time': 1711040952.3539863, 'finish_time': 1711041161.554067, 'total_runtime': 209.20008063316345, 'resources': {'cpu': 7}}, {'name': 'run_calculator', 'task_id': 'e6b60572-5640-4afa-8b57-7e54e72d853e', 'start_time': 1711040952.3539863, 'finish_time': 1711041161.554067, 'total_runtime': 209.20008063316345, 'resources': {'cpu': 7}}, {'name': 'run_calculator', 'task_id': '7d033b69-6974-4c93-b4d5-029bcfbacf89', 'start_time': 1711040952.3539863, 'finish_time': 1711041222.6808167, 'total_runtime': 270.3268303871155, 'resources': {'cpu': 1}}, {'name': 'run_calculator', 'task_id': 'a5514fb2-6ac0-4e28-98b6-ed374c79755b', 'start_time': 1711040952.3539863, 'finish_time': 1711041222.6808167, 'total_runtime': 270.3268303871155, 'resources': {'cpu': 1}}, {'name': 'run_calculator', 'task_id': 'e861b4ce-59ef-43d5-9c6b-7ca99f26b6d5', 'start_time': 1711040952.3539863, 'finish_time': 1711041222.6808167, 'total_runtime': 270.3268303871155, 'resources': {'cpu': 1}}, {'name': 'run_calculator', 'task_id': 'eab08b85-6fa8-440e-9d2c-9fe27b2234c4', 'start_time': 1711040952.3539863, 'finish_time': 1711041212.5843349, 'total_runtime': 260.23034858703613, 'resources': {'cpu': 1}}, {'name': 'run_calculator', 'task_id': '3ed46129-78a4-4522-ac2d-adbd3a30e0fe', 'start_time': 1711040952.3539863, 'finish_time': 1711041212.5843349, 'total_runtime': 260.23034858703613, 'resources': {'cpu': 1}}, {'name': 'run_calculator', 'task_id': '8000f8f2-31dd-433b-a180-b236eea45cd9', 'start_time': 1711041118.6962764, 'finish_time': 1711041273.4213915, 'total_runtime': 154.72511506080627, 'resources': {'cpu': 7}}], task_allocation=[{'name': 'run_calculator', 'task_id': '12a2fac2-49e6-435b-b065-fa47626d1528', 'resources': {'cpu': 1}, 'total_runtime': 358.4481760846666}, {'name': 'run_calculator', 'task_id': '5f1bc92b-3e2b-4a1e-9d34-fd7255830efc', 'resources': {'cpu': 6}, 'total_runtime': 243.35872156638055}, {'name': 'run_calculator', 'task_id': '030d66fc-76af-4657-a4d9-3ab121958991', 'resources': {'cpu': 5}, 'total_runtime': 292.9087151354445}, {'name': 'run_calculator', 'task_id': '7860597e-be33-4445-88ee-00797daccda6', 'resources': {'cpu': 6}, 'total_runtime': 166.34229022388973}, {'name': 'run_calculator', 'task_id': '3dd43b50-9bb2-4fc1-88bc-c001b8129761', 'resources': {'cpu': 6}, 'total_runtime': 167.66169149612543}, {'name': 'run_calculator', 'task_id': '33a5453f-c4ff-4576-9c27-04b1488c9859', 'resources': {'cpu': 4}, 'total_runtime': 272.70129784416423}, {'name': 'run_calculator', 'task_id': '1fe68e79-6181-41f4-8a74-51ed3c513966', 'resources': {'cpu': 3}, 'total_runtime': 272.756118617515}, {'name': 'run_calculator', 'task_id': '5b098791-9c9f-469f-b270-d4c7bd05cc68', 'resources': {'cpu': 1}, 'total_runtime': 143.1057245972799}, {'name': 'run_calculator', 'task_id': '7271c5f4-c8a5-4eeb-a565-ce1ff70ee197', 'resources': {'cpu': 2}, 'total_runtime': 299.5212459472044}, {'name': 'run_calculator', 'task_id': '7a9464b8-bf98-440d-bdbb-25849fa64b95', 'resources': {'cpu': 1}, 'total_runtime': 285.2688049357655}, {'name': 'run_calculator', 'task_id': '1c666824-a0ba-4929-a598-85303b29bb47', 'resources': {'cpu': 1}, 'total_runtime': 285.2688049357655}, {'name': 'run_calculator', 'task_id': 'ca0239df-3870-41a4-8617-088292d84f1f', 'resources': {'cpu': 1}, 'total_runtime': 136.14318593261822}, {'name': 'run_calculator', 'task_id': 'cfa69881-1b95-44c8-aac1-60aee3a8ee01', 'resources': {'cpu': 7}, 'total_runtime': 209.20008061965964}, {'name': 'run_calculator', 'task_id': 'e6b60572-5640-4afa-8b57-7e54e72d853e', 'resources': {'cpu': 7}, 'total_runtime': 209.20008061965964}, {'name': 'run_calculator', 'task_id': '7d033b69-6974-4c93-b4d5-029bcfbacf89', 'resources': {'cpu': 1}, 'total_runtime': 270.3268304230463}, {'name': 'run_calculator', 'task_id': 'a5514fb2-6ac0-4e28-98b6-ed374c79755b', 'resources': {'cpu': 1}, 'total_runtime': 270.3268304230463}, {'name': 'run_calculator', 'task_id': 'e861b4ce-59ef-43d5-9c6b-7ca99f26b6d5', 'resources': {'cpu': 1}, 'total_runtime': 270.3268304230463}, {'name': 'run_calculator', 'task_id': 'eab08b85-6fa8-440e-9d2c-9fe27b2234c4', 'resources': {'cpu': 1}, 'total_runtime': 260.2303486073963}, {'name': 'run_calculator', 'task_id': '3ed46129-78a4-4522-ac2d-adbd3a30e0fe', 'resources': {'cpu': 1}, 'total_runtime': 260.2303486073963}, {'name': 'run_calculator', 'task_id': '8000f8f2-31dd-433b-a180-b236eea45cd9', 'resources': {'cpu': 7}, 'total_runtime': 154.72511513281816}])\n"
     ]
    }
   ],
   "source": [
    "best_ind = tq.evosch.run_ga(100)\n",
    "print(best_ind)"
   ]
  },
  {
   "cell_type": "code",
   "execution_count": 5,
   "metadata": {},
   "outputs": [
    {
     "name": "stdout",
     "output_type": "stream",
     "text": [
      "{'cpu': 1} 358.4481760846666\n",
      "{'cpu': 2} 299.5212459472044\n",
      "{'cpu': 5} 292.9087151354445\n",
      "{'cpu': 1} 285.2688049357655\n",
      "{'cpu': 1} 285.2688049357655\n",
      "{'cpu': 3} 272.756118617515\n",
      "{'cpu': 4} 272.70129784416423\n",
      "{'cpu': 1} 270.3268304230463\n",
      "{'cpu': 1} 270.3268304230463\n",
      "{'cpu': 1} 270.3268304230463\n",
      "{'cpu': 1} 260.2303486073963\n",
      "{'cpu': 1} 260.2303486073963\n",
      "{'cpu': 6} 243.35872156638055\n",
      "{'cpu': 7} 209.20008061965964\n",
      "{'cpu': 7} 209.20008061965964\n",
      "{'cpu': 6} 167.66169149612543\n",
      "{'cpu': 6} 166.34229022388973\n",
      "{'cpu': 7} 154.72511513281816\n",
      "{'cpu': 1} 143.1057245972799\n",
      "{'cpu': 1} 136.14318593261822\n",
      "cost toatl cpu:63\n"
     ]
    }
   ],
   "source": [
    "task_allocation = best_ind.task_allocation\n",
    "task_allocation.sort(key=lambda x:x['total_runtime'], reverse=True)\n",
    "cpus = 0\n",
    "for task in task_allocation:\n",
    "    cpus += task['resources']['cpu']\n",
    "    print(task[\"resources\"],task[\"total_runtime\"])\n",
    "    \n",
    "print(f\"cost toatl cpu:{cpus}\")\n",
    "\n"
   ]
  },
  {
   "cell_type": "code",
   "execution_count": 21,
   "metadata": {},
   "outputs": [
    {
     "name": "stdout",
     "output_type": "stream",
     "text": [
      "<class 'NoneType'>\n"
     ]
    }
   ],
   "source": [
    "task_allocation = sorted(predifine_ind.predict_run_seq, key=lambda x:x['total_runtime'], reverse=True)\n",
    "print(type(predifine_ind.predict_run_seq.sort(key=lambda x:x['total_runtime'], reverse=True)))"
   ]
  },
  {
   "cell_type": "code",
   "execution_count": 9,
   "metadata": {},
   "outputs": [
    {
     "name": "stdout",
     "output_type": "stream",
     "text": [
      "0\n"
     ]
    }
   ],
   "source": [
    "print(8%2)"
   ]
  }
 ],
 "metadata": {
  "kernelspec": {
   "display_name": "multisite",
   "language": "python",
   "name": "python3"
  },
  "language_info": {
   "codemirror_mode": {
    "name": "ipython",
    "version": 3
   },
   "file_extension": ".py",
   "mimetype": "text/x-python",
   "name": "python",
   "nbconvert_exporter": "python",
   "pygments_lexer": "ipython3",
   "version": "3.9.16"
  }
 },
 "nbformat": 4,
 "nbformat_minor": 2
}
