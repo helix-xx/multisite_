{
 "cells": [
  {
   "cell_type": "code",
   "execution_count": null,
   "metadata": {},
   "outputs": [],
   "source": [
    "import numpy as np\n",
    "from ase.db import connect\n",
    "# 连接到数据库文件\n",
    "# conn = sqlite3.connect('/home/lizz_lab/cse12232433/project/colmena/multisite_/data/forcefields/starting-model/initial-database.db')\n",
    "\n",
    "count = 0\n",
    "nums = 0\n",
    "# with connect('/home/lizz_lab/cse12232433/project/colmena/multisite_/data/forcefields/starting-model/initial-database.db') as db:\n",
    "db = connect('/home/lizz_lab/cse12232433/project/colmena/multisite_/data/forcefields/starting-model/initial-database.db')\n",
    "nums = len(db)\n",
    "data = list(db.select())\n",
    "print(f\"nums of db: {nums}\")\n",
    "# 打印前十行数据\n",
    "print(\"First ten rows:\")\n",
    "for row in data[:10]:\n",
    "    print(f\"Row : {row}\")\n",
    "    \n",
    "all_examples = np.array([x.toatoms() for x in db.select(\"\")], dtype=object)\n",
    "\n",
    "        \n",
    "print(count)\n",
    "print(nums)\n",
    "\n"
   ]
  },
  {
   "cell_type": "code",
   "execution_count": null,
   "metadata": {},
   "outputs": [],
   "source": [
    "## get a small db\n",
    "from dataclasses import dataclass\n",
    "from ase.db import connect\n",
    "import ase\n",
    "@dataclass\n",
    "class Trajectory:\n",
    "    \"\"\"Tracks the state of searching along individual trajectories\n",
    "\n",
    "    We mark the starting point, the last point produced from sampling,\n",
    "    and the last point we produced that has been validated\n",
    "    \"\"\"\n",
    "    id: int  # ID number of the\n",
    "    starting: ase.Atoms  # Starting point of the trajectory\n",
    "    current_timestep = 0  # How many timesteps have been used so far\n",
    "    last_validated: ase.Atoms = None  # Last validated point on the trajectory\n",
    "    current: ase.Atoms = None  # Last point produced along the trajectory\n",
    "    last_run_length: int = 0  # How long between current and last_validated\n",
    "    name: str = None  # Name of the trajectory\n",
    "\n",
    "    def __post_init__(self):\n",
    "        self.last_validated = self.current = self.starting\n",
    "\n",
    "    def update_current_structure(self, strc: ase.Atoms, run_length: int):\n",
    "        \"\"\"Update the structure that has yet to be updated\n",
    "\n",
    "        Args:\n",
    "            strc: Structure produced by sampling\n",
    "            run_length: How many timesteps were performed in sampling run\n",
    "        \"\"\"\n",
    "        self.current = strc.copy()\n",
    "        self.last_run_length = run_length\n",
    "\n",
    "    def set_validation(self, success: bool):\n",
    "        \"\"\"Set whether the trajectory was successfully validated\n",
    "\n",
    "        Args:\n",
    "            success: Whether the validation was successful\n",
    "        \"\"\"\n",
    "        if success:\n",
    "            self.last_validated = self.current  # Move the last validated forward\n",
    "            self.current_timestep += self.last_run_length"
   ]
  },
  {
   "cell_type": "code",
   "execution_count": null,
   "metadata": {},
   "outputs": [],
   "source": [
    "db = connect('/home/lizz_lab/cse12232433/project/colmena/multisite_/data/forcefields/starting-model/initial-database.db')\n",
    "\n",
    "search_space = [Trajectory(i, x.toatoms(), name=x.get('filename', f'traj-{i}')) for i, x in enumerate(db.select(''))]\n"
   ]
  },
  {
   "cell_type": "code",
   "execution_count": null,
   "metadata": {},
   "outputs": [],
   "source": [
    "print(len(search_space))\n",
    "print(search_space[0])\n",
    "print(search_space[-1])"
   ]
  }
 ],
 "metadata": {
  "kernelspec": {
   "display_name": "multisite",
   "language": "python",
   "name": "python3"
  },
  "language_info": {
   "codemirror_mode": {
    "name": "ipython",
    "version": 3
   },
   "file_extension": ".py",
   "mimetype": "text/x-python",
   "name": "python",
   "nbconvert_exporter": "python",
   "pygments_lexer": "ipython3",
   "version": "3.9.16"
  },
  "orig_nbformat": 4
 },
 "nbformat": 4,
 "nbformat_minor": 2
}
